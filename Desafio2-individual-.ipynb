{
 "cells": [
  {
   "cell_type": "markdown",
   "metadata": {},
   "source": [
    "# Desafio 2 - Parte Individual"
   ]
  },
  {
   "cell_type": "markdown",
   "metadata": {},
   "source": [
    "**Perguntas (Obrigatório):**\n",
    "\n",
    "1) Pense na Hipótese de 2 universidades A e B onde X é a média de notas delas e elas tem exatamente os mesmos cursos. É possível que A_X > B_X e TODOS os cursos de B sejam melhores (notas maiores) que os de A? Explique (não são necessários códigos, apenas a explicação). Dica: paradoxo de simpson.\n",
    "\n",
    "2) Rode uma regressão multipla que use, entre outras, a carga horária de um curso como variavel independente para explicar a idade dos alunos formados.\n",
    "\n",
    "3) Qual a probabilidade de pegarmos um professor ao acaso no Brasil e ele ter mais do que o dobro da sua idade dado que ele é homem.\n",
    "\n",
    "Obs: Não usar informações que não estejam na pasta Desafios nas partes Obrigatórias"
   ]
  },
  {
   "cell_type": "markdown",
   "metadata": {},
   "source": [
    "## Resposta 1"
   ]
  },
  {
   "cell_type": "markdown",
   "metadata": {},
   "source": [
    "Sim, é possível que a média 'A_X' de notas da Universidade A seja maior que a média 'B_X' de notas da Universidade B, mesmo que TODOS os cursos da Universidade B tenham notas maiores que os cursos da Universidade A.\n",
    "\n",
    "Isso pode ocorrer como explicado no Paradoxo de Simpson.\n",
    "\n",
    "Ref. Simpson’s Paradox: How to Prove Opposite Arguments with the Same Data\n",
    "\n",
    "https://towardsdatascience.com/simpsons-paradox-how-to-prove-two-opposite-arguments-using-one-dataset-1c9c917f5ff9"
   ]
  },
  {
   "cell_type": "markdown",
   "metadata": {},
   "source": [
    "Explicação:\n",
    "\n",
    "Uma possível explicação seria o fato de que não está sendo levado em consideração algum dado, como por exemplo o tamanho de cada amostra, e como foi feito o processo de classificação das universidades e dos cursos, em resumo, como estas notas foram determinadas.\n",
    "\n",
    "Para efeito de um exemplo, podemos considerar que as notas dos cursos e das Universidades vêm dos próprios alunos. Assim aqueles que tiveram um bom curso deram boas notas tanto para o curso que realizaram como para a Universidade. E o mesmo ocorreria em caso contrário.\n",
    "\n",
    "Assim, baseado nesta afirmação, poderíamos exemplificar com alguns números."
   ]
  },
  {
   "cell_type": "markdown",
   "metadata": {},
   "source": [
    "Hipóteses:\n",
    "\n",
    "- Universidade A e Universiade B tem os mesmos cursos F e G\n",
    "- Universidade A -> curso F com 800 alunos / curso G com 3200 alunos (Total de alunos Universidade A = 4.000)\n",
    "- Universidade B -> curso F com 300 alunos / curso G com 100 alunos (Total de alunos Universidade B = 400)\n",
    "- Média de notas para Universidade A -> A_X\n",
    "- Média de notas para Universidade B -> B_X\n",
    "- Média de notas para o curso F na Universidade A -> F_A_X\n",
    "- Média de notas para o curso G na Universidade A -> G_A_X\n",
    "- Média de notas para o curso F na Universidade B -> F_B_X\n",
    "- Média de notas para o curso G na Universidade B -> G_B_X\n",
    "\n",
    "Definições do problema:\n",
    "\n",
    "- TODOS os cursos da Universidade B tem notas maiores que os cursos da Universidade A (F_B_X > F_A_X e G_B_X > G_A_X).\n",
    "- Provar que é possível que a nota da Universidade A pode ser maior que a nota da Universidade B (A_X > B_X).\n",
    "\n",
    "Solução:\n",
    "\n",
    "Assumindo como exemplo:\n",
    "\n",
    "- F_B_X = 7 > F_A_X = 6\n",
    "- G_B_X = 9.5 > G_A_X = 9\n",
    "\n",
    "Cálculo da média de nota por Universidade:\n",
    "\n",
    "- A_X = ( (800 alunos x nota do curso F) + (3200 alunos x nota do curso G) ) / 4000 alunos\n",
    "- A_X = ((800 x 6) + (3200 x 9)) / 4000 = (4800 + 28800) / 4000 = 33600 / 4000 = 8.4\n",
    "\n",
    "\n",
    "- B_X = ( (300 alunos x nota do curso F) + (100 alunos x nota do curso G) ) / 400 alunos\n",
    "- B_X = ((300 x 7) + (100 x 9.5)) / 400 = (2100 + 950) / 400 = 3050 / 400 = 7.625\n",
    "\n",
    "Portanto, para este caso, a média 'A_X' de notas da Universidade A de 8.4 é MAIOR do que a média 'B_X' de notas da Universidade B de 7.625, mesmo que individualmente as notas dos mesmos cursos na Universidade B são maiores do que as de A."
   ]
  },
  {
   "cell_type": "markdown",
   "metadata": {},
   "source": [
    "## Resposta 2"
   ]
  },
  {
   "cell_type": "markdown",
   "metadata": {},
   "source": [
    "Regressão multipla usando, entre outras, a carga horária de um curso como variável independente para explicar a idade dos alunos formados."
   ]
  },
  {
   "cell_type": "code",
   "execution_count": 1,
   "metadata": {},
   "outputs": [],
   "source": [
    "import os\n",
    "import sqlite3\n",
    "import pandas as pd\n",
    "import numpy as np\n",
    "import matplotlib.pyplot as plt\n",
    "import statsmodels.formula.api as smf\n",
    "import seaborn as sns\n",
    "from scipy import stats\n",
    "from sklearn import linear_model\n",
    "from sklearn.metrics import mean_squared_error, r2_score"
   ]
  },
  {
   "cell_type": "code",
   "execution_count": 2,
   "metadata": {},
   "outputs": [],
   "source": [
    "desktop = os.path.join(os.path.expanduser(\"~\"), \"Desktop\")\n",
    "filePath_db = os.path.join(desktop, \"Microdados_Educacao_Superior_2017\\DADOS\\Desafio_2A.db\")\n",
    "\n",
    "db = sqlite3.connect(filePath_db)"
   ]
  },
  {
   "cell_type": "code",
   "execution_count": 3,
   "metadata": {},
   "outputs": [],
   "source": [
    "# CO_IES - Código único de identificação da IES\n",
    "# CO_CURSO - Código único de identificação do curso\n",
    "# NO_CURSO - Nome do curso\n",
    "# NU_CARGA_HORARIA - Carga horária mínima do curso\n",
    "#\n",
    "# IN_MATUTINO - Informa se o curso presencial funciona no turno matutino\n",
    "# IN_VESPERTINO - Informa se o curso presencial funciona no turno vespertino\n",
    "# IN_NOTURNO - Informa se o curso presencial funciona no turno noturno\n",
    "# \"0. Não / 1. Sim / (.) Não aplicável (Curso a distância)\"\n",
    "#\n",
    "# TP_MODALIDADE_ENSINO - Código da modalidade de ensino do curso\n",
    "# \"1. Presencial / 2. Curso a distância\"\n",
    "\n",
    "CURSOS = ('''select\n",
    "             CO_IES,\n",
    "             CO_CURSO,\n",
    "             NO_CURSO,\n",
    "             NU_CARGA_HORARIA,\n",
    "             IN_MATUTINO,\n",
    "             IN_VESPERTINO,\n",
    "             IN_NOTURNO,\n",
    "             TP_MODALIDADE_ENSINO\n",
    "             from DM_CURSO''')"
   ]
  },
  {
   "cell_type": "code",
   "execution_count": 4,
   "metadata": {},
   "outputs": [
    {
     "data": {
      "text/plain": [
       "(35693, 8)"
      ]
     },
     "execution_count": 4,
     "metadata": {},
     "output_type": "execute_result"
    }
   ],
   "source": [
    "df_cursos = pd.read_sql_query(CURSOS,db)\n",
    "df_cursos.shape"
   ]
  },
  {
   "cell_type": "code",
   "execution_count": 5,
   "metadata": {},
   "outputs": [
    {
     "name": "stdout",
     "output_type": "stream",
     "text": [
      "<class 'pandas.core.frame.DataFrame'>\n",
      "RangeIndex: 35693 entries, 0 to 35692\n",
      "Data columns (total 8 columns):\n",
      "CO_IES                  35693 non-null int64\n",
      "CO_CURSO                35693 non-null int64\n",
      "NO_CURSO                35693 non-null object\n",
      "NU_CARGA_HORARIA        35693 non-null int64\n",
      "IN_MATUTINO             33581 non-null float64\n",
      "IN_VESPERTINO           33581 non-null float64\n",
      "IN_NOTURNO              33581 non-null float64\n",
      "TP_MODALIDADE_ENSINO    35693 non-null int64\n",
      "dtypes: float64(3), int64(4), object(1)\n",
      "memory usage: 2.2+ MB\n"
     ]
    }
   ],
   "source": [
    "df_cursos.info()"
   ]
  },
  {
   "cell_type": "code",
   "execution_count": 6,
   "metadata": {},
   "outputs": [
    {
     "data": {
      "text/html": [
       "<div>\n",
       "<style scoped>\n",
       "    .dataframe tbody tr th:only-of-type {\n",
       "        vertical-align: middle;\n",
       "    }\n",
       "\n",
       "    .dataframe tbody tr th {\n",
       "        vertical-align: top;\n",
       "    }\n",
       "\n",
       "    .dataframe thead th {\n",
       "        text-align: right;\n",
       "    }\n",
       "</style>\n",
       "<table border=\"1\" class=\"dataframe\">\n",
       "  <thead>\n",
       "    <tr style=\"text-align: right;\">\n",
       "      <th></th>\n",
       "      <th>CO_IES</th>\n",
       "      <th>CO_CURSO</th>\n",
       "      <th>NO_CURSO</th>\n",
       "      <th>NU_CARGA_HORARIA</th>\n",
       "      <th>IN_MATUTINO</th>\n",
       "      <th>IN_VESPERTINO</th>\n",
       "      <th>IN_NOTURNO</th>\n",
       "      <th>TP_MODALIDADE_ENSINO</th>\n",
       "    </tr>\n",
       "  </thead>\n",
       "  <tbody>\n",
       "    <tr>\n",
       "      <th>0</th>\n",
       "      <td>789</td>\n",
       "      <td>1259131</td>\n",
       "      <td>MÚSICA</td>\n",
       "      <td>3210</td>\n",
       "      <td>0.0</td>\n",
       "      <td>0.0</td>\n",
       "      <td>1.0</td>\n",
       "      <td>1</td>\n",
       "    </tr>\n",
       "    <tr>\n",
       "      <th>1</th>\n",
       "      <td>4567</td>\n",
       "      <td>1258115</td>\n",
       "      <td>GESTÃO DE RECURSOS HUMANOS</td>\n",
       "      <td>1720</td>\n",
       "      <td>0.0</td>\n",
       "      <td>0.0</td>\n",
       "      <td>1.0</td>\n",
       "      <td>1</td>\n",
       "    </tr>\n",
       "    <tr>\n",
       "      <th>2</th>\n",
       "      <td>2341</td>\n",
       "      <td>68433</td>\n",
       "      <td>DIREITO</td>\n",
       "      <td>4080</td>\n",
       "      <td>1.0</td>\n",
       "      <td>0.0</td>\n",
       "      <td>1.0</td>\n",
       "      <td>1</td>\n",
       "    </tr>\n",
       "    <tr>\n",
       "      <th>3</th>\n",
       "      <td>670</td>\n",
       "      <td>52052</td>\n",
       "      <td>ENGENHARIA ELÉTRICA</td>\n",
       "      <td>3892</td>\n",
       "      <td>0.0</td>\n",
       "      <td>0.0</td>\n",
       "      <td>1.0</td>\n",
       "      <td>1</td>\n",
       "    </tr>\n",
       "    <tr>\n",
       "      <th>4</th>\n",
       "      <td>403</td>\n",
       "      <td>18061</td>\n",
       "      <td>DIREITO</td>\n",
       "      <td>3790</td>\n",
       "      <td>1.0</td>\n",
       "      <td>0.0</td>\n",
       "      <td>1.0</td>\n",
       "      <td>1</td>\n",
       "    </tr>\n",
       "  </tbody>\n",
       "</table>\n",
       "</div>"
      ],
      "text/plain": [
       "   CO_IES  CO_CURSO                    NO_CURSO  NU_CARGA_HORARIA  \\\n",
       "0     789   1259131                      MÚSICA              3210   \n",
       "1    4567   1258115  GESTÃO DE RECURSOS HUMANOS              1720   \n",
       "2    2341     68433                     DIREITO              4080   \n",
       "3     670     52052         ENGENHARIA ELÉTRICA              3892   \n",
       "4     403     18061                     DIREITO              3790   \n",
       "\n",
       "   IN_MATUTINO  IN_VESPERTINO  IN_NOTURNO  TP_MODALIDADE_ENSINO  \n",
       "0          0.0            0.0         1.0                     1  \n",
       "1          0.0            0.0         1.0                     1  \n",
       "2          1.0            0.0         1.0                     1  \n",
       "3          0.0            0.0         1.0                     1  \n",
       "4          1.0            0.0         1.0                     1  "
      ]
     },
     "execution_count": 6,
     "metadata": {},
     "output_type": "execute_result"
    }
   ],
   "source": [
    "df_cursos.head()"
   ]
  },
  {
   "cell_type": "code",
   "execution_count": 7,
   "metadata": {},
   "outputs": [],
   "source": [
    "# CO_IES - Código único de identificação da IES\n",
    "# CO_CURSO - Código único de identificação do curso\n",
    "# NU_ANO_NASCIMENTO - Ano de nascimento do aluno\n",
    "# NU_MES_NASCIMENTO - Mês de nascimento do aluno\n",
    "# NU_DIA_NASCIMENTO - Dia de nascimento do aluno\n",
    "# NU_IDADE - Idade que o aluno completa no ano de referência do Censo\n",
    "# TP_SITUACAO - Código do tipo de situação de vínculo do aluno no curso\n",
    "#  2. Cursando\n",
    "#  3. Matrícula trancada\n",
    "#  4. Desvinculado do curso\n",
    "#  5. Transferido para outro curso da mesma IES\n",
    "#  6. Formado\n",
    "#  7. Falecido\n",
    "\n",
    "ALUNOS = ('''select\n",
    "             CO_IES,\n",
    "             CO_CURSO,\n",
    "             NU_ANO_NASCIMENTO,\n",
    "             NU_MES_NASCIMENTO,\n",
    "             NU_DIA_NASCIMENTO,\n",
    "             NU_IDADE\n",
    "             from DM_ALUNO\n",
    "             where TP_SITUACAO = 6''')"
   ]
  },
  {
   "cell_type": "code",
   "execution_count": 8,
   "metadata": {},
   "outputs": [
    {
     "data": {
      "text/plain": [
       "(1201145, 6)"
      ]
     },
     "execution_count": 8,
     "metadata": {},
     "output_type": "execute_result"
    }
   ],
   "source": [
    "df_alunos = pd.read_sql_query(ALUNOS,db)\n",
    "df_alunos.shape"
   ]
  },
  {
   "cell_type": "code",
   "execution_count": 9,
   "metadata": {},
   "outputs": [
    {
     "name": "stdout",
     "output_type": "stream",
     "text": [
      "<class 'pandas.core.frame.DataFrame'>\n",
      "RangeIndex: 1201145 entries, 0 to 1201144\n",
      "Data columns (total 6 columns):\n",
      "CO_IES               1201145 non-null int64\n",
      "CO_CURSO             1201145 non-null int64\n",
      "NU_ANO_NASCIMENTO    1201145 non-null int64\n",
      "NU_MES_NASCIMENTO    1201145 non-null int64\n",
      "NU_DIA_NASCIMENTO    1201145 non-null int64\n",
      "NU_IDADE             1201145 non-null int64\n",
      "dtypes: int64(6)\n",
      "memory usage: 55.0 MB\n"
     ]
    }
   ],
   "source": [
    "df_alunos.info()"
   ]
  },
  {
   "cell_type": "code",
   "execution_count": 10,
   "metadata": {},
   "outputs": [
    {
     "data": {
      "text/html": [
       "<div>\n",
       "<style scoped>\n",
       "    .dataframe tbody tr th:only-of-type {\n",
       "        vertical-align: middle;\n",
       "    }\n",
       "\n",
       "    .dataframe tbody tr th {\n",
       "        vertical-align: top;\n",
       "    }\n",
       "\n",
       "    .dataframe thead th {\n",
       "        text-align: right;\n",
       "    }\n",
       "</style>\n",
       "<table border=\"1\" class=\"dataframe\">\n",
       "  <thead>\n",
       "    <tr style=\"text-align: right;\">\n",
       "      <th></th>\n",
       "      <th>CO_IES</th>\n",
       "      <th>CO_CURSO</th>\n",
       "      <th>NU_ANO_NASCIMENTO</th>\n",
       "      <th>NU_MES_NASCIMENTO</th>\n",
       "      <th>NU_DIA_NASCIMENTO</th>\n",
       "      <th>NU_IDADE</th>\n",
       "    </tr>\n",
       "  </thead>\n",
       "  <tbody>\n",
       "    <tr>\n",
       "      <th>0</th>\n",
       "      <td>1</td>\n",
       "      <td>1</td>\n",
       "      <td>1978</td>\n",
       "      <td>4</td>\n",
       "      <td>3</td>\n",
       "      <td>39</td>\n",
       "    </tr>\n",
       "    <tr>\n",
       "      <th>1</th>\n",
       "      <td>1</td>\n",
       "      <td>1</td>\n",
       "      <td>1987</td>\n",
       "      <td>7</td>\n",
       "      <td>7</td>\n",
       "      <td>30</td>\n",
       "    </tr>\n",
       "    <tr>\n",
       "      <th>2</th>\n",
       "      <td>1</td>\n",
       "      <td>1</td>\n",
       "      <td>1980</td>\n",
       "      <td>10</td>\n",
       "      <td>26</td>\n",
       "      <td>37</td>\n",
       "    </tr>\n",
       "    <tr>\n",
       "      <th>3</th>\n",
       "      <td>1</td>\n",
       "      <td>1</td>\n",
       "      <td>1975</td>\n",
       "      <td>2</td>\n",
       "      <td>10</td>\n",
       "      <td>42</td>\n",
       "    </tr>\n",
       "    <tr>\n",
       "      <th>4</th>\n",
       "      <td>1</td>\n",
       "      <td>1</td>\n",
       "      <td>1978</td>\n",
       "      <td>9</td>\n",
       "      <td>20</td>\n",
       "      <td>39</td>\n",
       "    </tr>\n",
       "  </tbody>\n",
       "</table>\n",
       "</div>"
      ],
      "text/plain": [
       "   CO_IES  CO_CURSO  NU_ANO_NASCIMENTO  NU_MES_NASCIMENTO  NU_DIA_NASCIMENTO  \\\n",
       "0       1         1               1978                  4                  3   \n",
       "1       1         1               1987                  7                  7   \n",
       "2       1         1               1980                 10                 26   \n",
       "3       1         1               1975                  2                 10   \n",
       "4       1         1               1978                  9                 20   \n",
       "\n",
       "   NU_IDADE  \n",
       "0        39  \n",
       "1        30  \n",
       "2        37  \n",
       "3        42  \n",
       "4        39  "
      ]
     },
     "execution_count": 10,
     "metadata": {},
     "output_type": "execute_result"
    }
   ],
   "source": [
    "df_alunos.head()"
   ]
  },
  {
   "cell_type": "code",
   "execution_count": 11,
   "metadata": {},
   "outputs": [],
   "source": [
    "df_alunos1 = df_alunos.merge(df_cursos, how='left', on=['CO_IES', 'CO_CURSO'])"
   ]
  },
  {
   "cell_type": "code",
   "execution_count": 12,
   "metadata": {},
   "outputs": [
    {
     "data": {
      "text/plain": [
       "(1201145, 12)"
      ]
     },
     "execution_count": 12,
     "metadata": {},
     "output_type": "execute_result"
    }
   ],
   "source": [
    "df_alunos1.shape"
   ]
  },
  {
   "cell_type": "code",
   "execution_count": 13,
   "metadata": {},
   "outputs": [
    {
     "data": {
      "text/html": [
       "<div>\n",
       "<style scoped>\n",
       "    .dataframe tbody tr th:only-of-type {\n",
       "        vertical-align: middle;\n",
       "    }\n",
       "\n",
       "    .dataframe tbody tr th {\n",
       "        vertical-align: top;\n",
       "    }\n",
       "\n",
       "    .dataframe thead th {\n",
       "        text-align: right;\n",
       "    }\n",
       "</style>\n",
       "<table border=\"1\" class=\"dataframe\">\n",
       "  <thead>\n",
       "    <tr style=\"text-align: right;\">\n",
       "      <th></th>\n",
       "      <th>CO_IES</th>\n",
       "      <th>CO_CURSO</th>\n",
       "      <th>NU_ANO_NASCIMENTO</th>\n",
       "      <th>NU_MES_NASCIMENTO</th>\n",
       "      <th>NU_DIA_NASCIMENTO</th>\n",
       "      <th>NU_IDADE</th>\n",
       "      <th>NO_CURSO</th>\n",
       "      <th>NU_CARGA_HORARIA</th>\n",
       "      <th>IN_MATUTINO</th>\n",
       "      <th>IN_VESPERTINO</th>\n",
       "      <th>IN_NOTURNO</th>\n",
       "      <th>TP_MODALIDADE_ENSINO</th>\n",
       "    </tr>\n",
       "  </thead>\n",
       "  <tbody>\n",
       "    <tr>\n",
       "      <th>0</th>\n",
       "      <td>1</td>\n",
       "      <td>1</td>\n",
       "      <td>1978</td>\n",
       "      <td>4</td>\n",
       "      <td>3</td>\n",
       "      <td>39</td>\n",
       "      <td>DIREITO</td>\n",
       "      <td>3700</td>\n",
       "      <td>1.0</td>\n",
       "      <td>0.0</td>\n",
       "      <td>1.0</td>\n",
       "      <td>1</td>\n",
       "    </tr>\n",
       "    <tr>\n",
       "      <th>1</th>\n",
       "      <td>1</td>\n",
       "      <td>1</td>\n",
       "      <td>1987</td>\n",
       "      <td>7</td>\n",
       "      <td>7</td>\n",
       "      <td>30</td>\n",
       "      <td>DIREITO</td>\n",
       "      <td>3700</td>\n",
       "      <td>1.0</td>\n",
       "      <td>0.0</td>\n",
       "      <td>1.0</td>\n",
       "      <td>1</td>\n",
       "    </tr>\n",
       "    <tr>\n",
       "      <th>2</th>\n",
       "      <td>1</td>\n",
       "      <td>1</td>\n",
       "      <td>1980</td>\n",
       "      <td>10</td>\n",
       "      <td>26</td>\n",
       "      <td>37</td>\n",
       "      <td>DIREITO</td>\n",
       "      <td>3700</td>\n",
       "      <td>1.0</td>\n",
       "      <td>0.0</td>\n",
       "      <td>1.0</td>\n",
       "      <td>1</td>\n",
       "    </tr>\n",
       "    <tr>\n",
       "      <th>3</th>\n",
       "      <td>1</td>\n",
       "      <td>1</td>\n",
       "      <td>1975</td>\n",
       "      <td>2</td>\n",
       "      <td>10</td>\n",
       "      <td>42</td>\n",
       "      <td>DIREITO</td>\n",
       "      <td>3700</td>\n",
       "      <td>1.0</td>\n",
       "      <td>0.0</td>\n",
       "      <td>1.0</td>\n",
       "      <td>1</td>\n",
       "    </tr>\n",
       "    <tr>\n",
       "      <th>4</th>\n",
       "      <td>1</td>\n",
       "      <td>1</td>\n",
       "      <td>1978</td>\n",
       "      <td>9</td>\n",
       "      <td>20</td>\n",
       "      <td>39</td>\n",
       "      <td>DIREITO</td>\n",
       "      <td>3700</td>\n",
       "      <td>1.0</td>\n",
       "      <td>0.0</td>\n",
       "      <td>1.0</td>\n",
       "      <td>1</td>\n",
       "    </tr>\n",
       "  </tbody>\n",
       "</table>\n",
       "</div>"
      ],
      "text/plain": [
       "   CO_IES  CO_CURSO  NU_ANO_NASCIMENTO  NU_MES_NASCIMENTO  NU_DIA_NASCIMENTO  \\\n",
       "0       1         1               1978                  4                  3   \n",
       "1       1         1               1987                  7                  7   \n",
       "2       1         1               1980                 10                 26   \n",
       "3       1         1               1975                  2                 10   \n",
       "4       1         1               1978                  9                 20   \n",
       "\n",
       "   NU_IDADE NO_CURSO  NU_CARGA_HORARIA  IN_MATUTINO  IN_VESPERTINO  \\\n",
       "0        39  DIREITO              3700          1.0            0.0   \n",
       "1        30  DIREITO              3700          1.0            0.0   \n",
       "2        37  DIREITO              3700          1.0            0.0   \n",
       "3        42  DIREITO              3700          1.0            0.0   \n",
       "4        39  DIREITO              3700          1.0            0.0   \n",
       "\n",
       "   IN_NOTURNO  TP_MODALIDADE_ENSINO  \n",
       "0         1.0                     1  \n",
       "1         1.0                     1  \n",
       "2         1.0                     1  \n",
       "3         1.0                     1  \n",
       "4         1.0                     1  "
      ]
     },
     "execution_count": 13,
     "metadata": {},
     "output_type": "execute_result"
    }
   ],
   "source": [
    "df_alunos1.head()"
   ]
  },
  {
   "cell_type": "code",
   "execution_count": 14,
   "metadata": {},
   "outputs": [
    {
     "name": "stdout",
     "output_type": "stream",
     "text": [
      "<class 'pandas.core.frame.DataFrame'>\n",
      "Int64Index: 1201145 entries, 0 to 1201144\n",
      "Data columns (total 12 columns):\n",
      "CO_IES                  1201145 non-null int64\n",
      "CO_CURSO                1201145 non-null int64\n",
      "NU_ANO_NASCIMENTO       1201145 non-null int64\n",
      "NU_MES_NASCIMENTO       1201145 non-null int64\n",
      "NU_DIA_NASCIMENTO       1201145 non-null int64\n",
      "NU_IDADE                1201145 non-null int64\n",
      "NO_CURSO                1201145 non-null object\n",
      "NU_CARGA_HORARIA        1201145 non-null int64\n",
      "IN_MATUTINO             948410 non-null float64\n",
      "IN_VESPERTINO           948410 non-null float64\n",
      "IN_NOTURNO              948410 non-null float64\n",
      "TP_MODALIDADE_ENSINO    1201145 non-null int64\n",
      "dtypes: float64(3), int64(8), object(1)\n",
      "memory usage: 119.1+ MB\n"
     ]
    }
   ],
   "source": [
    "df_alunos1.info(verbose=True)"
   ]
  },
  {
   "cell_type": "code",
   "execution_count": 15,
   "metadata": {},
   "outputs": [
    {
     "data": {
      "text/html": [
       "<div>\n",
       "<style scoped>\n",
       "    .dataframe tbody tr th:only-of-type {\n",
       "        vertical-align: middle;\n",
       "    }\n",
       "\n",
       "    .dataframe tbody tr th {\n",
       "        vertical-align: top;\n",
       "    }\n",
       "\n",
       "    .dataframe thead th {\n",
       "        text-align: right;\n",
       "    }\n",
       "</style>\n",
       "<table border=\"1\" class=\"dataframe\">\n",
       "  <thead>\n",
       "    <tr style=\"text-align: right;\">\n",
       "      <th></th>\n",
       "      <th>CO_IES</th>\n",
       "      <th>CO_CURSO</th>\n",
       "      <th>NU_ANO_NASCIMENTO</th>\n",
       "      <th>NU_MES_NASCIMENTO</th>\n",
       "      <th>NU_DIA_NASCIMENTO</th>\n",
       "      <th>NU_IDADE</th>\n",
       "      <th>NU_CARGA_HORARIA</th>\n",
       "      <th>IN_MATUTINO</th>\n",
       "      <th>IN_VESPERTINO</th>\n",
       "      <th>IN_NOTURNO</th>\n",
       "      <th>TP_MODALIDADE_ENSINO</th>\n",
       "    </tr>\n",
       "  </thead>\n",
       "  <tbody>\n",
       "    <tr>\n",
       "      <th>CO_IES</th>\n",
       "      <td>1.000000</td>\n",
       "      <td>0.172216</td>\n",
       "      <td>-0.002118</td>\n",
       "      <td>0.001510</td>\n",
       "      <td>0.000611</td>\n",
       "      <td>0.002118</td>\n",
       "      <td>-0.020068</td>\n",
       "      <td>-0.045771</td>\n",
       "      <td>0.008133</td>\n",
       "      <td>0.072198</td>\n",
       "      <td>-0.154424</td>\n",
       "    </tr>\n",
       "    <tr>\n",
       "      <th>CO_CURSO</th>\n",
       "      <td>0.172216</td>\n",
       "      <td>1.000000</td>\n",
       "      <td>-0.050537</td>\n",
       "      <td>0.001819</td>\n",
       "      <td>-0.000292</td>\n",
       "      <td>0.050537</td>\n",
       "      <td>-0.102816</td>\n",
       "      <td>-0.017070</td>\n",
       "      <td>-0.014310</td>\n",
       "      <td>0.021316</td>\n",
       "      <td>0.076425</td>\n",
       "    </tr>\n",
       "    <tr>\n",
       "      <th>NU_ANO_NASCIMENTO</th>\n",
       "      <td>-0.002118</td>\n",
       "      <td>-0.050537</td>\n",
       "      <td>1.000000</td>\n",
       "      <td>-0.037686</td>\n",
       "      <td>0.001275</td>\n",
       "      <td>-1.000000</td>\n",
       "      <td>0.111674</td>\n",
       "      <td>-0.071317</td>\n",
       "      <td>-0.029559</td>\n",
       "      <td>-0.120310</td>\n",
       "      <td>-0.331934</td>\n",
       "    </tr>\n",
       "    <tr>\n",
       "      <th>NU_MES_NASCIMENTO</th>\n",
       "      <td>0.001510</td>\n",
       "      <td>0.001819</td>\n",
       "      <td>-0.037686</td>\n",
       "      <td>1.000000</td>\n",
       "      <td>0.007670</td>\n",
       "      <td>0.037686</td>\n",
       "      <td>-0.000441</td>\n",
       "      <td>0.000345</td>\n",
       "      <td>0.002309</td>\n",
       "      <td>-0.002330</td>\n",
       "      <td>0.002683</td>\n",
       "    </tr>\n",
       "    <tr>\n",
       "      <th>NU_DIA_NASCIMENTO</th>\n",
       "      <td>0.000611</td>\n",
       "      <td>-0.000292</td>\n",
       "      <td>0.001275</td>\n",
       "      <td>0.007670</td>\n",
       "      <td>1.000000</td>\n",
       "      <td>-0.001275</td>\n",
       "      <td>0.000766</td>\n",
       "      <td>-0.001074</td>\n",
       "      <td>-0.002037</td>\n",
       "      <td>-0.001490</td>\n",
       "      <td>-0.000807</td>\n",
       "    </tr>\n",
       "    <tr>\n",
       "      <th>NU_IDADE</th>\n",
       "      <td>0.002118</td>\n",
       "      <td>0.050537</td>\n",
       "      <td>-1.000000</td>\n",
       "      <td>0.037686</td>\n",
       "      <td>-0.001275</td>\n",
       "      <td>1.000000</td>\n",
       "      <td>-0.111674</td>\n",
       "      <td>0.071317</td>\n",
       "      <td>0.029559</td>\n",
       "      <td>0.120310</td>\n",
       "      <td>0.331934</td>\n",
       "    </tr>\n",
       "    <tr>\n",
       "      <th>NU_CARGA_HORARIA</th>\n",
       "      <td>-0.020068</td>\n",
       "      <td>-0.102816</td>\n",
       "      <td>0.111674</td>\n",
       "      <td>-0.000441</td>\n",
       "      <td>0.000766</td>\n",
       "      <td>-0.111674</td>\n",
       "      <td>1.000000</td>\n",
       "      <td>-0.065832</td>\n",
       "      <td>0.013582</td>\n",
       "      <td>-0.333607</td>\n",
       "      <td>-0.288820</td>\n",
       "    </tr>\n",
       "    <tr>\n",
       "      <th>IN_MATUTINO</th>\n",
       "      <td>-0.045771</td>\n",
       "      <td>-0.017070</td>\n",
       "      <td>-0.071317</td>\n",
       "      <td>0.000345</td>\n",
       "      <td>-0.001074</td>\n",
       "      <td>0.071317</td>\n",
       "      <td>-0.065832</td>\n",
       "      <td>1.000000</td>\n",
       "      <td>0.059018</td>\n",
       "      <td>0.274472</td>\n",
       "      <td>NaN</td>\n",
       "    </tr>\n",
       "    <tr>\n",
       "      <th>IN_VESPERTINO</th>\n",
       "      <td>0.008133</td>\n",
       "      <td>-0.014310</td>\n",
       "      <td>-0.029559</td>\n",
       "      <td>0.002309</td>\n",
       "      <td>-0.002037</td>\n",
       "      <td>0.029559</td>\n",
       "      <td>0.013582</td>\n",
       "      <td>0.059018</td>\n",
       "      <td>1.000000</td>\n",
       "      <td>-0.007565</td>\n",
       "      <td>NaN</td>\n",
       "    </tr>\n",
       "    <tr>\n",
       "      <th>IN_NOTURNO</th>\n",
       "      <td>0.072198</td>\n",
       "      <td>0.021316</td>\n",
       "      <td>-0.120310</td>\n",
       "      <td>-0.002330</td>\n",
       "      <td>-0.001490</td>\n",
       "      <td>0.120310</td>\n",
       "      <td>-0.333607</td>\n",
       "      <td>0.274472</td>\n",
       "      <td>-0.007565</td>\n",
       "      <td>1.000000</td>\n",
       "      <td>NaN</td>\n",
       "    </tr>\n",
       "    <tr>\n",
       "      <th>TP_MODALIDADE_ENSINO</th>\n",
       "      <td>-0.154424</td>\n",
       "      <td>0.076425</td>\n",
       "      <td>-0.331934</td>\n",
       "      <td>0.002683</td>\n",
       "      <td>-0.000807</td>\n",
       "      <td>0.331934</td>\n",
       "      <td>-0.288820</td>\n",
       "      <td>NaN</td>\n",
       "      <td>NaN</td>\n",
       "      <td>NaN</td>\n",
       "      <td>1.000000</td>\n",
       "    </tr>\n",
       "  </tbody>\n",
       "</table>\n",
       "</div>"
      ],
      "text/plain": [
       "                        CO_IES  CO_CURSO  NU_ANO_NASCIMENTO  \\\n",
       "CO_IES                1.000000  0.172216          -0.002118   \n",
       "CO_CURSO              0.172216  1.000000          -0.050537   \n",
       "NU_ANO_NASCIMENTO    -0.002118 -0.050537           1.000000   \n",
       "NU_MES_NASCIMENTO     0.001510  0.001819          -0.037686   \n",
       "NU_DIA_NASCIMENTO     0.000611 -0.000292           0.001275   \n",
       "NU_IDADE              0.002118  0.050537          -1.000000   \n",
       "NU_CARGA_HORARIA     -0.020068 -0.102816           0.111674   \n",
       "IN_MATUTINO          -0.045771 -0.017070          -0.071317   \n",
       "IN_VESPERTINO         0.008133 -0.014310          -0.029559   \n",
       "IN_NOTURNO            0.072198  0.021316          -0.120310   \n",
       "TP_MODALIDADE_ENSINO -0.154424  0.076425          -0.331934   \n",
       "\n",
       "                      NU_MES_NASCIMENTO  NU_DIA_NASCIMENTO  NU_IDADE  \\\n",
       "CO_IES                         0.001510           0.000611  0.002118   \n",
       "CO_CURSO                       0.001819          -0.000292  0.050537   \n",
       "NU_ANO_NASCIMENTO             -0.037686           0.001275 -1.000000   \n",
       "NU_MES_NASCIMENTO              1.000000           0.007670  0.037686   \n",
       "NU_DIA_NASCIMENTO              0.007670           1.000000 -0.001275   \n",
       "NU_IDADE                       0.037686          -0.001275  1.000000   \n",
       "NU_CARGA_HORARIA              -0.000441           0.000766 -0.111674   \n",
       "IN_MATUTINO                    0.000345          -0.001074  0.071317   \n",
       "IN_VESPERTINO                  0.002309          -0.002037  0.029559   \n",
       "IN_NOTURNO                    -0.002330          -0.001490  0.120310   \n",
       "TP_MODALIDADE_ENSINO           0.002683          -0.000807  0.331934   \n",
       "\n",
       "                      NU_CARGA_HORARIA  IN_MATUTINO  IN_VESPERTINO  \\\n",
       "CO_IES                       -0.020068    -0.045771       0.008133   \n",
       "CO_CURSO                     -0.102816    -0.017070      -0.014310   \n",
       "NU_ANO_NASCIMENTO             0.111674    -0.071317      -0.029559   \n",
       "NU_MES_NASCIMENTO            -0.000441     0.000345       0.002309   \n",
       "NU_DIA_NASCIMENTO             0.000766    -0.001074      -0.002037   \n",
       "NU_IDADE                     -0.111674     0.071317       0.029559   \n",
       "NU_CARGA_HORARIA              1.000000    -0.065832       0.013582   \n",
       "IN_MATUTINO                  -0.065832     1.000000       0.059018   \n",
       "IN_VESPERTINO                 0.013582     0.059018       1.000000   \n",
       "IN_NOTURNO                   -0.333607     0.274472      -0.007565   \n",
       "TP_MODALIDADE_ENSINO         -0.288820          NaN            NaN   \n",
       "\n",
       "                      IN_NOTURNO  TP_MODALIDADE_ENSINO  \n",
       "CO_IES                  0.072198             -0.154424  \n",
       "CO_CURSO                0.021316              0.076425  \n",
       "NU_ANO_NASCIMENTO      -0.120310             -0.331934  \n",
       "NU_MES_NASCIMENTO      -0.002330              0.002683  \n",
       "NU_DIA_NASCIMENTO      -0.001490             -0.000807  \n",
       "NU_IDADE                0.120310              0.331934  \n",
       "NU_CARGA_HORARIA       -0.333607             -0.288820  \n",
       "IN_MATUTINO             0.274472                   NaN  \n",
       "IN_VESPERTINO          -0.007565                   NaN  \n",
       "IN_NOTURNO              1.000000                   NaN  \n",
       "TP_MODALIDADE_ENSINO         NaN              1.000000  "
      ]
     },
     "execution_count": 15,
     "metadata": {},
     "output_type": "execute_result"
    }
   ],
   "source": [
    "df_alunos1.corr()"
   ]
  },
  {
   "cell_type": "markdown",
   "metadata": {},
   "source": [
    "De acordo com o resultado da correlação acima, as variáveis que mais parecem explicar a Idade do Aluno formado são:\n",
    "\n",
    "- TP_MODALIDADE_ENSINO -> 0.33\n",
    "- NU_CARGA_HORARIA -> -0.11 (valor negativo)\n",
    "- IN_NOTURNO -> 0.12\n",
    "- IN_MATUTINO -> 0.07\n",
    "- IN_VESPERTINO -> 0.03"
   ]
  },
  {
   "cell_type": "code",
   "execution_count": 16,
   "metadata": {},
   "outputs": [],
   "source": [
    "df_alunos2 = df_alunos1.drop(columns = ['CO_IES', \n",
    "                                        'CO_CURSO',\n",
    "                                        'NO_CURSO',\n",
    "                                        'NU_ANO_NASCIMENTO',\n",
    "                                        'NU_MES_NASCIMENTO',\n",
    "                                        'NU_DIA_NASCIMENTO',])"
   ]
  },
  {
   "cell_type": "code",
   "execution_count": 17,
   "metadata": {},
   "outputs": [
    {
     "data": {
      "text/plain": [
       "(1201145, 6)"
      ]
     },
     "execution_count": 17,
     "metadata": {},
     "output_type": "execute_result"
    }
   ],
   "source": [
    "df_alunos2.shape"
   ]
  },
  {
   "cell_type": "code",
   "execution_count": 18,
   "metadata": {},
   "outputs": [
    {
     "name": "stdout",
     "output_type": "stream",
     "text": [
      "<class 'pandas.core.frame.DataFrame'>\n",
      "Int64Index: 1201145 entries, 0 to 1201144\n",
      "Data columns (total 6 columns):\n",
      "NU_IDADE                1201145 non-null int64\n",
      "NU_CARGA_HORARIA        1201145 non-null int64\n",
      "IN_MATUTINO             948410 non-null float64\n",
      "IN_VESPERTINO           948410 non-null float64\n",
      "IN_NOTURNO              948410 non-null float64\n",
      "TP_MODALIDADE_ENSINO    1201145 non-null int64\n",
      "dtypes: float64(3), int64(3)\n",
      "memory usage: 64.1 MB\n"
     ]
    }
   ],
   "source": [
    "df_alunos2.info()"
   ]
  },
  {
   "cell_type": "code",
   "execution_count": 19,
   "metadata": {},
   "outputs": [
    {
     "data": {
      "text/html": [
       "<div>\n",
       "<style scoped>\n",
       "    .dataframe tbody tr th:only-of-type {\n",
       "        vertical-align: middle;\n",
       "    }\n",
       "\n",
       "    .dataframe tbody tr th {\n",
       "        vertical-align: top;\n",
       "    }\n",
       "\n",
       "    .dataframe thead th {\n",
       "        text-align: right;\n",
       "    }\n",
       "</style>\n",
       "<table border=\"1\" class=\"dataframe\">\n",
       "  <thead>\n",
       "    <tr style=\"text-align: right;\">\n",
       "      <th></th>\n",
       "      <th>NU_IDADE</th>\n",
       "      <th>NU_CARGA_HORARIA</th>\n",
       "      <th>IN_MATUTINO</th>\n",
       "      <th>IN_VESPERTINO</th>\n",
       "      <th>IN_NOTURNO</th>\n",
       "      <th>TP_MODALIDADE_ENSINO</th>\n",
       "    </tr>\n",
       "  </thead>\n",
       "  <tbody>\n",
       "    <tr>\n",
       "      <th>0</th>\n",
       "      <td>39</td>\n",
       "      <td>3700</td>\n",
       "      <td>1.0</td>\n",
       "      <td>0.0</td>\n",
       "      <td>1.0</td>\n",
       "      <td>1</td>\n",
       "    </tr>\n",
       "    <tr>\n",
       "      <th>1</th>\n",
       "      <td>30</td>\n",
       "      <td>3700</td>\n",
       "      <td>1.0</td>\n",
       "      <td>0.0</td>\n",
       "      <td>1.0</td>\n",
       "      <td>1</td>\n",
       "    </tr>\n",
       "    <tr>\n",
       "      <th>2</th>\n",
       "      <td>37</td>\n",
       "      <td>3700</td>\n",
       "      <td>1.0</td>\n",
       "      <td>0.0</td>\n",
       "      <td>1.0</td>\n",
       "      <td>1</td>\n",
       "    </tr>\n",
       "    <tr>\n",
       "      <th>3</th>\n",
       "      <td>42</td>\n",
       "      <td>3700</td>\n",
       "      <td>1.0</td>\n",
       "      <td>0.0</td>\n",
       "      <td>1.0</td>\n",
       "      <td>1</td>\n",
       "    </tr>\n",
       "    <tr>\n",
       "      <th>4</th>\n",
       "      <td>39</td>\n",
       "      <td>3700</td>\n",
       "      <td>1.0</td>\n",
       "      <td>0.0</td>\n",
       "      <td>1.0</td>\n",
       "      <td>1</td>\n",
       "    </tr>\n",
       "  </tbody>\n",
       "</table>\n",
       "</div>"
      ],
      "text/plain": [
       "   NU_IDADE  NU_CARGA_HORARIA  IN_MATUTINO  IN_VESPERTINO  IN_NOTURNO  \\\n",
       "0        39              3700          1.0            0.0         1.0   \n",
       "1        30              3700          1.0            0.0         1.0   \n",
       "2        37              3700          1.0            0.0         1.0   \n",
       "3        42              3700          1.0            0.0         1.0   \n",
       "4        39              3700          1.0            0.0         1.0   \n",
       "\n",
       "   TP_MODALIDADE_ENSINO  \n",
       "0                     1  \n",
       "1                     1  \n",
       "2                     1  \n",
       "3                     1  \n",
       "4                     1  "
      ]
     },
     "execution_count": 19,
     "metadata": {},
     "output_type": "execute_result"
    }
   ],
   "source": [
    "df_alunos2.head()"
   ]
  },
  {
   "cell_type": "code",
   "execution_count": 20,
   "metadata": {},
   "outputs": [
    {
     "data": {
      "text/html": [
       "<div>\n",
       "<style scoped>\n",
       "    .dataframe tbody tr th:only-of-type {\n",
       "        vertical-align: middle;\n",
       "    }\n",
       "\n",
       "    .dataframe tbody tr th {\n",
       "        vertical-align: top;\n",
       "    }\n",
       "\n",
       "    .dataframe thead th {\n",
       "        text-align: right;\n",
       "    }\n",
       "</style>\n",
       "<table border=\"1\" class=\"dataframe\">\n",
       "  <thead>\n",
       "    <tr style=\"text-align: right;\">\n",
       "      <th></th>\n",
       "      <th>NU_IDADE</th>\n",
       "      <th>NU_CARGA_HORARIA</th>\n",
       "      <th>IN_MATUTINO</th>\n",
       "      <th>IN_VESPERTINO</th>\n",
       "      <th>IN_NOTURNO</th>\n",
       "      <th>TP_MODALIDADE_ENSINO</th>\n",
       "    </tr>\n",
       "  </thead>\n",
       "  <tbody>\n",
       "    <tr>\n",
       "      <th>NU_IDADE</th>\n",
       "      <td>1.000000</td>\n",
       "      <td>-0.111674</td>\n",
       "      <td>0.071317</td>\n",
       "      <td>0.029559</td>\n",
       "      <td>0.120310</td>\n",
       "      <td>0.331934</td>\n",
       "    </tr>\n",
       "    <tr>\n",
       "      <th>NU_CARGA_HORARIA</th>\n",
       "      <td>-0.111674</td>\n",
       "      <td>1.000000</td>\n",
       "      <td>-0.065832</td>\n",
       "      <td>0.013582</td>\n",
       "      <td>-0.333607</td>\n",
       "      <td>-0.288820</td>\n",
       "    </tr>\n",
       "    <tr>\n",
       "      <th>IN_MATUTINO</th>\n",
       "      <td>0.071317</td>\n",
       "      <td>-0.065832</td>\n",
       "      <td>1.000000</td>\n",
       "      <td>0.059018</td>\n",
       "      <td>0.274472</td>\n",
       "      <td>NaN</td>\n",
       "    </tr>\n",
       "    <tr>\n",
       "      <th>IN_VESPERTINO</th>\n",
       "      <td>0.029559</td>\n",
       "      <td>0.013582</td>\n",
       "      <td>0.059018</td>\n",
       "      <td>1.000000</td>\n",
       "      <td>-0.007565</td>\n",
       "      <td>NaN</td>\n",
       "    </tr>\n",
       "    <tr>\n",
       "      <th>IN_NOTURNO</th>\n",
       "      <td>0.120310</td>\n",
       "      <td>-0.333607</td>\n",
       "      <td>0.274472</td>\n",
       "      <td>-0.007565</td>\n",
       "      <td>1.000000</td>\n",
       "      <td>NaN</td>\n",
       "    </tr>\n",
       "    <tr>\n",
       "      <th>TP_MODALIDADE_ENSINO</th>\n",
       "      <td>0.331934</td>\n",
       "      <td>-0.288820</td>\n",
       "      <td>NaN</td>\n",
       "      <td>NaN</td>\n",
       "      <td>NaN</td>\n",
       "      <td>1.000000</td>\n",
       "    </tr>\n",
       "  </tbody>\n",
       "</table>\n",
       "</div>"
      ],
      "text/plain": [
       "                      NU_IDADE  NU_CARGA_HORARIA  IN_MATUTINO  IN_VESPERTINO  \\\n",
       "NU_IDADE              1.000000         -0.111674     0.071317       0.029559   \n",
       "NU_CARGA_HORARIA     -0.111674          1.000000    -0.065832       0.013582   \n",
       "IN_MATUTINO           0.071317         -0.065832     1.000000       0.059018   \n",
       "IN_VESPERTINO         0.029559          0.013582     0.059018       1.000000   \n",
       "IN_NOTURNO            0.120310         -0.333607     0.274472      -0.007565   \n",
       "TP_MODALIDADE_ENSINO  0.331934         -0.288820          NaN            NaN   \n",
       "\n",
       "                      IN_NOTURNO  TP_MODALIDADE_ENSINO  \n",
       "NU_IDADE                0.120310              0.331934  \n",
       "NU_CARGA_HORARIA       -0.333607             -0.288820  \n",
       "IN_MATUTINO             0.274472                   NaN  \n",
       "IN_VESPERTINO          -0.007565                   NaN  \n",
       "IN_NOTURNO              1.000000                   NaN  \n",
       "TP_MODALIDADE_ENSINO         NaN              1.000000  "
      ]
     },
     "execution_count": 20,
     "metadata": {},
     "output_type": "execute_result"
    }
   ],
   "source": [
    "df_alunos2.corr()"
   ]
  },
  {
   "cell_type": "code",
   "execution_count": 21,
   "metadata": {},
   "outputs": [
    {
     "data": {
      "text/plain": [
       "1    948410\n",
       "2    252735\n",
       "Name: TP_MODALIDADE_ENSINO, dtype: int64"
      ]
     },
     "execution_count": 21,
     "metadata": {},
     "output_type": "execute_result"
    }
   ],
   "source": [
    "# TP_MODALIDADE_ENSINO - Código da modalidade de ensino do curso\n",
    "# \"1. Presencial / 2. Curso a distância\"\n",
    "#\n",
    "# 948410 - Curso presencial (pode ser IN_MATUTINO e/ou IN_VESPERTINO e/ou IN_NOTURNO)\n",
    "# 252735 - Curso a distância\n",
    "\n",
    "df_alunos2['TP_MODALIDADE_ENSINO'].value_counts(dropna=False)"
   ]
  },
  {
   "cell_type": "code",
   "execution_count": 22,
   "metadata": {},
   "outputs": [
    {
     "data": {
      "image/png": "[encoded data removed]",
      "text/plain": [
       "<Figure size 720x576 with 2 Axes>"
      ]
     },
     "metadata": {
      "needs_background": "light"
     },
     "output_type": "display_data"
    }
   ],
   "source": [
    "# Rodando um gráfico heatmap mostrando apenas 5 variáveis que mais se correlacionam com a Idade\n",
    "\n",
    "corr = df_alunos2.corr()\n",
    "\n",
    "f, ax = plt.subplots(figsize=(10, 8))\n",
    "ax = sns.heatmap(corr,\n",
    "                 cbar=True,\n",
    "                 annot=True,\n",
    "                 square=True,\n",
    "                 fmt='.2f',\n",
    "                 annot_kws={'size': 10},\n",
    "                 yticklabels=corr.columns,\n",
    "                 xticklabels=corr.columns)"
   ]
  },
  {
   "cell_type": "code",
   "execution_count": 23,
   "metadata": {},
   "outputs": [
    {
     "data": {
      "image/png": "[encoded data removed]",
      "text/plain": [
       "<Figure size 432x288 with 1 Axes>"
      ]
     },
     "metadata": {
      "needs_background": "light"
     },
     "output_type": "display_data"
    }
   ],
   "source": [
    "# Plotando um gráfico de dispersão\n",
    "\n",
    "fig, ax = plt.subplots()\n",
    "ax.scatter(y = df_alunos2['NU_IDADE'], x = df_alunos2['NU_CARGA_HORARIA'])\n",
    "plt.ylabel('Idade', fontsize=13)\n",
    "plt.xlabel('Carga Horário do Curso', fontsize=13)\n",
    "plt.show()"
   ]
  },
  {
   "cell_type": "code",
   "execution_count": 24,
   "metadata": {
    "scrolled": true
   },
   "outputs": [
    {
     "data": {
      "image/png": "[encoded data removed]",
      "text/plain": [
       "<Figure size 432x288 with 1 Axes>"
      ]
     },
     "metadata": {
      "needs_background": "light"
     },
     "output_type": "display_data"
    }
   ],
   "source": [
    "# Plotando um gráfico de dispersão\n",
    "# \"1. Presencial / 2. Curso a distância\"\n",
    "\n",
    "fig, ax = plt.subplots()\n",
    "ax.scatter(y = df_alunos2['NU_IDADE'], x = df_alunos2['TP_MODALIDADE_ENSINO'])\n",
    "plt.ylabel('Idade', fontsize=13)\n",
    "plt.xlabel('Modalidade de Ensino', fontsize=13)\n",
    "plt.show()"
   ]
  },
  {
   "cell_type": "code",
   "execution_count": 25,
   "metadata": {},
   "outputs": [
    {
     "data": {
      "image/png": "[encoded data removed]",
      "text/plain": [
       "<Figure size 432x288 with 1 Axes>"
      ]
     },
     "metadata": {
      "needs_background": "light"
     },
     "output_type": "display_data"
    }
   ],
   "source": [
    "# Plotando um gráfico de dispersão\n",
    "# IN_NOTURNO - Informa se o curso presencial funciona no turno noturno\n",
    "# \"0. Não / 1. Sim / (.) Não aplicável (Curso a distância)\"\n",
    "\n",
    "fig, ax = plt.subplots()\n",
    "ax.scatter(y = df_alunos2['NU_IDADE'], x = df_alunos2['IN_NOTURNO'])\n",
    "plt.ylabel('Idade', fontsize=13)\n",
    "plt.xlabel('Turno Noturno', fontsize=13)\n",
    "plt.show()"
   ]
  },
  {
   "cell_type": "code",
   "execution_count": 26,
   "metadata": {},
   "outputs": [],
   "source": [
    "# Plotando o PAIRPLOT para todas as variáveis \n",
    "# sns.pairplot(df_alunos2)"
   ]
  },
  {
   "cell_type": "code",
   "execution_count": 27,
   "metadata": {},
   "outputs": [
    {
     "data": {
      "text/plain": [
       "['NU_IDADE',\n",
       " 'NU_CARGA_HORARIA',\n",
       " 'IN_MATUTINO',\n",
       " 'IN_VESPERTINO',\n",
       " 'IN_NOTURNO',\n",
       " 'TP_MODALIDADE_ENSINO']"
      ]
     },
     "execution_count": 27,
     "metadata": {},
     "output_type": "execute_result"
    }
   ],
   "source": [
    "list(df_alunos2)"
   ]
  },
  {
   "cell_type": "code",
   "execution_count": 28,
   "metadata": {},
   "outputs": [
    {
     "data": {
      "text/html": [
       "<div>\n",
       "<style scoped>\n",
       "    .dataframe tbody tr th:only-of-type {\n",
       "        vertical-align: middle;\n",
       "    }\n",
       "\n",
       "    .dataframe tbody tr th {\n",
       "        vertical-align: top;\n",
       "    }\n",
       "\n",
       "    .dataframe thead th {\n",
       "        text-align: right;\n",
       "    }\n",
       "</style>\n",
       "<table border=\"1\" class=\"dataframe\">\n",
       "  <thead>\n",
       "    <tr style=\"text-align: right;\">\n",
       "      <th></th>\n",
       "      <th>NU_IDADE</th>\n",
       "      <th>NU_CARGA_HORARIA</th>\n",
       "      <th>TP_MODALIDADE_ENSINO</th>\n",
       "    </tr>\n",
       "  </thead>\n",
       "  <tbody>\n",
       "    <tr>\n",
       "      <th>0</th>\n",
       "      <td>39</td>\n",
       "      <td>3700</td>\n",
       "      <td>1</td>\n",
       "    </tr>\n",
       "    <tr>\n",
       "      <th>1</th>\n",
       "      <td>30</td>\n",
       "      <td>3700</td>\n",
       "      <td>1</td>\n",
       "    </tr>\n",
       "    <tr>\n",
       "      <th>2</th>\n",
       "      <td>37</td>\n",
       "      <td>3700</td>\n",
       "      <td>1</td>\n",
       "    </tr>\n",
       "    <tr>\n",
       "      <th>3</th>\n",
       "      <td>42</td>\n",
       "      <td>3700</td>\n",
       "      <td>1</td>\n",
       "    </tr>\n",
       "    <tr>\n",
       "      <th>4</th>\n",
       "      <td>39</td>\n",
       "      <td>3700</td>\n",
       "      <td>1</td>\n",
       "    </tr>\n",
       "  </tbody>\n",
       "</table>\n",
       "</div>"
      ],
      "text/plain": [
       "   NU_IDADE  NU_CARGA_HORARIA  TP_MODALIDADE_ENSINO\n",
       "0        39              3700                     1\n",
       "1        30              3700                     1\n",
       "2        37              3700                     1\n",
       "3        42              3700                     1\n",
       "4        39              3700                     1"
      ]
     },
     "execution_count": 28,
     "metadata": {},
     "output_type": "execute_result"
    }
   ],
   "source": [
    "# Criando novo DataFrame apenas com carga horária e modalidade de ensino para tentar explicar a Idade\n",
    "df_alunos3 = df_alunos2.drop(columns = ['IN_MATUTINO', 'IN_VESPERTINO', 'IN_NOTURNO'])\n",
    "df_alunos3.head()"
   ]
  },
  {
   "cell_type": "code",
   "execution_count": 29,
   "metadata": {},
   "outputs": [
    {
     "data": {
      "text/plain": [
       "<seaborn.axisgrid.PairGrid at 0x1b4e32c6b00>"
      ]
     },
     "execution_count": 29,
     "metadata": {},
     "output_type": "execute_result"
    },
    {
     "data": {
      "image/png": "[encoded data removed]",
      "text/plain": [
       "<Figure size 540x540 with 12 Axes>"
      ]
     },
     "metadata": {
      "needs_background": "light"
     },
     "output_type": "display_data"
    }
   ],
   "source": [
    "sns.pairplot(df_alunos3.sample(5000))"
   ]
  },
  {
   "cell_type": "code",
   "execution_count": 30,
   "metadata": {},
   "outputs": [
    {
     "data": {
      "text/html": [
       "<div>\n",
       "<style scoped>\n",
       "    .dataframe tbody tr th:only-of-type {\n",
       "        vertical-align: middle;\n",
       "    }\n",
       "\n",
       "    .dataframe tbody tr th {\n",
       "        vertical-align: top;\n",
       "    }\n",
       "\n",
       "    .dataframe thead th {\n",
       "        text-align: right;\n",
       "    }\n",
       "</style>\n",
       "<table border=\"1\" class=\"dataframe\">\n",
       "  <thead>\n",
       "    <tr style=\"text-align: right;\">\n",
       "      <th></th>\n",
       "      <th>NU_IDADE</th>\n",
       "      <th>NU_CARGA_HORARIA</th>\n",
       "      <th>TP_MODALIDADE_ENSINO</th>\n",
       "    </tr>\n",
       "  </thead>\n",
       "  <tbody>\n",
       "    <tr>\n",
       "      <th>NU_IDADE</th>\n",
       "      <td>1.000000</td>\n",
       "      <td>-0.111674</td>\n",
       "      <td>0.331934</td>\n",
       "    </tr>\n",
       "    <tr>\n",
       "      <th>NU_CARGA_HORARIA</th>\n",
       "      <td>-0.111674</td>\n",
       "      <td>1.000000</td>\n",
       "      <td>-0.288820</td>\n",
       "    </tr>\n",
       "    <tr>\n",
       "      <th>TP_MODALIDADE_ENSINO</th>\n",
       "      <td>0.331934</td>\n",
       "      <td>-0.288820</td>\n",
       "      <td>1.000000</td>\n",
       "    </tr>\n",
       "  </tbody>\n",
       "</table>\n",
       "</div>"
      ],
      "text/plain": [
       "                      NU_IDADE  NU_CARGA_HORARIA  TP_MODALIDADE_ENSINO\n",
       "NU_IDADE              1.000000         -0.111674              0.331934\n",
       "NU_CARGA_HORARIA     -0.111674          1.000000             -0.288820\n",
       "TP_MODALIDADE_ENSINO  0.331934         -0.288820              1.000000"
      ]
     },
     "execution_count": 30,
     "metadata": {},
     "output_type": "execute_result"
    }
   ],
   "source": [
    "df_alunos3.corr()"
   ]
  },
  {
   "cell_type": "code",
   "execution_count": 31,
   "metadata": {},
   "outputs": [],
   "source": [
    "# Ajustando Idade com log\n",
    "df_alunos3['log_idade'] = np.log1p(df_alunos3['NU_IDADE'])"
   ]
  },
  {
   "cell_type": "code",
   "execution_count": 32,
   "metadata": {},
   "outputs": [
    {
     "data": {
      "text/html": [
       "<div>\n",
       "<style scoped>\n",
       "    .dataframe tbody tr th:only-of-type {\n",
       "        vertical-align: middle;\n",
       "    }\n",
       "\n",
       "    .dataframe tbody tr th {\n",
       "        vertical-align: top;\n",
       "    }\n",
       "\n",
       "    .dataframe thead th {\n",
       "        text-align: right;\n",
       "    }\n",
       "</style>\n",
       "<table border=\"1\" class=\"dataframe\">\n",
       "  <thead>\n",
       "    <tr style=\"text-align: right;\">\n",
       "      <th></th>\n",
       "      <th>NU_IDADE</th>\n",
       "      <th>NU_CARGA_HORARIA</th>\n",
       "      <th>TP_MODALIDADE_ENSINO</th>\n",
       "      <th>log_idade</th>\n",
       "    </tr>\n",
       "  </thead>\n",
       "  <tbody>\n",
       "    <tr>\n",
       "      <th>0</th>\n",
       "      <td>39</td>\n",
       "      <td>3700</td>\n",
       "      <td>1</td>\n",
       "      <td>3.688879</td>\n",
       "    </tr>\n",
       "    <tr>\n",
       "      <th>1</th>\n",
       "      <td>30</td>\n",
       "      <td>3700</td>\n",
       "      <td>1</td>\n",
       "      <td>3.433987</td>\n",
       "    </tr>\n",
       "    <tr>\n",
       "      <th>2</th>\n",
       "      <td>37</td>\n",
       "      <td>3700</td>\n",
       "      <td>1</td>\n",
       "      <td>3.637586</td>\n",
       "    </tr>\n",
       "    <tr>\n",
       "      <th>3</th>\n",
       "      <td>42</td>\n",
       "      <td>3700</td>\n",
       "      <td>1</td>\n",
       "      <td>3.761200</td>\n",
       "    </tr>\n",
       "    <tr>\n",
       "      <th>4</th>\n",
       "      <td>39</td>\n",
       "      <td>3700</td>\n",
       "      <td>1</td>\n",
       "      <td>3.688879</td>\n",
       "    </tr>\n",
       "  </tbody>\n",
       "</table>\n",
       "</div>"
      ],
      "text/plain": [
       "   NU_IDADE  NU_CARGA_HORARIA  TP_MODALIDADE_ENSINO  log_idade\n",
       "0        39              3700                     1   3.688879\n",
       "1        30              3700                     1   3.433987\n",
       "2        37              3700                     1   3.637586\n",
       "3        42              3700                     1   3.761200\n",
       "4        39              3700                     1   3.688879"
      ]
     },
     "execution_count": 32,
     "metadata": {},
     "output_type": "execute_result"
    }
   ],
   "source": [
    "df_alunos3.head()"
   ]
  },
  {
   "cell_type": "code",
   "execution_count": 33,
   "metadata": {},
   "outputs": [
    {
     "name": "stdout",
     "output_type": "stream",
     "text": [
      "                            OLS Regression Results                            \n",
      "==============================================================================\n",
      "Dep. Variable:              log_idade   R-squared:                       0.117\n",
      "Model:                            OLS   Adj. R-squared:                  0.117\n",
      "Method:                 Least Squares   F-statistic:                 7.951e+04\n",
      "Date:                Tue, 03 Sep 2019   Prob (F-statistic):               0.00\n",
      "Time:                        11:18:12   Log-Likelihood:                 73152.\n",
      "No. Observations:             1201145   AIC:                        -1.463e+05\n",
      "Df Residuals:                 1201142   BIC:                        -1.463e+05\n",
      "Df Model:                           2                                         \n",
      "Covariance Type:            nonrobust                                         \n",
      "========================================================================================\n",
      "                           coef    std err          t      P>|t|      [0.025      0.975]\n",
      "----------------------------------------------------------------------------------------\n",
      "Intercept                3.1459      0.001   2844.102      0.000       3.144       3.148\n",
      "NU_CARGA_HORARIA     -2.024e-06   2.11e-07     -9.583      0.000   -2.44e-06   -1.61e-06\n",
      "TP_MODALIDADE_ENSINO     0.2017      0.001    378.912      0.000       0.201       0.203\n",
      "==============================================================================\n",
      "Omnibus:                   124752.647   Durbin-Watson:                   1.335\n",
      "Prob(Omnibus):                  0.000   Jarque-Bera (JB):           167440.383\n",
      "Skew:                           0.877   Prob(JB):                         0.00\n",
      "Kurtosis:                       3.519   Cond. No.                     2.00e+04\n",
      "==============================================================================\n",
      "\n",
      "Warnings:\n",
      "[1] Standard Errors assume that the covariance matrix of the errors is correctly specified.\n",
      "[2] The condition number is large,  2e+04. This might indicate that there are\n",
      "strong multicollinearity or other numerical problems.\n"
     ]
    }
   ],
   "source": [
    "# Rodando uma Regressão Multipla usando, entre outras, a carga horária de um curso como variável independente\n",
    "# para explicar a idade dos alunos formados (NU_IDADE -> TARGET)\n",
    "\n",
    "model = smf.ols('log_idade ~ NU_CARGA_HORARIA + TP_MODALIDADE_ENSINO', df_alunos3.dropna()).fit() \n",
    "print(model.summary())"
   ]
  },
  {
   "cell_type": "markdown",
   "metadata": {},
   "source": [
    "## Resposta 3"
   ]
  },
  {
   "cell_type": "markdown",
   "metadata": {},
   "source": [
    "Probabilidade de:\n",
    "\n",
    "- pegarmos um professor ao acaso no Brasil\n",
    "- ele ter mais do que o dobro da sua idade\n",
    "- dado que ele é homem"
   ]
  },
  {
   "cell_type": "code",
   "execution_count": 52,
   "metadata": {},
   "outputs": [],
   "source": [
    "# Analisando os dados de DM_DOCENTE\n",
    "#\n",
    "# TP_SITUACAO:\n",
    "# \"1. Em exercício / 2. Afastado para qualificação / 3. Afastado para exercício em outros órgãos/entidades\n",
    "#  4. Afastado por outros motivos / 5. Afastado para tratamento de saúde / 6. Falecido\"\n",
    "# TP_SEXO:\n",
    "# \"1. Feminino / 2. Masculino\"\n",
    "#\n",
    "# Nota: considerando apenas professores homens em exercício (TP_SITUACAO = 1 e TP_SEXO = 2)\n",
    "\n",
    "DOCENTES = ('''select\n",
    "               TP_SEXO,\n",
    "               NU_IDADE\n",
    "               from DM_DOCENTE\n",
    "               where TP_SITUACAO = 1 and TP_SEXO = 2''')"
   ]
  },
  {
   "cell_type": "code",
   "execution_count": 53,
   "metadata": {},
   "outputs": [
    {
     "data": {
      "text/plain": [
       "(206255, 2)"
      ]
     },
     "execution_count": 53,
     "metadata": {},
     "output_type": "execute_result"
    }
   ],
   "source": [
    "df_docentes = pd.read_sql_query(DOCENTES,db)\n",
    "df_docentes.shape"
   ]
  },
  {
   "cell_type": "code",
   "execution_count": 54,
   "metadata": {},
   "outputs": [
    {
     "data": {
      "text/html": [
       "<div>\n",
       "<style scoped>\n",
       "    .dataframe tbody tr th:only-of-type {\n",
       "        vertical-align: middle;\n",
       "    }\n",
       "\n",
       "    .dataframe tbody tr th {\n",
       "        vertical-align: top;\n",
       "    }\n",
       "\n",
       "    .dataframe thead th {\n",
       "        text-align: right;\n",
       "    }\n",
       "</style>\n",
       "<table border=\"1\" class=\"dataframe\">\n",
       "  <thead>\n",
       "    <tr style=\"text-align: right;\">\n",
       "      <th></th>\n",
       "      <th>TP_SEXO</th>\n",
       "      <th>NU_IDADE</th>\n",
       "    </tr>\n",
       "  </thead>\n",
       "  <tbody>\n",
       "    <tr>\n",
       "      <th>count</th>\n",
       "      <td>206255.0</td>\n",
       "      <td>206255.000000</td>\n",
       "    </tr>\n",
       "    <tr>\n",
       "      <th>mean</th>\n",
       "      <td>2.0</td>\n",
       "      <td>45.306179</td>\n",
       "    </tr>\n",
       "    <tr>\n",
       "      <th>std</th>\n",
       "      <td>0.0</td>\n",
       "      <td>11.242007</td>\n",
       "    </tr>\n",
       "    <tr>\n",
       "      <th>min</th>\n",
       "      <td>2.0</td>\n",
       "      <td>19.000000</td>\n",
       "    </tr>\n",
       "    <tr>\n",
       "      <th>25%</th>\n",
       "      <td>2.0</td>\n",
       "      <td>36.000000</td>\n",
       "    </tr>\n",
       "    <tr>\n",
       "      <th>50%</th>\n",
       "      <td>2.0</td>\n",
       "      <td>44.000000</td>\n",
       "    </tr>\n",
       "    <tr>\n",
       "      <th>75%</th>\n",
       "      <td>2.0</td>\n",
       "      <td>53.000000</td>\n",
       "    </tr>\n",
       "    <tr>\n",
       "      <th>max</th>\n",
       "      <td>2.0</td>\n",
       "      <td>99.000000</td>\n",
       "    </tr>\n",
       "  </tbody>\n",
       "</table>\n",
       "</div>"
      ],
      "text/plain": [
       "        TP_SEXO       NU_IDADE\n",
       "count  206255.0  206255.000000\n",
       "mean        2.0      45.306179\n",
       "std         0.0      11.242007\n",
       "min         2.0      19.000000\n",
       "25%         2.0      36.000000\n",
       "50%         2.0      44.000000\n",
       "75%         2.0      53.000000\n",
       "max         2.0      99.000000"
      ]
     },
     "execution_count": 54,
     "metadata": {},
     "output_type": "execute_result"
    }
   ],
   "source": [
    "df_docentes.describe()"
   ]
  },
  {
   "cell_type": "code",
   "execution_count": 61,
   "metadata": {},
   "outputs": [
    {
     "data": {
      "text/plain": [
       "<matplotlib.axes._subplots.AxesSubplot at 0x1b483124710>"
      ]
     },
     "execution_count": 61,
     "metadata": {},
     "output_type": "execute_result"
    },
    {
     "data": {
      "image/png": "[encoded data removed]",
      "text/plain": [
       "<Figure size 432x288 with 1 Axes>"
      ]
     },
     "metadata": {
      "needs_background": "light"
     },
     "output_type": "display_data"
    }
   ],
   "source": [
    "df_docentes.NU_IDADE.plot.hist(bins=20)"
   ]
  },
  {
   "cell_type": "code",
   "execution_count": 64,
   "metadata": {},
   "outputs": [],
   "source": [
    "# Ajustando Idade com log\n",
    "df_docentes['log_idade'] = np.log1p(df_docentes['NU_IDADE'])"
   ]
  },
  {
   "cell_type": "code",
   "execution_count": 66,
   "metadata": {},
   "outputs": [
    {
     "data": {
      "text/plain": [
       "<matplotlib.axes._subplots.AxesSubplot at 0x1b4830a02b0>"
      ]
     },
     "execution_count": 66,
     "metadata": {},
     "output_type": "execute_result"
    },
    {
     "data": {
      "image/png": "[encoded data removed]",
      "text/plain": [
       "<Figure size 432x288 with 1 Axes>"
      ]
     },
     "metadata": {
      "needs_background": "light"
     },
     "output_type": "display_data"
    }
   ],
   "source": [
    "df_docentes.log_idade.plot.hist()"
   ]
  },
  {
   "cell_type": "code",
   "execution_count": 68,
   "metadata": {},
   "outputs": [
    {
     "name": "stdout",
     "output_type": "stream",
     "text": [
      "45 3.828641396489095 206255 3.80599415634635 0.24248921848922075\n"
     ]
    }
   ],
   "source": [
    "minha_idade = 45\n",
    "minha_log_idade = np.log1p(minha_idade)\n",
    "\n",
    "n_docentes = len(df_docentes['log_idade'])\n",
    "media_docentes = df_docentes['log_idade'].mean()\n",
    "sigma_docentes = df_docentes['log_idade'].std()\n",
    "\n",
    "print(minha_idade, minha_log_idade, n_docentes, media_docentes, sigma_docentes)"
   ]
  },
  {
   "cell_type": "code",
   "execution_count": 69,
   "metadata": {},
   "outputs": [
    {
     "name": "stdout",
     "output_type": "stream",
     "text": [
      "3.3307152881074775 4.281273024585223\n"
     ]
    }
   ],
   "source": [
    "# Realizando Z-test\n",
    "# Calculando o Intervalo de Confiança de 95% \n",
    "print(media_docentes - 1.96*sigma_docentes, media_docentes + 1.96*sigma_docentes)"
   ]
  },
  {
   "cell_type": "code",
   "execution_count": 71,
   "metadata": {},
   "outputs": [
    {
     "data": {
      "text/plain": [
       "4.51085950651685"
      ]
     },
     "execution_count": 71,
     "metadata": {},
     "output_type": "execute_result"
    }
   ],
   "source": [
    "# Cálculo da probabilidade do docente homem ter mais do que o dobro de minha idade\n",
    "# -> prob de ser maior do que minha_idade * 2\n",
    "\n",
    "minha_idade_dobrada = minha_idade * 2\n",
    "minha_idade_dobrada_log = np.log1p(minha_idade_dobrada)\n",
    "\n",
    "minha_idade_dobrada_log\n",
    "\n",
    "# Note que o resultado está além do intervalo de confiança de 95%\n",
    "# portanto a probabilidade será 1 - p-value do ponto onde estiver localizado a minha_idade_dobrada_log de 4.51"
   ]
  },
  {
   "cell_type": "code",
   "execution_count": 73,
   "metadata": {},
   "outputs": [
    {
     "data": {
      "text/plain": [
       "2.906790473250804"
      ]
     },
     "execution_count": 73,
     "metadata": {},
     "output_type": "execute_result"
    }
   ],
   "source": [
    "z_score_minha_idade_dobrada = (minha_idade_dobrada_log - media_docentes) / sigma_docentes\n",
    "z_score_minha_idade_dobrada"
   ]
  },
  {
   "cell_type": "code",
   "execution_count": 74,
   "metadata": {},
   "outputs": [
    {
     "name": "stdout",
     "output_type": "stream",
     "text": [
      "(3.3307240214682134, 4.281264291224487)\n"
     ]
    }
   ],
   "source": [
    "# Calculando com scipy\n",
    "print(stats.norm.interval(alpha=0.95, loc=media_docentes, scale=sigma_docentes))\n",
    "print(stats.z-score(z_score_minha_idade_dobrada,))"
   ]
  },
  {
   "cell_type": "code",
   "execution_count": 75,
   "metadata": {},
   "outputs": [
    {
     "name": "stdout",
     "output_type": "stream",
     "text": [
      "4.3040061246585495\n",
      "4.332217676057808\n",
      "4.370108434256574\n",
      "4.4306049911255565\n"
     ]
    }
   ],
   "source": [
    "print(stats.norm.interval(alpha=0.96, loc=media_docentes, scale=sigma_docentes)[1])\n",
    "print(stats.norm.interval(alpha=0.97, loc=media_docentes, scale=sigma_docentes)[1])\n",
    "print(stats.norm.interval(alpha=0.98, loc=media_docentes, scale=sigma_docentes)[1])\n",
    "print(stats.norm.interval(alpha=0.99, loc=media_docentes, scale=sigma_docentes)[1])"
   ]
  },
  {
   "cell_type": "code",
   "execution_count": 103,
   "metadata": {},
   "outputs": [
    {
     "name": "stdout",
     "output_type": "stream",
     "text": [
      "4.510854873288285\n"
     ]
    },
    {
     "data": {
      "text/plain": [
       "0.0018258999999999914"
      ]
     },
     "execution_count": 103,
     "metadata": {},
     "output_type": "execute_result"
    }
   ],
   "source": [
    "# Achando o valor próximo de z-score de minha_idade_dobrada_log = 4.51085950651685\n",
    "\n",
    "print(stats.norm.interval(alpha=0.9963482, loc=media_docentes, scale=sigma_docentes)[1])\n",
    "(1-0.9963482) / 2"
   ]
  },
  {
   "cell_type": "markdown",
   "metadata": {},
   "source": [
    "**Conclusão, a probabilidade será de menos de 0.2% de encontrar um docente homem acima do dobro de minha idade de 45 anos**"
   ]
  },
  {
   "cell_type": "code",
   "execution_count": null,
   "metadata": {},
   "outputs": [],
   "source": []
  }
 ],
 "metadata": {
  "kernelspec": {
   "display_name": "Python 3",
   "language": "python",
   "name": "python3"
  },
  "language_info": {
   "codemirror_mode": {
    "name": "ipython",
    "version": 3
   },
   "file_extension": ".py",
   "mimetype": "text/x-python",
   "name": "python",
   "nbconvert_exporter": "python",
   "pygments_lexer": "ipython3",
   "version": "3.7.3"
  },
  "toc": {
   "base_numbering": 1,
   "nav_menu": {},
   "number_sections": true,
   "sideBar": true,
   "skip_h1_title": false,
   "title_cell": "Table of Contents",
   "title_sidebar": "Contents",
   "toc_cell": false,
   "toc_position": {},
   "toc_section_display": true,
   "toc_window_display": false
  }
 },
 "nbformat": 4,
 "nbformat_minor": 2
}
