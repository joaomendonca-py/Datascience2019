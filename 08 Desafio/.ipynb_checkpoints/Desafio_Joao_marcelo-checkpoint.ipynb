{
 "cells": [
  {
   "cell_type": "markdown",
   "metadata": {},
   "source": [
    "## Desafio_1\n",
    "\n",
    "Agora vamos praticas tudo o que aprendemos no módulo 1 utilizando dados reais do CAGED (Cadastro Geral de Empregados e Desempregados)\n",
    "\n",
    "<br>\n",
    "<img src=\"img/caged.png\" width='1200' >\n",
    "<br>\n",
    "\n",
    "O Cadastro Geral de Empregados e Desempregados (CAGED) foi criado como registro permanente de admissões e dispensa de empregados, sob o regime da Consolidação das Leis do Trabalho (CLT).\n",
    "\n",
    "É utilizado pelo Programa de Seguro-Desemprego, para conferir os dados referentes aos vínculos trabalhistas, além de outros programas sociais.\n",
    "\n",
    "Este Cadastro serve, ainda, como base para a elaboração de estudos, pesquisas, projetos e programas ligados ao mercado de trabalho, ao mesmo tempo em que subsidia a tomada de decisões para ações governamentais.\n",
    "\n",
    "Visite o sitee do CAGED através [deste link](http://trabalho.gov.br/trabalhador-caged/2015-09-10-17-46-22) e acesse os dados clicando inicialemente em **ESTATÍSTICA** e depois em **MICRODADOS**, então acesse a base de dados do CAGED e baixe o último arquivo do ano de 2018 **CAGEDEST_122018.7z**. Além disso, baize também o arquivo **CAGEDEST_layout_Atualizado.xls** para o dicionário de dados.\n",
    "\n",
    "Após isso, podemos começar as nossas análises:\n",
    "\n",
    "1. **Importar as bibliotecas** e ler os dados: Importe as bibliotecas necessárias e verifique a cara dos dados e suas informações básicas dos conteúdos das colunas.\n",
    "\n",
    "2. Limpeza e transformação da variável alvo **Salário Mensal**: verifique o tipo de dado da variával Salário Mensal, faça as devidas mudanças, plote a distribuição e dispersão dos dados e aplique a transformação matemática para a correção da assimetria.\n",
    "\n",
    "3. Verificação dos dados da variável **Idade**: verifique os dados da variável Idade, plote uma distribuição e uma dispersão, calcule a correlação com a variável salário mensal e interprete os resultados.\n",
    "\n",
    "4. Verificação dos dados da variável **Grau de Instrução**: verifique os dados da variável Grau de instrução, plote uma distribuição e uma dispersão, calcule a correlação com a variável salário mensal e interprete os resultados.\n",
    "\n",
    "5. Verificação dos dados da variável **Sexo**: verifique os dados da variável Sexo, plote uma distribuição e uma dispersão, calcule a correlação com a variável salário mensal e interprete os resultados. Depois disso, faça uma inferência estatística pra verificar se os homens ganham mais que as mulheres.\n",
    "\n",
    "6. Verificação dos dados da variável **Raça Cor**: verifique os dados da variável Raça Cor, plote uma distribuição e uma dispersão, calcule a correlação com a variável salário mensal e interprete os resultados. Depois disso, faça uma inferência estatística pra verificar se os brancos ganham mais que os outros grupos étnicos.\n",
    "\n",
    "7. Elaborar uma hipótese para ser rejeitada ou não-rejeitada por voce de acordo com o resultado da sua análise\n",
    "\n",
    "8. Avançado: plote um SEABORN heatmap com **todas as correlações das variávies numéricas entre si**. \n",
    "\n",
    "9. Avançado: Plote uma **regressão múltipla**\n"
   ]
  },
  {
   "cell_type": "code",
   "execution_count": 5,
   "metadata": {},
   "outputs": [
    {
     "name": "stdout",
     "output_type": "stream",
     "text": [
      "64\n"
     ]
    }
   ],
   "source": [
    "import struct;print( 8 * struct.calcsize(\"P\")) #Eu explorei este código para verificar se eu instalei corretamente o anaconda de 64bits."
   ]
  },
  {
   "cell_type": "code",
   "execution_count": 6,
   "metadata": {},
   "outputs": [
    {
     "name": "stdout",
     "output_type": "stream",
     "text": [
      "/home/joao/Digital_House/Módulo 1 - Análise Exploratória Básica/08 Desafio\n"
     ]
    }
   ],
   "source": [
    "import os\n",
    "print(os.getcwd()) # Este código eu achei na internet devido a minha dificuldade de puxar o arquivo (que não resolveu, apenas ficou como curiosidade)"
   ]
  },
  {
   "cell_type": "code",
   "execution_count": 7,
   "metadata": {},
   "outputs": [
    {
     "name": "stdout",
     "output_type": "stream",
     "text": [
      "/home/joao/Digital_House/Módulo 1 - Análise Exploratória Básica/08 Desafio\n",
      "['.~lock.CAGEDEST_layout_Atualizado.xls#', 'CAGEDEST_122018.txt', '.~lock.desafio 01.docx#', 'CAGEDEST_122018.7z', 'Desafio_Joao_marcelo.ipynb', '.ipynb_checkpoints', 'desafio 01.docx', 'img', 'CAGEDEST_layout_Atualizado.xls']\n"
     ]
    }
   ],
   "source": [
    "import os\n",
    "\n",
    "print(os.getcwd())\n",
    "\n",
    "print(os.listdir(os.getcwd())) # Mesmo caso do anterior."
   ]
  },
  {
   "cell_type": "markdown",
   "metadata": {},
   "source": [
    "1. Importação dos dados"
   ]
  },
  {
   "cell_type": "code",
   "execution_count": 8,
   "metadata": {
    "collapsed": true
   },
   "outputs": [],
   "source": [
    "import numpy as np\n",
    "import pandas as pd\n",
    "import scipy\n",
    "from scipy import stats\n",
    "import matplotlib.pyplot as plt\n",
    "import seaborn as sns\n",
    "%matplotlib inline\n",
    "\n",
    "import warnings\n",
    "warnings.filterwarnings(\"ignore\") # A partir daqui foi feito as importações que eram necessárias e que achei interessante colocar."
   ]
  },
  {
   "cell_type": "code",
   "execution_count": 9,
   "metadata": {},
   "outputs": [
    {
     "name": "stdout",
     "output_type": "stream",
     "text": [
      "CPU times: user 6.27 s, sys: 700 ms, total: 6.97 s\n",
      "Wall time: 7.11 s\n"
     ]
    }
   ],
   "source": [
    "%%time\n",
    "\n",
    "df = pd.read_csv(r'CAGEDEST_122018.txt', sep=';', encoding = \"ISO-8859-1\", decimal = ',') # Com muita dificuldade, esta estapa foi vencida com um bizu e também com muita pesquisa. Eu não conhecia o formato 7z, eu pensei que no linux não era possível extrair o arquivo."
   ]
  },
  {
   "cell_type": "markdown",
   "metadata": {},
   "source": [
    "2.Formatação e Limpeza e transformação da variável"
   ]
  },
  {
   "cell_type": "code",
   "execution_count": 10,
   "metadata": {},
   "outputs": [
    {
     "data": {
      "text/plain": [
       "(2256752, 42)"
      ]
     },
     "execution_count": 10,
     "metadata": {},
     "output_type": "execute_result"
    }
   ],
   "source": [
    "df.shape"
   ]
  },
  {
   "cell_type": "code",
   "execution_count": 11,
   "metadata": {
    "scrolled": false
   },
   "outputs": [
    {
     "name": "stdout",
     "output_type": "stream",
     "text": [
      "<class 'pandas.core.frame.DataFrame'>\n",
      "RangeIndex: 2256752 entries, 0 to 2256751\n",
      "Data columns (total 42 columns):\n",
      "Admitidos/Desligados     int64\n",
      "Competência Declarada    int64\n",
      "Município                int64\n",
      "Ano Declarado            int64\n",
      "CBO 2002 Ocupação        int64\n",
      "CNAE 1.0 Classe          int64\n",
      "CNAE 2.0 Classe          int64\n",
      "CNAE 2.0 Subclas         int64\n",
      "Faixa Empr Início Jan    int64\n",
      "Grau Instrução           int64\n",
      "Qtd Hora Contrat         int64\n",
      "IBGE Subsetor            int64\n",
      "Idade                    int64\n",
      "Ind Aprendiz             int64\n",
      "Ind Portador Defic       int64\n",
      "Raça Cor                 int64\n",
      "Salário Mensal           float64\n",
      "Saldo Mov                int64\n",
      "Sexo                     int64\n",
      "Tempo Emprego            float64\n",
      "Tipo Estab               int64\n",
      "Tipo Defic               int64\n",
      "Tipo Mov Desagregado     int64\n",
      "UF                       int64\n",
      "Bairros SP               object\n",
      "Bairros Fortaleza        object\n",
      "Bairros RJ               object\n",
      "Distritos SP             object\n",
      "Regiões Adm DF           int64\n",
      "Mesorregião              int64\n",
      "Microrregião             int64\n",
      "Região Adm RJ            object\n",
      "Região Adm SP            object\n",
      "Região Corede            object\n",
      "Região Corede 04         object\n",
      "Região Gov SP            object\n",
      "Região Senac PR          object\n",
      "Região Senai PR          object\n",
      "Região Senai SP          object\n",
      "Sub-Região Senai PR      object\n",
      "Ind Trab Parcial         int64\n",
      "Ind Trab Intermitente    int64\n",
      "dtypes: float64(2), int64(27), object(13)\n",
      "memory usage: 723.1+ MB\n"
     ]
    }
   ],
   "source": [
    "df.info() #Esta etapa consegui verificar as informações contidas no arquivo."
   ]
  },
  {
   "cell_type": "code",
   "execution_count": 12,
   "metadata": {
    "scrolled": true
   },
   "outputs": [
    {
     "data": {
      "text/html": [
       "<div>\n",
       "<style>\n",
       "    .dataframe thead tr:only-child th {\n",
       "        text-align: right;\n",
       "    }\n",
       "\n",
       "    .dataframe thead th {\n",
       "        text-align: left;\n",
       "    }\n",
       "\n",
       "    .dataframe tbody tr th {\n",
       "        vertical-align: top;\n",
       "    }\n",
       "</style>\n",
       "<table border=\"1\" class=\"dataframe\">\n",
       "  <thead>\n",
       "    <tr style=\"text-align: right;\">\n",
       "      <th></th>\n",
       "      <th>Admitidos/Desligados</th>\n",
       "      <th>Competência Declarada</th>\n",
       "      <th>Município</th>\n",
       "      <th>Ano Declarado</th>\n",
       "      <th>CBO 2002 Ocupação</th>\n",
       "      <th>CNAE 1.0 Classe</th>\n",
       "      <th>CNAE 2.0 Classe</th>\n",
       "      <th>CNAE 2.0 Subclas</th>\n",
       "      <th>Faixa Empr Início Jan</th>\n",
       "      <th>Grau Instrução</th>\n",
       "      <th>...</th>\n",
       "      <th>Tempo Emprego</th>\n",
       "      <th>Tipo Estab</th>\n",
       "      <th>Tipo Defic</th>\n",
       "      <th>Tipo Mov Desagregado</th>\n",
       "      <th>UF</th>\n",
       "      <th>Regiões Adm DF</th>\n",
       "      <th>Mesorregião</th>\n",
       "      <th>Microrregião</th>\n",
       "      <th>Ind Trab Parcial</th>\n",
       "      <th>Ind Trab Intermitente</th>\n",
       "    </tr>\n",
       "  </thead>\n",
       "  <tbody>\n",
       "    <tr>\n",
       "      <th>count</th>\n",
       "      <td>2.256752e+06</td>\n",
       "      <td>2256752.0</td>\n",
       "      <td>2.256752e+06</td>\n",
       "      <td>2256752.0</td>\n",
       "      <td>2.256752e+06</td>\n",
       "      <td>2.256752e+06</td>\n",
       "      <td>2.256752e+06</td>\n",
       "      <td>2.256752e+06</td>\n",
       "      <td>2.256752e+06</td>\n",
       "      <td>2.256752e+06</td>\n",
       "      <td>...</td>\n",
       "      <td>2.256752e+06</td>\n",
       "      <td>2.256752e+06</td>\n",
       "      <td>2.256752e+06</td>\n",
       "      <td>2.256752e+06</td>\n",
       "      <td>2.256752e+06</td>\n",
       "      <td>2.256752e+06</td>\n",
       "      <td>2.256752e+06</td>\n",
       "      <td>2.256752e+06</td>\n",
       "      <td>2.256752e+06</td>\n",
       "      <td>2.256752e+06</td>\n",
       "    </tr>\n",
       "    <tr>\n",
       "      <th>mean</th>\n",
       "      <td>1.574103e+00</td>\n",
       "      <td>201812.0</td>\n",
       "      <td>3.553863e+05</td>\n",
       "      <td>2018.0</td>\n",
       "      <td>5.368213e+05</td>\n",
       "      <td>5.304958e+04</td>\n",
       "      <td>5.126839e+04</td>\n",
       "      <td>5.126847e+06</td>\n",
       "      <td>4.303066e+00</td>\n",
       "      <td>6.595547e+00</td>\n",
       "      <td>...</td>\n",
       "      <td>1.318030e+01</td>\n",
       "      <td>1.084850e+00</td>\n",
       "      <td>1.553693e-02</td>\n",
       "      <td>6.216255e+00</td>\n",
       "      <td>3.534381e+01</td>\n",
       "      <td>7.773592e-01</td>\n",
       "      <td>3.540988e+03</td>\n",
       "      <td>3.537022e+04</td>\n",
       "      <td>4.852106e-03</td>\n",
       "      <td>5.339089e-03</td>\n",
       "    </tr>\n",
       "    <tr>\n",
       "      <th>std</th>\n",
       "      <td>4.944784e-01</td>\n",
       "      <td>0.0</td>\n",
       "      <td>8.300073e+04</td>\n",
       "      <td>0.0</td>\n",
       "      <td>1.784826e+05</td>\n",
       "      <td>2.269392e+04</td>\n",
       "      <td>2.468035e+04</td>\n",
       "      <td>2.468034e+06</td>\n",
       "      <td>2.646710e+00</td>\n",
       "      <td>1.548538e+00</td>\n",
       "      <td>...</td>\n",
       "      <td>3.413455e+01</td>\n",
       "      <td>4.031142e-01</td>\n",
       "      <td>2.154446e-01</td>\n",
       "      <td>9.922202e+00</td>\n",
       "      <td>8.311311e+00</td>\n",
       "      <td>8.125151e+01</td>\n",
       "      <td>8.309257e+02</td>\n",
       "      <td>8.310356e+03</td>\n",
       "      <td>6.948788e-02</td>\n",
       "      <td>7.287376e-02</td>\n",
       "    </tr>\n",
       "    <tr>\n",
       "      <th>min</th>\n",
       "      <td>1.000000e+00</td>\n",
       "      <td>201812.0</td>\n",
       "      <td>1.100010e+05</td>\n",
       "      <td>2018.0</td>\n",
       "      <td>3.011000e+04</td>\n",
       "      <td>1.112000e+03</td>\n",
       "      <td>1.113000e+03</td>\n",
       "      <td>1.113010e+05</td>\n",
       "      <td>1.000000e+00</td>\n",
       "      <td>1.000000e+00</td>\n",
       "      <td>...</td>\n",
       "      <td>0.000000e+00</td>\n",
       "      <td>1.000000e+00</td>\n",
       "      <td>0.000000e+00</td>\n",
       "      <td>1.000000e+00</td>\n",
       "      <td>1.100000e+01</td>\n",
       "      <td>0.000000e+00</td>\n",
       "      <td>1.101000e+03</td>\n",
       "      <td>1.100100e+04</td>\n",
       "      <td>0.000000e+00</td>\n",
       "      <td>0.000000e+00</td>\n",
       "    </tr>\n",
       "    <tr>\n",
       "      <th>25%</th>\n",
       "      <td>1.000000e+00</td>\n",
       "      <td>201812.0</td>\n",
       "      <td>3.147000e+05</td>\n",
       "      <td>2018.0</td>\n",
       "      <td>4.141050e+05</td>\n",
       "      <td>4.525000e+04</td>\n",
       "      <td>4.213800e+04</td>\n",
       "      <td>4.213800e+06</td>\n",
       "      <td>2.000000e+00</td>\n",
       "      <td>6.000000e+00</td>\n",
       "      <td>...</td>\n",
       "      <td>0.000000e+00</td>\n",
       "      <td>1.000000e+00</td>\n",
       "      <td>0.000000e+00</td>\n",
       "      <td>2.000000e+00</td>\n",
       "      <td>3.100000e+01</td>\n",
       "      <td>0.000000e+00</td>\n",
       "      <td>3.108000e+03</td>\n",
       "      <td>3.103900e+04</td>\n",
       "      <td>0.000000e+00</td>\n",
       "      <td>0.000000e+00</td>\n",
       "    </tr>\n",
       "    <tr>\n",
       "      <th>50%</th>\n",
       "      <td>2.000000e+00</td>\n",
       "      <td>201812.0</td>\n",
       "      <td>3.531500e+05</td>\n",
       "      <td>2018.0</td>\n",
       "      <td>5.174100e+05</td>\n",
       "      <td>5.241800e+04</td>\n",
       "      <td>4.773300e+04</td>\n",
       "      <td>4.773300e+06</td>\n",
       "      <td>4.000000e+00</td>\n",
       "      <td>7.000000e+00</td>\n",
       "      <td>...</td>\n",
       "      <td>2.000000e+00</td>\n",
       "      <td>1.000000e+00</td>\n",
       "      <td>0.000000e+00</td>\n",
       "      <td>4.000000e+00</td>\n",
       "      <td>3.500000e+01</td>\n",
       "      <td>0.000000e+00</td>\n",
       "      <td>3.512000e+03</td>\n",
       "      <td>3.504600e+04</td>\n",
       "      <td>0.000000e+00</td>\n",
       "      <td>0.000000e+00</td>\n",
       "    </tr>\n",
       "    <tr>\n",
       "      <th>75%</th>\n",
       "      <td>2.000000e+00</td>\n",
       "      <td>201812.0</td>\n",
       "      <td>4.117900e+05</td>\n",
       "      <td>2018.0</td>\n",
       "      <td>7.152100e+05</td>\n",
       "      <td>7.412800e+04</td>\n",
       "      <td>7.490100e+04</td>\n",
       "      <td>7.490102e+06</td>\n",
       "      <td>6.000000e+00</td>\n",
       "      <td>7.000000e+00</td>\n",
       "      <td>...</td>\n",
       "      <td>1.100000e+01</td>\n",
       "      <td>1.000000e+00</td>\n",
       "      <td>0.000000e+00</td>\n",
       "      <td>6.000000e+00</td>\n",
       "      <td>4.100000e+01</td>\n",
       "      <td>0.000000e+00</td>\n",
       "      <td>4.110000e+03</td>\n",
       "      <td>4.103700e+04</td>\n",
       "      <td>0.000000e+00</td>\n",
       "      <td>0.000000e+00</td>\n",
       "    </tr>\n",
       "    <tr>\n",
       "      <th>max</th>\n",
       "      <td>2.000000e+00</td>\n",
       "      <td>201812.0</td>\n",
       "      <td>5.300100e+05</td>\n",
       "      <td>2018.0</td>\n",
       "      <td>9.922250e+05</td>\n",
       "      <td>9.900700e+04</td>\n",
       "      <td>9.900800e+04</td>\n",
       "      <td>9.900800e+06</td>\n",
       "      <td>9.000000e+00</td>\n",
       "      <td>9.000000e+00</td>\n",
       "      <td>...</td>\n",
       "      <td>5.990000e+02</td>\n",
       "      <td>3.000000e+00</td>\n",
       "      <td>6.000000e+00</td>\n",
       "      <td>9.000000e+01</td>\n",
       "      <td>5.300000e+01</td>\n",
       "      <td>9.999000e+03</td>\n",
       "      <td>5.301000e+03</td>\n",
       "      <td>5.300100e+04</td>\n",
       "      <td>1.000000e+00</td>\n",
       "      <td>1.000000e+00</td>\n",
       "    </tr>\n",
       "  </tbody>\n",
       "</table>\n",
       "<p>8 rows × 29 columns</p>\n",
       "</div>"
      ],
      "text/plain": [
       "       Admitidos/Desligados  Competência Declarada     Município  \\\n",
       "count          2.256752e+06              2256752.0  2.256752e+06   \n",
       "mean           1.574103e+00               201812.0  3.553863e+05   \n",
       "std            4.944784e-01                    0.0  8.300073e+04   \n",
       "min            1.000000e+00               201812.0  1.100010e+05   \n",
       "25%            1.000000e+00               201812.0  3.147000e+05   \n",
       "50%            2.000000e+00               201812.0  3.531500e+05   \n",
       "75%            2.000000e+00               201812.0  4.117900e+05   \n",
       "max            2.000000e+00               201812.0  5.300100e+05   \n",
       "\n",
       "       Ano Declarado  CBO 2002 Ocupação  CNAE 1.0 Classe  CNAE 2.0 Classe  \\\n",
       "count      2256752.0       2.256752e+06     2.256752e+06     2.256752e+06   \n",
       "mean          2018.0       5.368213e+05     5.304958e+04     5.126839e+04   \n",
       "std              0.0       1.784826e+05     2.269392e+04     2.468035e+04   \n",
       "min           2018.0       3.011000e+04     1.112000e+03     1.113000e+03   \n",
       "25%           2018.0       4.141050e+05     4.525000e+04     4.213800e+04   \n",
       "50%           2018.0       5.174100e+05     5.241800e+04     4.773300e+04   \n",
       "75%           2018.0       7.152100e+05     7.412800e+04     7.490100e+04   \n",
       "max           2018.0       9.922250e+05     9.900700e+04     9.900800e+04   \n",
       "\n",
       "       CNAE 2.0 Subclas  Faixa Empr Início Jan  Grau Instrução  \\\n",
       "count      2.256752e+06           2.256752e+06    2.256752e+06   \n",
       "mean       5.126847e+06           4.303066e+00    6.595547e+00   \n",
       "std        2.468034e+06           2.646710e+00    1.548538e+00   \n",
       "min        1.113010e+05           1.000000e+00    1.000000e+00   \n",
       "25%        4.213800e+06           2.000000e+00    6.000000e+00   \n",
       "50%        4.773300e+06           4.000000e+00    7.000000e+00   \n",
       "75%        7.490102e+06           6.000000e+00    7.000000e+00   \n",
       "max        9.900800e+06           9.000000e+00    9.000000e+00   \n",
       "\n",
       "               ...            Tempo Emprego    Tipo Estab    Tipo Defic  \\\n",
       "count          ...             2.256752e+06  2.256752e+06  2.256752e+06   \n",
       "mean           ...             1.318030e+01  1.084850e+00  1.553693e-02   \n",
       "std            ...             3.413455e+01  4.031142e-01  2.154446e-01   \n",
       "min            ...             0.000000e+00  1.000000e+00  0.000000e+00   \n",
       "25%            ...             0.000000e+00  1.000000e+00  0.000000e+00   \n",
       "50%            ...             2.000000e+00  1.000000e+00  0.000000e+00   \n",
       "75%            ...             1.100000e+01  1.000000e+00  0.000000e+00   \n",
       "max            ...             5.990000e+02  3.000000e+00  6.000000e+00   \n",
       "\n",
       "       Tipo Mov Desagregado            UF  Regiões Adm DF   Mesorregião  \\\n",
       "count          2.256752e+06  2.256752e+06    2.256752e+06  2.256752e+06   \n",
       "mean           6.216255e+00  3.534381e+01    7.773592e-01  3.540988e+03   \n",
       "std            9.922202e+00  8.311311e+00    8.125151e+01  8.309257e+02   \n",
       "min            1.000000e+00  1.100000e+01    0.000000e+00  1.101000e+03   \n",
       "25%            2.000000e+00  3.100000e+01    0.000000e+00  3.108000e+03   \n",
       "50%            4.000000e+00  3.500000e+01    0.000000e+00  3.512000e+03   \n",
       "75%            6.000000e+00  4.100000e+01    0.000000e+00  4.110000e+03   \n",
       "max            9.000000e+01  5.300000e+01    9.999000e+03  5.301000e+03   \n",
       "\n",
       "       Microrregião  Ind Trab Parcial  Ind Trab Intermitente  \n",
       "count  2.256752e+06      2.256752e+06           2.256752e+06  \n",
       "mean   3.537022e+04      4.852106e-03           5.339089e-03  \n",
       "std    8.310356e+03      6.948788e-02           7.287376e-02  \n",
       "min    1.100100e+04      0.000000e+00           0.000000e+00  \n",
       "25%    3.103900e+04      0.000000e+00           0.000000e+00  \n",
       "50%    3.504600e+04      0.000000e+00           0.000000e+00  \n",
       "75%    4.103700e+04      0.000000e+00           0.000000e+00  \n",
       "max    5.300100e+04      1.000000e+00           1.000000e+00  \n",
       "\n",
       "[8 rows x 29 columns]"
      ]
     },
     "execution_count": 12,
     "metadata": {},
     "output_type": "execute_result"
    }
   ],
   "source": [
    "df.describe()"
   ]
  },
  {
   "cell_type": "code",
   "execution_count": 13,
   "metadata": {
    "scrolled": true
   },
   "outputs": [
    {
     "data": {
      "text/html": [
       "<div>\n",
       "<style>\n",
       "    .dataframe thead tr:only-child th {\n",
       "        text-align: right;\n",
       "    }\n",
       "\n",
       "    .dataframe thead th {\n",
       "        text-align: left;\n",
       "    }\n",
       "\n",
       "    .dataframe tbody tr th {\n",
       "        vertical-align: top;\n",
       "    }\n",
       "</style>\n",
       "<table border=\"1\" class=\"dataframe\">\n",
       "  <thead>\n",
       "    <tr style=\"text-align: right;\">\n",
       "      <th></th>\n",
       "      <th>Admitidos/Desligados</th>\n",
       "      <th>Competência Declarada</th>\n",
       "      <th>Município</th>\n",
       "      <th>Ano Declarado</th>\n",
       "      <th>CBO 2002 Ocupação</th>\n",
       "      <th>CNAE 1.0 Classe</th>\n",
       "      <th>CNAE 2.0 Classe</th>\n",
       "      <th>CNAE 2.0 Subclas</th>\n",
       "      <th>Faixa Empr Início Jan</th>\n",
       "      <th>Grau Instrução</th>\n",
       "      <th>...</th>\n",
       "      <th>Tempo Emprego</th>\n",
       "      <th>Tipo Estab</th>\n",
       "      <th>Tipo Defic</th>\n",
       "      <th>Tipo Mov Desagregado</th>\n",
       "      <th>UF</th>\n",
       "      <th>Regiões Adm DF</th>\n",
       "      <th>Mesorregião</th>\n",
       "      <th>Microrregião</th>\n",
       "      <th>Ind Trab Parcial</th>\n",
       "      <th>Ind Trab Intermitente</th>\n",
       "    </tr>\n",
       "  </thead>\n",
       "  <tbody>\n",
       "    <tr>\n",
       "      <th>Admitidos/Desligados</th>\n",
       "      <td>1.00</td>\n",
       "      <td>NaN</td>\n",
       "      <td>0.01</td>\n",
       "      <td>NaN</td>\n",
       "      <td>0.01</td>\n",
       "      <td>-0.05</td>\n",
       "      <td>-0.05</td>\n",
       "      <td>-0.05</td>\n",
       "      <td>0.06</td>\n",
       "      <td>-0.03</td>\n",
       "      <td>...</td>\n",
       "      <td>0.33</td>\n",
       "      <td>0.04</td>\n",
       "      <td>-0.00</td>\n",
       "      <td>0.25</td>\n",
       "      <td>0.01</td>\n",
       "      <td>0.00</td>\n",
       "      <td>0.01</td>\n",
       "      <td>0.01</td>\n",
       "      <td>0.00</td>\n",
       "      <td>-0.05</td>\n",
       "    </tr>\n",
       "    <tr>\n",
       "      <th>Competência Declarada</th>\n",
       "      <td>NaN</td>\n",
       "      <td>NaN</td>\n",
       "      <td>NaN</td>\n",
       "      <td>NaN</td>\n",
       "      <td>NaN</td>\n",
       "      <td>NaN</td>\n",
       "      <td>NaN</td>\n",
       "      <td>NaN</td>\n",
       "      <td>NaN</td>\n",
       "      <td>NaN</td>\n",
       "      <td>...</td>\n",
       "      <td>NaN</td>\n",
       "      <td>NaN</td>\n",
       "      <td>NaN</td>\n",
       "      <td>NaN</td>\n",
       "      <td>NaN</td>\n",
       "      <td>NaN</td>\n",
       "      <td>NaN</td>\n",
       "      <td>NaN</td>\n",
       "      <td>NaN</td>\n",
       "      <td>NaN</td>\n",
       "    </tr>\n",
       "    <tr>\n",
       "      <th>Município</th>\n",
       "      <td>0.01</td>\n",
       "      <td>NaN</td>\n",
       "      <td>1.00</td>\n",
       "      <td>NaN</td>\n",
       "      <td>0.01</td>\n",
       "      <td>-0.03</td>\n",
       "      <td>-0.02</td>\n",
       "      <td>-0.02</td>\n",
       "      <td>-0.01</td>\n",
       "      <td>-0.01</td>\n",
       "      <td>...</td>\n",
       "      <td>-0.01</td>\n",
       "      <td>0.01</td>\n",
       "      <td>-0.00</td>\n",
       "      <td>-0.02</td>\n",
       "      <td>1.00</td>\n",
       "      <td>0.02</td>\n",
       "      <td>1.00</td>\n",
       "      <td>1.00</td>\n",
       "      <td>-0.03</td>\n",
       "      <td>-0.01</td>\n",
       "    </tr>\n",
       "    <tr>\n",
       "      <th>Ano Declarado</th>\n",
       "      <td>NaN</td>\n",
       "      <td>NaN</td>\n",
       "      <td>NaN</td>\n",
       "      <td>NaN</td>\n",
       "      <td>NaN</td>\n",
       "      <td>NaN</td>\n",
       "      <td>NaN</td>\n",
       "      <td>NaN</td>\n",
       "      <td>NaN</td>\n",
       "      <td>NaN</td>\n",
       "      <td>...</td>\n",
       "      <td>NaN</td>\n",
       "      <td>NaN</td>\n",
       "      <td>NaN</td>\n",
       "      <td>NaN</td>\n",
       "      <td>NaN</td>\n",
       "      <td>NaN</td>\n",
       "      <td>NaN</td>\n",
       "      <td>NaN</td>\n",
       "      <td>NaN</td>\n",
       "      <td>NaN</td>\n",
       "    </tr>\n",
       "    <tr>\n",
       "      <th>CBO 2002 Ocupação</th>\n",
       "      <td>0.01</td>\n",
       "      <td>NaN</td>\n",
       "      <td>0.01</td>\n",
       "      <td>NaN</td>\n",
       "      <td>1.00</td>\n",
       "      <td>-0.43</td>\n",
       "      <td>-0.44</td>\n",
       "      <td>-0.44</td>\n",
       "      <td>-0.03</td>\n",
       "      <td>-0.43</td>\n",
       "      <td>...</td>\n",
       "      <td>-0.08</td>\n",
       "      <td>0.10</td>\n",
       "      <td>-0.00</td>\n",
       "      <td>-0.00</td>\n",
       "      <td>0.01</td>\n",
       "      <td>-0.00</td>\n",
       "      <td>0.01</td>\n",
       "      <td>0.01</td>\n",
       "      <td>-0.04</td>\n",
       "      <td>0.01</td>\n",
       "    </tr>\n",
       "    <tr>\n",
       "      <th>CNAE 1.0 Classe</th>\n",
       "      <td>-0.05</td>\n",
       "      <td>NaN</td>\n",
       "      <td>-0.03</td>\n",
       "      <td>NaN</td>\n",
       "      <td>-0.43</td>\n",
       "      <td>1.00</td>\n",
       "      <td>0.96</td>\n",
       "      <td>0.96</td>\n",
       "      <td>0.05</td>\n",
       "      <td>0.34</td>\n",
       "      <td>...</td>\n",
       "      <td>0.03</td>\n",
       "      <td>-0.35</td>\n",
       "      <td>0.00</td>\n",
       "      <td>-0.03</td>\n",
       "      <td>-0.03</td>\n",
       "      <td>0.00</td>\n",
       "      <td>-0.03</td>\n",
       "      <td>-0.03</td>\n",
       "      <td>0.04</td>\n",
       "      <td>0.00</td>\n",
       "    </tr>\n",
       "    <tr>\n",
       "      <th>CNAE 2.0 Classe</th>\n",
       "      <td>-0.05</td>\n",
       "      <td>NaN</td>\n",
       "      <td>-0.02</td>\n",
       "      <td>NaN</td>\n",
       "      <td>-0.44</td>\n",
       "      <td>0.96</td>\n",
       "      <td>1.00</td>\n",
       "      <td>1.00</td>\n",
       "      <td>0.07</td>\n",
       "      <td>0.33</td>\n",
       "      <td>...</td>\n",
       "      <td>0.03</td>\n",
       "      <td>-0.32</td>\n",
       "      <td>-0.00</td>\n",
       "      <td>-0.02</td>\n",
       "      <td>-0.03</td>\n",
       "      <td>0.00</td>\n",
       "      <td>-0.02</td>\n",
       "      <td>-0.02</td>\n",
       "      <td>0.04</td>\n",
       "      <td>0.00</td>\n",
       "    </tr>\n",
       "    <tr>\n",
       "      <th>CNAE 2.0 Subclas</th>\n",
       "      <td>-0.05</td>\n",
       "      <td>NaN</td>\n",
       "      <td>-0.02</td>\n",
       "      <td>NaN</td>\n",
       "      <td>-0.44</td>\n",
       "      <td>0.96</td>\n",
       "      <td>1.00</td>\n",
       "      <td>1.00</td>\n",
       "      <td>0.07</td>\n",
       "      <td>0.33</td>\n",
       "      <td>...</td>\n",
       "      <td>0.03</td>\n",
       "      <td>-0.32</td>\n",
       "      <td>-0.00</td>\n",
       "      <td>-0.02</td>\n",
       "      <td>-0.03</td>\n",
       "      <td>0.00</td>\n",
       "      <td>-0.02</td>\n",
       "      <td>-0.02</td>\n",
       "      <td>0.04</td>\n",
       "      <td>0.00</td>\n",
       "    </tr>\n",
       "    <tr>\n",
       "      <th>Faixa Empr Início Jan</th>\n",
       "      <td>0.06</td>\n",
       "      <td>NaN</td>\n",
       "      <td>-0.01</td>\n",
       "      <td>NaN</td>\n",
       "      <td>-0.03</td>\n",
       "      <td>0.05</td>\n",
       "      <td>0.07</td>\n",
       "      <td>0.07</td>\n",
       "      <td>1.00</td>\n",
       "      <td>-0.01</td>\n",
       "      <td>...</td>\n",
       "      <td>0.10</td>\n",
       "      <td>-0.14</td>\n",
       "      <td>0.04</td>\n",
       "      <td>0.06</td>\n",
       "      <td>-0.01</td>\n",
       "      <td>-0.01</td>\n",
       "      <td>-0.01</td>\n",
       "      <td>-0.01</td>\n",
       "      <td>-0.01</td>\n",
       "      <td>-0.00</td>\n",
       "    </tr>\n",
       "    <tr>\n",
       "      <th>Grau Instrução</th>\n",
       "      <td>-0.03</td>\n",
       "      <td>NaN</td>\n",
       "      <td>-0.01</td>\n",
       "      <td>NaN</td>\n",
       "      <td>-0.43</td>\n",
       "      <td>0.34</td>\n",
       "      <td>0.33</td>\n",
       "      <td>0.33</td>\n",
       "      <td>-0.01</td>\n",
       "      <td>1.00</td>\n",
       "      <td>...</td>\n",
       "      <td>0.04</td>\n",
       "      <td>-0.21</td>\n",
       "      <td>-0.01</td>\n",
       "      <td>-0.01</td>\n",
       "      <td>-0.01</td>\n",
       "      <td>0.00</td>\n",
       "      <td>-0.01</td>\n",
       "      <td>-0.01</td>\n",
       "      <td>0.03</td>\n",
       "      <td>0.00</td>\n",
       "    </tr>\n",
       "    <tr>\n",
       "      <th>Qtd Hora Contrat</th>\n",
       "      <td>-0.06</td>\n",
       "      <td>NaN</td>\n",
       "      <td>0.00</td>\n",
       "      <td>NaN</td>\n",
       "      <td>0.22</td>\n",
       "      <td>-0.20</td>\n",
       "      <td>-0.22</td>\n",
       "      <td>-0.22</td>\n",
       "      <td>-0.14</td>\n",
       "      <td>-0.16</td>\n",
       "      <td>...</td>\n",
       "      <td>-0.06</td>\n",
       "      <td>0.07</td>\n",
       "      <td>-0.01</td>\n",
       "      <td>-0.07</td>\n",
       "      <td>0.00</td>\n",
       "      <td>0.00</td>\n",
       "      <td>0.00</td>\n",
       "      <td>0.00</td>\n",
       "      <td>-0.19</td>\n",
       "      <td>-0.40</td>\n",
       "    </tr>\n",
       "    <tr>\n",
       "      <th>IBGE Subsetor</th>\n",
       "      <td>-0.01</td>\n",
       "      <td>NaN</td>\n",
       "      <td>0.02</td>\n",
       "      <td>NaN</td>\n",
       "      <td>-0.29</td>\n",
       "      <td>0.36</td>\n",
       "      <td>0.41</td>\n",
       "      <td>0.41</td>\n",
       "      <td>-0.03</td>\n",
       "      <td>0.03</td>\n",
       "      <td>...</td>\n",
       "      <td>-0.01</td>\n",
       "      <td>0.25</td>\n",
       "      <td>-0.01</td>\n",
       "      <td>0.02</td>\n",
       "      <td>0.02</td>\n",
       "      <td>0.00</td>\n",
       "      <td>0.02</td>\n",
       "      <td>0.02</td>\n",
       "      <td>0.03</td>\n",
       "      <td>-0.02</td>\n",
       "    </tr>\n",
       "    <tr>\n",
       "      <th>Idade</th>\n",
       "      <td>0.11</td>\n",
       "      <td>NaN</td>\n",
       "      <td>-0.01</td>\n",
       "      <td>NaN</td>\n",
       "      <td>0.05</td>\n",
       "      <td>0.02</td>\n",
       "      <td>0.03</td>\n",
       "      <td>0.03</td>\n",
       "      <td>0.01</td>\n",
       "      <td>-0.11</td>\n",
       "      <td>...</td>\n",
       "      <td>0.28</td>\n",
       "      <td>0.06</td>\n",
       "      <td>0.01</td>\n",
       "      <td>-0.01</td>\n",
       "      <td>-0.01</td>\n",
       "      <td>0.00</td>\n",
       "      <td>-0.01</td>\n",
       "      <td>-0.01</td>\n",
       "      <td>0.00</td>\n",
       "      <td>-0.01</td>\n",
       "    </tr>\n",
       "    <tr>\n",
       "      <th>Ind Aprendiz</th>\n",
       "      <td>0.05</td>\n",
       "      <td>NaN</td>\n",
       "      <td>0.00</td>\n",
       "      <td>NaN</td>\n",
       "      <td>-0.01</td>\n",
       "      <td>-0.03</td>\n",
       "      <td>-0.03</td>\n",
       "      <td>-0.03</td>\n",
       "      <td>0.15</td>\n",
       "      <td>-0.04</td>\n",
       "      <td>...</td>\n",
       "      <td>-0.02</td>\n",
       "      <td>-0.04</td>\n",
       "      <td>0.01</td>\n",
       "      <td>0.12</td>\n",
       "      <td>0.00</td>\n",
       "      <td>-0.00</td>\n",
       "      <td>0.00</td>\n",
       "      <td>0.00</td>\n",
       "      <td>-0.01</td>\n",
       "      <td>-0.01</td>\n",
       "    </tr>\n",
       "    <tr>\n",
       "      <th>Ind Portador Defic</th>\n",
       "      <td>-0.01</td>\n",
       "      <td>NaN</td>\n",
       "      <td>-0.01</td>\n",
       "      <td>NaN</td>\n",
       "      <td>-0.01</td>\n",
       "      <td>0.00</td>\n",
       "      <td>-0.00</td>\n",
       "      <td>-0.00</td>\n",
       "      <td>0.06</td>\n",
       "      <td>-0.00</td>\n",
       "      <td>...</td>\n",
       "      <td>0.02</td>\n",
       "      <td>-0.01</td>\n",
       "      <td>0.84</td>\n",
       "      <td>-0.01</td>\n",
       "      <td>-0.01</td>\n",
       "      <td>-0.00</td>\n",
       "      <td>-0.01</td>\n",
       "      <td>-0.01</td>\n",
       "      <td>0.00</td>\n",
       "      <td>-0.00</td>\n",
       "    </tr>\n",
       "    <tr>\n",
       "      <th>Raça Cor</th>\n",
       "      <td>-0.04</td>\n",
       "      <td>NaN</td>\n",
       "      <td>-0.15</td>\n",
       "      <td>NaN</td>\n",
       "      <td>0.06</td>\n",
       "      <td>-0.02</td>\n",
       "      <td>-0.02</td>\n",
       "      <td>-0.02</td>\n",
       "      <td>0.00</td>\n",
       "      <td>-0.06</td>\n",
       "      <td>...</td>\n",
       "      <td>-0.09</td>\n",
       "      <td>0.02</td>\n",
       "      <td>-0.01</td>\n",
       "      <td>0.00</td>\n",
       "      <td>-0.15</td>\n",
       "      <td>0.00</td>\n",
       "      <td>-0.15</td>\n",
       "      <td>-0.15</td>\n",
       "      <td>0.00</td>\n",
       "      <td>0.01</td>\n",
       "    </tr>\n",
       "    <tr>\n",
       "      <th>Salário Mensal</th>\n",
       "      <td>0.04</td>\n",
       "      <td>NaN</td>\n",
       "      <td>0.03</td>\n",
       "      <td>NaN</td>\n",
       "      <td>-0.17</td>\n",
       "      <td>0.05</td>\n",
       "      <td>0.04</td>\n",
       "      <td>0.04</td>\n",
       "      <td>0.09</td>\n",
       "      <td>0.18</td>\n",
       "      <td>...</td>\n",
       "      <td>0.20</td>\n",
       "      <td>-0.03</td>\n",
       "      <td>-0.00</td>\n",
       "      <td>-0.00</td>\n",
       "      <td>0.02</td>\n",
       "      <td>-0.00</td>\n",
       "      <td>0.03</td>\n",
       "      <td>0.03</td>\n",
       "      <td>-0.02</td>\n",
       "      <td>-0.02</td>\n",
       "    </tr>\n",
       "    <tr>\n",
       "      <th>Saldo Mov</th>\n",
       "      <td>-1.00</td>\n",
       "      <td>NaN</td>\n",
       "      <td>-0.01</td>\n",
       "      <td>NaN</td>\n",
       "      <td>-0.01</td>\n",
       "      <td>0.05</td>\n",
       "      <td>0.05</td>\n",
       "      <td>0.05</td>\n",
       "      <td>-0.06</td>\n",
       "      <td>0.03</td>\n",
       "      <td>...</td>\n",
       "      <td>-0.33</td>\n",
       "      <td>-0.04</td>\n",
       "      <td>0.00</td>\n",
       "      <td>-0.25</td>\n",
       "      <td>-0.01</td>\n",
       "      <td>-0.00</td>\n",
       "      <td>-0.01</td>\n",
       "      <td>-0.01</td>\n",
       "      <td>-0.00</td>\n",
       "      <td>0.05</td>\n",
       "    </tr>\n",
       "    <tr>\n",
       "      <th>Sexo</th>\n",
       "      <td>-0.01</td>\n",
       "      <td>NaN</td>\n",
       "      <td>0.03</td>\n",
       "      <td>NaN</td>\n",
       "      <td>-0.34</td>\n",
       "      <td>0.21</td>\n",
       "      <td>0.23</td>\n",
       "      <td>0.23</td>\n",
       "      <td>-0.02</td>\n",
       "      <td>0.21</td>\n",
       "      <td>...</td>\n",
       "      <td>0.01</td>\n",
       "      <td>-0.10</td>\n",
       "      <td>-0.00</td>\n",
       "      <td>0.01</td>\n",
       "      <td>0.03</td>\n",
       "      <td>0.00</td>\n",
       "      <td>0.03</td>\n",
       "      <td>0.03</td>\n",
       "      <td>0.03</td>\n",
       "      <td>-0.00</td>\n",
       "    </tr>\n",
       "    <tr>\n",
       "      <th>Tempo Emprego</th>\n",
       "      <td>0.33</td>\n",
       "      <td>NaN</td>\n",
       "      <td>-0.01</td>\n",
       "      <td>NaN</td>\n",
       "      <td>-0.08</td>\n",
       "      <td>0.03</td>\n",
       "      <td>0.03</td>\n",
       "      <td>0.03</td>\n",
       "      <td>0.10</td>\n",
       "      <td>0.04</td>\n",
       "      <td>...</td>\n",
       "      <td>1.00</td>\n",
       "      <td>-0.01</td>\n",
       "      <td>0.02</td>\n",
       "      <td>0.04</td>\n",
       "      <td>-0.01</td>\n",
       "      <td>0.00</td>\n",
       "      <td>-0.01</td>\n",
       "      <td>-0.01</td>\n",
       "      <td>0.01</td>\n",
       "      <td>-0.03</td>\n",
       "    </tr>\n",
       "    <tr>\n",
       "      <th>Tipo Estab</th>\n",
       "      <td>0.04</td>\n",
       "      <td>NaN</td>\n",
       "      <td>0.01</td>\n",
       "      <td>NaN</td>\n",
       "      <td>0.10</td>\n",
       "      <td>-0.35</td>\n",
       "      <td>-0.32</td>\n",
       "      <td>-0.32</td>\n",
       "      <td>-0.14</td>\n",
       "      <td>-0.21</td>\n",
       "      <td>...</td>\n",
       "      <td>-0.01</td>\n",
       "      <td>1.00</td>\n",
       "      <td>-0.01</td>\n",
       "      <td>0.02</td>\n",
       "      <td>0.01</td>\n",
       "      <td>-0.00</td>\n",
       "      <td>0.01</td>\n",
       "      <td>0.01</td>\n",
       "      <td>-0.01</td>\n",
       "      <td>-0.01</td>\n",
       "    </tr>\n",
       "    <tr>\n",
       "      <th>Tipo Defic</th>\n",
       "      <td>-0.00</td>\n",
       "      <td>NaN</td>\n",
       "      <td>-0.00</td>\n",
       "      <td>NaN</td>\n",
       "      <td>-0.00</td>\n",
       "      <td>0.00</td>\n",
       "      <td>-0.00</td>\n",
       "      <td>-0.00</td>\n",
       "      <td>0.04</td>\n",
       "      <td>-0.01</td>\n",
       "      <td>...</td>\n",
       "      <td>0.02</td>\n",
       "      <td>-0.01</td>\n",
       "      <td>1.00</td>\n",
       "      <td>-0.01</td>\n",
       "      <td>-0.00</td>\n",
       "      <td>-0.00</td>\n",
       "      <td>-0.00</td>\n",
       "      <td>-0.00</td>\n",
       "      <td>0.00</td>\n",
       "      <td>-0.00</td>\n",
       "    </tr>\n",
       "    <tr>\n",
       "      <th>Tipo Mov Desagregado</th>\n",
       "      <td>0.25</td>\n",
       "      <td>NaN</td>\n",
       "      <td>-0.02</td>\n",
       "      <td>NaN</td>\n",
       "      <td>-0.00</td>\n",
       "      <td>-0.03</td>\n",
       "      <td>-0.02</td>\n",
       "      <td>-0.02</td>\n",
       "      <td>0.06</td>\n",
       "      <td>-0.01</td>\n",
       "      <td>...</td>\n",
       "      <td>0.04</td>\n",
       "      <td>0.02</td>\n",
       "      <td>-0.01</td>\n",
       "      <td>1.00</td>\n",
       "      <td>-0.02</td>\n",
       "      <td>-0.00</td>\n",
       "      <td>-0.02</td>\n",
       "      <td>-0.02</td>\n",
       "      <td>0.01</td>\n",
       "      <td>-0.01</td>\n",
       "    </tr>\n",
       "    <tr>\n",
       "      <th>UF</th>\n",
       "      <td>0.01</td>\n",
       "      <td>NaN</td>\n",
       "      <td>1.00</td>\n",
       "      <td>NaN</td>\n",
       "      <td>0.01</td>\n",
       "      <td>-0.03</td>\n",
       "      <td>-0.03</td>\n",
       "      <td>-0.03</td>\n",
       "      <td>-0.01</td>\n",
       "      <td>-0.01</td>\n",
       "      <td>...</td>\n",
       "      <td>-0.01</td>\n",
       "      <td>0.01</td>\n",
       "      <td>-0.00</td>\n",
       "      <td>-0.02</td>\n",
       "      <td>1.00</td>\n",
       "      <td>0.02</td>\n",
       "      <td>1.00</td>\n",
       "      <td>1.00</td>\n",
       "      <td>-0.02</td>\n",
       "      <td>-0.01</td>\n",
       "    </tr>\n",
       "    <tr>\n",
       "      <th>Regiões Adm DF</th>\n",
       "      <td>0.00</td>\n",
       "      <td>NaN</td>\n",
       "      <td>0.02</td>\n",
       "      <td>NaN</td>\n",
       "      <td>-0.00</td>\n",
       "      <td>0.00</td>\n",
       "      <td>0.00</td>\n",
       "      <td>0.00</td>\n",
       "      <td>-0.01</td>\n",
       "      <td>0.00</td>\n",
       "      <td>...</td>\n",
       "      <td>0.00</td>\n",
       "      <td>-0.00</td>\n",
       "      <td>-0.00</td>\n",
       "      <td>-0.00</td>\n",
       "      <td>0.02</td>\n",
       "      <td>1.00</td>\n",
       "      <td>0.02</td>\n",
       "      <td>0.02</td>\n",
       "      <td>-0.00</td>\n",
       "      <td>-0.00</td>\n",
       "    </tr>\n",
       "    <tr>\n",
       "      <th>Mesorregião</th>\n",
       "      <td>0.01</td>\n",
       "      <td>NaN</td>\n",
       "      <td>1.00</td>\n",
       "      <td>NaN</td>\n",
       "      <td>0.01</td>\n",
       "      <td>-0.03</td>\n",
       "      <td>-0.02</td>\n",
       "      <td>-0.02</td>\n",
       "      <td>-0.01</td>\n",
       "      <td>-0.01</td>\n",
       "      <td>...</td>\n",
       "      <td>-0.01</td>\n",
       "      <td>0.01</td>\n",
       "      <td>-0.00</td>\n",
       "      <td>-0.02</td>\n",
       "      <td>1.00</td>\n",
       "      <td>0.02</td>\n",
       "      <td>1.00</td>\n",
       "      <td>1.00</td>\n",
       "      <td>-0.02</td>\n",
       "      <td>-0.01</td>\n",
       "    </tr>\n",
       "    <tr>\n",
       "      <th>Microrregião</th>\n",
       "      <td>0.01</td>\n",
       "      <td>NaN</td>\n",
       "      <td>1.00</td>\n",
       "      <td>NaN</td>\n",
       "      <td>0.01</td>\n",
       "      <td>-0.03</td>\n",
       "      <td>-0.02</td>\n",
       "      <td>-0.02</td>\n",
       "      <td>-0.01</td>\n",
       "      <td>-0.01</td>\n",
       "      <td>...</td>\n",
       "      <td>-0.01</td>\n",
       "      <td>0.01</td>\n",
       "      <td>-0.00</td>\n",
       "      <td>-0.02</td>\n",
       "      <td>1.00</td>\n",
       "      <td>0.02</td>\n",
       "      <td>1.00</td>\n",
       "      <td>1.00</td>\n",
       "      <td>-0.02</td>\n",
       "      <td>-0.01</td>\n",
       "    </tr>\n",
       "    <tr>\n",
       "      <th>Ind Trab Parcial</th>\n",
       "      <td>0.00</td>\n",
       "      <td>NaN</td>\n",
       "      <td>-0.03</td>\n",
       "      <td>NaN</td>\n",
       "      <td>-0.04</td>\n",
       "      <td>0.04</td>\n",
       "      <td>0.04</td>\n",
       "      <td>0.04</td>\n",
       "      <td>-0.01</td>\n",
       "      <td>0.03</td>\n",
       "      <td>...</td>\n",
       "      <td>0.01</td>\n",
       "      <td>-0.01</td>\n",
       "      <td>0.00</td>\n",
       "      <td>0.01</td>\n",
       "      <td>-0.02</td>\n",
       "      <td>-0.00</td>\n",
       "      <td>-0.02</td>\n",
       "      <td>-0.02</td>\n",
       "      <td>1.00</td>\n",
       "      <td>0.01</td>\n",
       "    </tr>\n",
       "    <tr>\n",
       "      <th>Ind Trab Intermitente</th>\n",
       "      <td>-0.05</td>\n",
       "      <td>NaN</td>\n",
       "      <td>-0.01</td>\n",
       "      <td>NaN</td>\n",
       "      <td>0.01</td>\n",
       "      <td>0.00</td>\n",
       "      <td>0.00</td>\n",
       "      <td>0.00</td>\n",
       "      <td>-0.00</td>\n",
       "      <td>0.00</td>\n",
       "      <td>...</td>\n",
       "      <td>-0.03</td>\n",
       "      <td>-0.01</td>\n",
       "      <td>-0.00</td>\n",
       "      <td>-0.01</td>\n",
       "      <td>-0.01</td>\n",
       "      <td>-0.00</td>\n",
       "      <td>-0.01</td>\n",
       "      <td>-0.01</td>\n",
       "      <td>0.01</td>\n",
       "      <td>1.00</td>\n",
       "    </tr>\n",
       "  </tbody>\n",
       "</table>\n",
       "<p>29 rows × 29 columns</p>\n",
       "</div>"
      ],
      "text/plain": [
       "                       Admitidos/Desligados  Competência Declarada  Município  \\\n",
       "Admitidos/Desligados                   1.00                    NaN       0.01   \n",
       "Competência Declarada                   NaN                    NaN        NaN   \n",
       "Município                              0.01                    NaN       1.00   \n",
       "Ano Declarado                           NaN                    NaN        NaN   \n",
       "CBO 2002 Ocupação                      0.01                    NaN       0.01   \n",
       "CNAE 1.0 Classe                       -0.05                    NaN      -0.03   \n",
       "CNAE 2.0 Classe                       -0.05                    NaN      -0.02   \n",
       "CNAE 2.0 Subclas                      -0.05                    NaN      -0.02   \n",
       "Faixa Empr Início Jan                  0.06                    NaN      -0.01   \n",
       "Grau Instrução                        -0.03                    NaN      -0.01   \n",
       "Qtd Hora Contrat                      -0.06                    NaN       0.00   \n",
       "IBGE Subsetor                         -0.01                    NaN       0.02   \n",
       "Idade                                  0.11                    NaN      -0.01   \n",
       "Ind Aprendiz                           0.05                    NaN       0.00   \n",
       "Ind Portador Defic                    -0.01                    NaN      -0.01   \n",
       "Raça Cor                              -0.04                    NaN      -0.15   \n",
       "Salário Mensal                         0.04                    NaN       0.03   \n",
       "Saldo Mov                             -1.00                    NaN      -0.01   \n",
       "Sexo                                  -0.01                    NaN       0.03   \n",
       "Tempo Emprego                          0.33                    NaN      -0.01   \n",
       "Tipo Estab                             0.04                    NaN       0.01   \n",
       "Tipo Defic                            -0.00                    NaN      -0.00   \n",
       "Tipo Mov Desagregado                   0.25                    NaN      -0.02   \n",
       "UF                                     0.01                    NaN       1.00   \n",
       "Regiões Adm DF                         0.00                    NaN       0.02   \n",
       "Mesorregião                            0.01                    NaN       1.00   \n",
       "Microrregião                           0.01                    NaN       1.00   \n",
       "Ind Trab Parcial                       0.00                    NaN      -0.03   \n",
       "Ind Trab Intermitente                 -0.05                    NaN      -0.01   \n",
       "\n",
       "                       Ano Declarado  CBO 2002 Ocupação  CNAE 1.0 Classe  \\\n",
       "Admitidos/Desligados             NaN               0.01            -0.05   \n",
       "Competência Declarada            NaN                NaN              NaN   \n",
       "Município                        NaN               0.01            -0.03   \n",
       "Ano Declarado                    NaN                NaN              NaN   \n",
       "CBO 2002 Ocupação                NaN               1.00            -0.43   \n",
       "CNAE 1.0 Classe                  NaN              -0.43             1.00   \n",
       "CNAE 2.0 Classe                  NaN              -0.44             0.96   \n",
       "CNAE 2.0 Subclas                 NaN              -0.44             0.96   \n",
       "Faixa Empr Início Jan            NaN              -0.03             0.05   \n",
       "Grau Instrução                   NaN              -0.43             0.34   \n",
       "Qtd Hora Contrat                 NaN               0.22            -0.20   \n",
       "IBGE Subsetor                    NaN              -0.29             0.36   \n",
       "Idade                            NaN               0.05             0.02   \n",
       "Ind Aprendiz                     NaN              -0.01            -0.03   \n",
       "Ind Portador Defic               NaN              -0.01             0.00   \n",
       "Raça Cor                         NaN               0.06            -0.02   \n",
       "Salário Mensal                   NaN              -0.17             0.05   \n",
       "Saldo Mov                        NaN              -0.01             0.05   \n",
       "Sexo                             NaN              -0.34             0.21   \n",
       "Tempo Emprego                    NaN              -0.08             0.03   \n",
       "Tipo Estab                       NaN               0.10            -0.35   \n",
       "Tipo Defic                       NaN              -0.00             0.00   \n",
       "Tipo Mov Desagregado             NaN              -0.00            -0.03   \n",
       "UF                               NaN               0.01            -0.03   \n",
       "Regiões Adm DF                   NaN              -0.00             0.00   \n",
       "Mesorregião                      NaN               0.01            -0.03   \n",
       "Microrregião                     NaN               0.01            -0.03   \n",
       "Ind Trab Parcial                 NaN              -0.04             0.04   \n",
       "Ind Trab Intermitente            NaN               0.01             0.00   \n",
       "\n",
       "                       CNAE 2.0 Classe  CNAE 2.0 Subclas  \\\n",
       "Admitidos/Desligados             -0.05             -0.05   \n",
       "Competência Declarada              NaN               NaN   \n",
       "Município                        -0.02             -0.02   \n",
       "Ano Declarado                      NaN               NaN   \n",
       "CBO 2002 Ocupação                -0.44             -0.44   \n",
       "CNAE 1.0 Classe                   0.96              0.96   \n",
       "CNAE 2.0 Classe                   1.00              1.00   \n",
       "CNAE 2.0 Subclas                  1.00              1.00   \n",
       "Faixa Empr Início Jan             0.07              0.07   \n",
       "Grau Instrução                    0.33              0.33   \n",
       "Qtd Hora Contrat                 -0.22             -0.22   \n",
       "IBGE Subsetor                     0.41              0.41   \n",
       "Idade                             0.03              0.03   \n",
       "Ind Aprendiz                     -0.03             -0.03   \n",
       "Ind Portador Defic               -0.00             -0.00   \n",
       "Raça Cor                         -0.02             -0.02   \n",
       "Salário Mensal                    0.04              0.04   \n",
       "Saldo Mov                         0.05              0.05   \n",
       "Sexo                              0.23              0.23   \n",
       "Tempo Emprego                     0.03              0.03   \n",
       "Tipo Estab                       -0.32             -0.32   \n",
       "Tipo Defic                       -0.00             -0.00   \n",
       "Tipo Mov Desagregado             -0.02             -0.02   \n",
       "UF                               -0.03             -0.03   \n",
       "Regiões Adm DF                    0.00              0.00   \n",
       "Mesorregião                      -0.02             -0.02   \n",
       "Microrregião                     -0.02             -0.02   \n",
       "Ind Trab Parcial                  0.04              0.04   \n",
       "Ind Trab Intermitente             0.00              0.00   \n",
       "\n",
       "                       Faixa Empr Início Jan  Grau Instrução  \\\n",
       "Admitidos/Desligados                    0.06           -0.03   \n",
       "Competência Declarada                    NaN             NaN   \n",
       "Município                              -0.01           -0.01   \n",
       "Ano Declarado                            NaN             NaN   \n",
       "CBO 2002 Ocupação                      -0.03           -0.43   \n",
       "CNAE 1.0 Classe                         0.05            0.34   \n",
       "CNAE 2.0 Classe                         0.07            0.33   \n",
       "CNAE 2.0 Subclas                        0.07            0.33   \n",
       "Faixa Empr Início Jan                   1.00           -0.01   \n",
       "Grau Instrução                         -0.01            1.00   \n",
       "Qtd Hora Contrat                       -0.14           -0.16   \n",
       "IBGE Subsetor                          -0.03            0.03   \n",
       "Idade                                   0.01           -0.11   \n",
       "Ind Aprendiz                            0.15           -0.04   \n",
       "Ind Portador Defic                      0.06           -0.00   \n",
       "Raça Cor                                0.00           -0.06   \n",
       "Salário Mensal                          0.09            0.18   \n",
       "Saldo Mov                              -0.06            0.03   \n",
       "Sexo                                   -0.02            0.21   \n",
       "Tempo Emprego                           0.10            0.04   \n",
       "Tipo Estab                             -0.14           -0.21   \n",
       "Tipo Defic                              0.04           -0.01   \n",
       "Tipo Mov Desagregado                    0.06           -0.01   \n",
       "UF                                     -0.01           -0.01   \n",
       "Regiões Adm DF                         -0.01            0.00   \n",
       "Mesorregião                            -0.01           -0.01   \n",
       "Microrregião                           -0.01           -0.01   \n",
       "Ind Trab Parcial                       -0.01            0.03   \n",
       "Ind Trab Intermitente                  -0.00            0.00   \n",
       "\n",
       "                               ...            Tempo Emprego  Tipo Estab  \\\n",
       "Admitidos/Desligados           ...                     0.33        0.04   \n",
       "Competência Declarada          ...                      NaN         NaN   \n",
       "Município                      ...                    -0.01        0.01   \n",
       "Ano Declarado                  ...                      NaN         NaN   \n",
       "CBO 2002 Ocupação              ...                    -0.08        0.10   \n",
       "CNAE 1.0 Classe                ...                     0.03       -0.35   \n",
       "CNAE 2.0 Classe                ...                     0.03       -0.32   \n",
       "CNAE 2.0 Subclas               ...                     0.03       -0.32   \n",
       "Faixa Empr Início Jan          ...                     0.10       -0.14   \n",
       "Grau Instrução                 ...                     0.04       -0.21   \n",
       "Qtd Hora Contrat               ...                    -0.06        0.07   \n",
       "IBGE Subsetor                  ...                    -0.01        0.25   \n",
       "Idade                          ...                     0.28        0.06   \n",
       "Ind Aprendiz                   ...                    -0.02       -0.04   \n",
       "Ind Portador Defic             ...                     0.02       -0.01   \n",
       "Raça Cor                       ...                    -0.09        0.02   \n",
       "Salário Mensal                 ...                     0.20       -0.03   \n",
       "Saldo Mov                      ...                    -0.33       -0.04   \n",
       "Sexo                           ...                     0.01       -0.10   \n",
       "Tempo Emprego                  ...                     1.00       -0.01   \n",
       "Tipo Estab                     ...                    -0.01        1.00   \n",
       "Tipo Defic                     ...                     0.02       -0.01   \n",
       "Tipo Mov Desagregado           ...                     0.04        0.02   \n",
       "UF                             ...                    -0.01        0.01   \n",
       "Regiões Adm DF                 ...                     0.00       -0.00   \n",
       "Mesorregião                    ...                    -0.01        0.01   \n",
       "Microrregião                   ...                    -0.01        0.01   \n",
       "Ind Trab Parcial               ...                     0.01       -0.01   \n",
       "Ind Trab Intermitente          ...                    -0.03       -0.01   \n",
       "\n",
       "                       Tipo Defic  Tipo Mov Desagregado    UF  Regiões Adm DF  \\\n",
       "Admitidos/Desligados        -0.00                  0.25  0.01            0.00   \n",
       "Competência Declarada         NaN                   NaN   NaN             NaN   \n",
       "Município                   -0.00                 -0.02  1.00            0.02   \n",
       "Ano Declarado                 NaN                   NaN   NaN             NaN   \n",
       "CBO 2002 Ocupação           -0.00                 -0.00  0.01           -0.00   \n",
       "CNAE 1.0 Classe              0.00                 -0.03 -0.03            0.00   \n",
       "CNAE 2.0 Classe             -0.00                 -0.02 -0.03            0.00   \n",
       "CNAE 2.0 Subclas            -0.00                 -0.02 -0.03            0.00   \n",
       "Faixa Empr Início Jan        0.04                  0.06 -0.01           -0.01   \n",
       "Grau Instrução              -0.01                 -0.01 -0.01            0.00   \n",
       "Qtd Hora Contrat            -0.01                 -0.07  0.00            0.00   \n",
       "IBGE Subsetor               -0.01                  0.02  0.02            0.00   \n",
       "Idade                        0.01                 -0.01 -0.01            0.00   \n",
       "Ind Aprendiz                 0.01                  0.12  0.00           -0.00   \n",
       "Ind Portador Defic           0.84                 -0.01 -0.01           -0.00   \n",
       "Raça Cor                    -0.01                  0.00 -0.15            0.00   \n",
       "Salário Mensal              -0.00                 -0.00  0.02           -0.00   \n",
       "Saldo Mov                    0.00                 -0.25 -0.01           -0.00   \n",
       "Sexo                        -0.00                  0.01  0.03            0.00   \n",
       "Tempo Emprego                0.02                  0.04 -0.01            0.00   \n",
       "Tipo Estab                  -0.01                  0.02  0.01           -0.00   \n",
       "Tipo Defic                   1.00                 -0.01 -0.00           -0.00   \n",
       "Tipo Mov Desagregado        -0.01                  1.00 -0.02           -0.00   \n",
       "UF                          -0.00                 -0.02  1.00            0.02   \n",
       "Regiões Adm DF              -0.00                 -0.00  0.02            1.00   \n",
       "Mesorregião                 -0.00                 -0.02  1.00            0.02   \n",
       "Microrregião                -0.00                 -0.02  1.00            0.02   \n",
       "Ind Trab Parcial             0.00                  0.01 -0.02           -0.00   \n",
       "Ind Trab Intermitente       -0.00                 -0.01 -0.01           -0.00   \n",
       "\n",
       "                       Mesorregião  Microrregião  Ind Trab Parcial  \\\n",
       "Admitidos/Desligados          0.01          0.01              0.00   \n",
       "Competência Declarada          NaN           NaN               NaN   \n",
       "Município                     1.00          1.00             -0.03   \n",
       "Ano Declarado                  NaN           NaN               NaN   \n",
       "CBO 2002 Ocupação             0.01          0.01             -0.04   \n",
       "CNAE 1.0 Classe              -0.03         -0.03              0.04   \n",
       "CNAE 2.0 Classe              -0.02         -0.02              0.04   \n",
       "CNAE 2.0 Subclas             -0.02         -0.02              0.04   \n",
       "Faixa Empr Início Jan        -0.01         -0.01             -0.01   \n",
       "Grau Instrução               -0.01         -0.01              0.03   \n",
       "Qtd Hora Contrat              0.00          0.00             -0.19   \n",
       "IBGE Subsetor                 0.02          0.02              0.03   \n",
       "Idade                        -0.01         -0.01              0.00   \n",
       "Ind Aprendiz                  0.00          0.00             -0.01   \n",
       "Ind Portador Defic           -0.01         -0.01              0.00   \n",
       "Raça Cor                     -0.15         -0.15              0.00   \n",
       "Salário Mensal                0.03          0.03             -0.02   \n",
       "Saldo Mov                    -0.01         -0.01             -0.00   \n",
       "Sexo                          0.03          0.03              0.03   \n",
       "Tempo Emprego                -0.01         -0.01              0.01   \n",
       "Tipo Estab                    0.01          0.01             -0.01   \n",
       "Tipo Defic                   -0.00         -0.00              0.00   \n",
       "Tipo Mov Desagregado         -0.02         -0.02              0.01   \n",
       "UF                            1.00          1.00             -0.02   \n",
       "Regiões Adm DF                0.02          0.02             -0.00   \n",
       "Mesorregião                   1.00          1.00             -0.02   \n",
       "Microrregião                  1.00          1.00             -0.02   \n",
       "Ind Trab Parcial             -0.02         -0.02              1.00   \n",
       "Ind Trab Intermitente        -0.01         -0.01              0.01   \n",
       "\n",
       "                       Ind Trab Intermitente  \n",
       "Admitidos/Desligados                   -0.05  \n",
       "Competência Declarada                    NaN  \n",
       "Município                              -0.01  \n",
       "Ano Declarado                            NaN  \n",
       "CBO 2002 Ocupação                       0.01  \n",
       "CNAE 1.0 Classe                         0.00  \n",
       "CNAE 2.0 Classe                         0.00  \n",
       "CNAE 2.0 Subclas                        0.00  \n",
       "Faixa Empr Início Jan                  -0.00  \n",
       "Grau Instrução                          0.00  \n",
       "Qtd Hora Contrat                       -0.40  \n",
       "IBGE Subsetor                          -0.02  \n",
       "Idade                                  -0.01  \n",
       "Ind Aprendiz                           -0.01  \n",
       "Ind Portador Defic                     -0.00  \n",
       "Raça Cor                                0.01  \n",
       "Salário Mensal                         -0.02  \n",
       "Saldo Mov                               0.05  \n",
       "Sexo                                   -0.00  \n",
       "Tempo Emprego                          -0.03  \n",
       "Tipo Estab                             -0.01  \n",
       "Tipo Defic                             -0.00  \n",
       "Tipo Mov Desagregado                   -0.01  \n",
       "UF                                     -0.01  \n",
       "Regiões Adm DF                         -0.00  \n",
       "Mesorregião                            -0.01  \n",
       "Microrregião                           -0.01  \n",
       "Ind Trab Parcial                        0.01  \n",
       "Ind Trab Intermitente                   1.00  \n",
       "\n",
       "[29 rows x 29 columns]"
      ]
     },
     "execution_count": 13,
     "metadata": {},
     "output_type": "execute_result"
    }
   ],
   "source": [
    "df.corr().round(2)"
   ]
  },
  {
   "cell_type": "code",
   "execution_count": 14,
   "metadata": {
    "scrolled": true
   },
   "outputs": [
    {
     "data": {
      "text/plain": [
       "RangeIndex(start=0, stop=2256752, step=1)"
      ]
     },
     "execution_count": 14,
     "metadata": {},
     "output_type": "execute_result"
    }
   ],
   "source": [
    "df.index"
   ]
  },
  {
   "cell_type": "code",
   "execution_count": 15,
   "metadata": {
    "scrolled": true
   },
   "outputs": [
    {
     "data": {
      "text/plain": [
       "Index(['Admitidos/Desligados', 'Competência Declarada', 'Município',\n",
       "       'Ano Declarado', 'CBO 2002 Ocupação', 'CNAE 1.0 Classe',\n",
       "       'CNAE 2.0 Classe', 'CNAE 2.0 Subclas', 'Faixa Empr Início Jan',\n",
       "       'Grau Instrução', 'Qtd Hora Contrat', 'IBGE Subsetor', 'Idade',\n",
       "       'Ind Aprendiz', 'Ind Portador Defic', 'Raça Cor', 'Salário Mensal',\n",
       "       'Saldo Mov', 'Sexo', 'Tempo Emprego', 'Tipo Estab', 'Tipo Defic',\n",
       "       'Tipo Mov Desagregado', 'UF', 'Bairros SP', 'Bairros Fortaleza',\n",
       "       'Bairros RJ', 'Distritos SP', 'Regiões Adm DF', 'Mesorregião',\n",
       "       'Microrregião', 'Região Adm RJ', 'Região Adm SP', 'Região Corede',\n",
       "       'Região Corede 04', 'Região Gov SP', 'Região Senac PR',\n",
       "       'Região Senai PR', 'Região Senai SP', 'Sub-Região Senai PR',\n",
       "       'Ind Trab Parcial', 'Ind Trab Intermitente'],\n",
       "      dtype='object')"
      ]
     },
     "execution_count": 15,
     "metadata": {},
     "output_type": "execute_result"
    }
   ],
   "source": [
    "df.columns"
   ]
  },
  {
   "cell_type": "code",
   "execution_count": 16,
   "metadata": {
    "scrolled": false
   },
   "outputs": [
    {
     "data": {
      "text/plain": [
       "Admitidos/Desligados     2256752\n",
       "Competência Declarada    2256752\n",
       "Município                2256752\n",
       "Ano Declarado            2256752\n",
       "CBO 2002 Ocupação        2256752\n",
       "CNAE 1.0 Classe          2256752\n",
       "CNAE 2.0 Classe          2256752\n",
       "CNAE 2.0 Subclas         2256752\n",
       "Faixa Empr Início Jan    2256752\n",
       "Grau Instrução           2256752\n",
       "Qtd Hora Contrat         2256752\n",
       "IBGE Subsetor            2256752\n",
       "Idade                    2256752\n",
       "Ind Aprendiz             2256752\n",
       "Ind Portador Defic       2256752\n",
       "Raça Cor                 2256752\n",
       "Salário Mensal           2256752\n",
       "Saldo Mov                2256752\n",
       "Sexo                     2256752\n",
       "Tempo Emprego            2256752\n",
       "Tipo Estab               2256752\n",
       "Tipo Defic               2256752\n",
       "Tipo Mov Desagregado     2256752\n",
       "UF                       2256752\n",
       "Bairros SP               2256752\n",
       "Bairros Fortaleza        2256752\n",
       "Bairros RJ               2256752\n",
       "Distritos SP             2256752\n",
       "Regiões Adm DF           2256752\n",
       "Mesorregião              2256752\n",
       "Microrregião             2256752\n",
       "Região Adm RJ            2256752\n",
       "Região Adm SP            2256752\n",
       "Região Corede            2256752\n",
       "Região Corede 04         2256752\n",
       "Região Gov SP            2256752\n",
       "Região Senac PR          2256752\n",
       "Região Senai PR          2256752\n",
       "Região Senai SP          2256752\n",
       "Sub-Região Senai PR      2256752\n",
       "Ind Trab Parcial         2256752\n",
       "Ind Trab Intermitente    2256752\n",
       "dtype: int64"
      ]
     },
     "execution_count": 16,
     "metadata": {},
     "output_type": "execute_result"
    }
   ],
   "source": [
    "df.count()"
   ]
  },
  {
   "cell_type": "code",
   "execution_count": 17,
   "metadata": {},
   "outputs": [
    {
     "data": {
      "text/plain": [
       "Admitidos/Desligados     0\n",
       "Competência Declarada    0\n",
       "Município                0\n",
       "Ano Declarado            0\n",
       "CBO 2002 Ocupação        0\n",
       "CNAE 1.0 Classe          0\n",
       "CNAE 2.0 Classe          0\n",
       "CNAE 2.0 Subclas         0\n",
       "Faixa Empr Início Jan    0\n",
       "Grau Instrução           0\n",
       "Qtd Hora Contrat         0\n",
       "IBGE Subsetor            0\n",
       "Idade                    0\n",
       "Ind Aprendiz             0\n",
       "Ind Portador Defic       0\n",
       "Raça Cor                 0\n",
       "Salário Mensal           0\n",
       "Saldo Mov                0\n",
       "Sexo                     0\n",
       "Tempo Emprego            0\n",
       "Tipo Estab               0\n",
       "Tipo Defic               0\n",
       "Tipo Mov Desagregado     0\n",
       "UF                       0\n",
       "Bairros SP               0\n",
       "Bairros Fortaleza        0\n",
       "Bairros RJ               0\n",
       "Distritos SP             0\n",
       "Regiões Adm DF           0\n",
       "Mesorregião              0\n",
       "Microrregião             0\n",
       "Região Adm RJ            0\n",
       "Região Adm SP            0\n",
       "Região Corede            0\n",
       "Região Corede 04         0\n",
       "Região Gov SP            0\n",
       "Região Senac PR          0\n",
       "Região Senai PR          0\n",
       "Região Senai SP          0\n",
       "Sub-Região Senai PR      0\n",
       "Ind Trab Parcial         0\n",
       "Ind Trab Intermitente    0\n",
       "dtype: int64"
      ]
     },
     "execution_count": 17,
     "metadata": {},
     "output_type": "execute_result"
    }
   ],
   "source": [
    "df.isnull().sum()"
   ]
  },
  {
   "cell_type": "code",
   "execution_count": 18,
   "metadata": {
    "scrolled": true
   },
   "outputs": [
    {
     "data": {
      "text/html": [
       "<div>\n",
       "<style>\n",
       "    .dataframe thead tr:only-child th {\n",
       "        text-align: right;\n",
       "    }\n",
       "\n",
       "    .dataframe thead th {\n",
       "        text-align: left;\n",
       "    }\n",
       "\n",
       "    .dataframe tbody tr th {\n",
       "        vertical-align: top;\n",
       "    }\n",
       "</style>\n",
       "<table border=\"1\" class=\"dataframe\">\n",
       "  <thead>\n",
       "    <tr style=\"text-align: right;\">\n",
       "      <th></th>\n",
       "      <th>Admitidos/Desligados</th>\n",
       "      <th>Competência Declarada</th>\n",
       "      <th>Município</th>\n",
       "      <th>Ano Declarado</th>\n",
       "      <th>CBO 2002 Ocupação</th>\n",
       "      <th>CNAE 1.0 Classe</th>\n",
       "      <th>CNAE 2.0 Classe</th>\n",
       "      <th>CNAE 2.0 Subclas</th>\n",
       "      <th>Faixa Empr Início Jan</th>\n",
       "      <th>Grau Instrução</th>\n",
       "      <th>...</th>\n",
       "      <th>Região Adm SP</th>\n",
       "      <th>Região Corede</th>\n",
       "      <th>Região Corede 04</th>\n",
       "      <th>Região Gov SP</th>\n",
       "      <th>Região Senac PR</th>\n",
       "      <th>Região Senai PR</th>\n",
       "      <th>Região Senai SP</th>\n",
       "      <th>Sub-Região Senai PR</th>\n",
       "      <th>Ind Trab Parcial</th>\n",
       "      <th>Ind Trab Intermitente</th>\n",
       "    </tr>\n",
       "  </thead>\n",
       "  <tbody>\n",
       "    <tr>\n",
       "      <th>0</th>\n",
       "      <td>1</td>\n",
       "      <td>201812</td>\n",
       "      <td>500215</td>\n",
       "      <td>2018</td>\n",
       "      <td>711210</td>\n",
       "      <td>1619</td>\n",
       "      <td>1610</td>\n",
       "      <td>161003</td>\n",
       "      <td>1</td>\n",
       "      <td>6</td>\n",
       "      <td>...</td>\n",
       "      <td>999</td>\n",
       "      <td>{ñ</td>\n",
       "      <td>99</td>\n",
       "      <td>999</td>\n",
       "      <td>99</td>\n",
       "      <td>{ñ</td>\n",
       "      <td>999</td>\n",
       "      <td>99</td>\n",
       "      <td>0</td>\n",
       "      <td>0</td>\n",
       "    </tr>\n",
       "    <tr>\n",
       "      <th>1</th>\n",
       "      <td>1</td>\n",
       "      <td>201812</td>\n",
       "      <td>500710</td>\n",
       "      <td>2018</td>\n",
       "      <td>321210</td>\n",
       "      <td>2119</td>\n",
       "      <td>2101</td>\n",
       "      <td>210101</td>\n",
       "      <td>1</td>\n",
       "      <td>8</td>\n",
       "      <td>...</td>\n",
       "      <td>999</td>\n",
       "      <td>{ñ</td>\n",
       "      <td>99</td>\n",
       "      <td>999</td>\n",
       "      <td>99</td>\n",
       "      <td>{ñ</td>\n",
       "      <td>999</td>\n",
       "      <td>99</td>\n",
       "      <td>0</td>\n",
       "      <td>0</td>\n",
       "    </tr>\n",
       "    <tr>\n",
       "      <th>2</th>\n",
       "      <td>1</td>\n",
       "      <td>201812</td>\n",
       "      <td>500460</td>\n",
       "      <td>2018</td>\n",
       "      <td>623110</td>\n",
       "      <td>1619</td>\n",
       "      <td>1610</td>\n",
       "      <td>161003</td>\n",
       "      <td>1</td>\n",
       "      <td>2</td>\n",
       "      <td>...</td>\n",
       "      <td>999</td>\n",
       "      <td>{ñ</td>\n",
       "      <td>99</td>\n",
       "      <td>999</td>\n",
       "      <td>99</td>\n",
       "      <td>{ñ</td>\n",
       "      <td>999</td>\n",
       "      <td>99</td>\n",
       "      <td>0</td>\n",
       "      <td>1</td>\n",
       "    </tr>\n",
       "    <tr>\n",
       "      <th>3</th>\n",
       "      <td>1</td>\n",
       "      <td>201812</td>\n",
       "      <td>500460</td>\n",
       "      <td>2018</td>\n",
       "      <td>623110</td>\n",
       "      <td>1619</td>\n",
       "      <td>1610</td>\n",
       "      <td>161003</td>\n",
       "      <td>1</td>\n",
       "      <td>2</td>\n",
       "      <td>...</td>\n",
       "      <td>999</td>\n",
       "      <td>{ñ</td>\n",
       "      <td>99</td>\n",
       "      <td>999</td>\n",
       "      <td>99</td>\n",
       "      <td>{ñ</td>\n",
       "      <td>999</td>\n",
       "      <td>99</td>\n",
       "      <td>0</td>\n",
       "      <td>1</td>\n",
       "    </tr>\n",
       "    <tr>\n",
       "      <th>4</th>\n",
       "      <td>1</td>\n",
       "      <td>201812</td>\n",
       "      <td>500460</td>\n",
       "      <td>2018</td>\n",
       "      <td>623110</td>\n",
       "      <td>1619</td>\n",
       "      <td>1610</td>\n",
       "      <td>161003</td>\n",
       "      <td>1</td>\n",
       "      <td>2</td>\n",
       "      <td>...</td>\n",
       "      <td>999</td>\n",
       "      <td>{ñ</td>\n",
       "      <td>99</td>\n",
       "      <td>999</td>\n",
       "      <td>99</td>\n",
       "      <td>{ñ</td>\n",
       "      <td>999</td>\n",
       "      <td>99</td>\n",
       "      <td>0</td>\n",
       "      <td>1</td>\n",
       "    </tr>\n",
       "  </tbody>\n",
       "</table>\n",
       "<p>5 rows × 42 columns</p>\n",
       "</div>"
      ],
      "text/plain": [
       "   Admitidos/Desligados  Competência Declarada  Município  Ano Declarado  \\\n",
       "0                     1                 201812     500215           2018   \n",
       "1                     1                 201812     500710           2018   \n",
       "2                     1                 201812     500460           2018   \n",
       "3                     1                 201812     500460           2018   \n",
       "4                     1                 201812     500460           2018   \n",
       "\n",
       "   CBO 2002 Ocupação  CNAE 1.0 Classe  CNAE 2.0 Classe  CNAE 2.0 Subclas  \\\n",
       "0             711210             1619             1610            161003   \n",
       "1             321210             2119             2101            210101   \n",
       "2             623110             1619             1610            161003   \n",
       "3             623110             1619             1610            161003   \n",
       "4             623110             1619             1610            161003   \n",
       "\n",
       "   Faixa Empr Início Jan  Grau Instrução          ...            \\\n",
       "0                      1               6          ...             \n",
       "1                      1               8          ...             \n",
       "2                      1               2          ...             \n",
       "3                      1               2          ...             \n",
       "4                      1               2          ...             \n",
       "\n",
       "   Região Adm SP  Região Corede  Região Corede 04  Região Gov SP  \\\n",
       "0            999             {ñ                99            999   \n",
       "1            999             {ñ                99            999   \n",
       "2            999             {ñ                99            999   \n",
       "3            999             {ñ                99            999   \n",
       "4            999             {ñ                99            999   \n",
       "\n",
       "   Região Senac PR  Região Senai PR  Região Senai SP  Sub-Região Senai PR  \\\n",
       "0               99               {ñ              999                   99   \n",
       "1               99               {ñ              999                   99   \n",
       "2               99               {ñ              999                   99   \n",
       "3               99               {ñ              999                   99   \n",
       "4               99               {ñ              999                   99   \n",
       "\n",
       "   Ind Trab Parcial  Ind Trab Intermitente  \n",
       "0                 0                      0  \n",
       "1                 0                      0  \n",
       "2                 0                      1  \n",
       "3                 0                      1  \n",
       "4                 0                      1  \n",
       "\n",
       "[5 rows x 42 columns]"
      ]
     },
     "execution_count": 18,
     "metadata": {},
     "output_type": "execute_result"
    }
   ],
   "source": [
    "df.head()"
   ]
  },
  {
   "cell_type": "code",
   "execution_count": 19,
   "metadata": {
    "scrolled": false
   },
   "outputs": [
    {
     "data": {
      "text/html": [
       "<div>\n",
       "<style>\n",
       "    .dataframe thead tr:only-child th {\n",
       "        text-align: right;\n",
       "    }\n",
       "\n",
       "    .dataframe thead th {\n",
       "        text-align: left;\n",
       "    }\n",
       "\n",
       "    .dataframe tbody tr th {\n",
       "        vertical-align: top;\n",
       "    }\n",
       "</style>\n",
       "<table border=\"1\" class=\"dataframe\">\n",
       "  <thead>\n",
       "    <tr style=\"text-align: right;\">\n",
       "      <th></th>\n",
       "      <th>Admitidos/Desligados</th>\n",
       "      <th>Competência Declarada</th>\n",
       "      <th>Município</th>\n",
       "      <th>Ano Declarado</th>\n",
       "      <th>CBO 2002 Ocupação</th>\n",
       "      <th>CNAE 1.0 Classe</th>\n",
       "      <th>CNAE 2.0 Classe</th>\n",
       "      <th>CNAE 2.0 Subclas</th>\n",
       "      <th>Faixa Empr Início Jan</th>\n",
       "      <th>Grau Instrução</th>\n",
       "      <th>...</th>\n",
       "      <th>Região Adm SP</th>\n",
       "      <th>Região Corede</th>\n",
       "      <th>Região Corede 04</th>\n",
       "      <th>Região Gov SP</th>\n",
       "      <th>Região Senac PR</th>\n",
       "      <th>Região Senai PR</th>\n",
       "      <th>Região Senai SP</th>\n",
       "      <th>Sub-Região Senai PR</th>\n",
       "      <th>Ind Trab Parcial</th>\n",
       "      <th>Ind Trab Intermitente</th>\n",
       "    </tr>\n",
       "  </thead>\n",
       "  <tbody>\n",
       "    <tr>\n",
       "      <th>2256747</th>\n",
       "      <td>2</td>\n",
       "      <td>201812</td>\n",
       "      <td>221100</td>\n",
       "      <td>2018</td>\n",
       "      <td>252405</td>\n",
       "      <td>91995</td>\n",
       "      <td>94308</td>\n",
       "      <td>9430800</td>\n",
       "      <td>5</td>\n",
       "      <td>9</td>\n",
       "      <td>...</td>\n",
       "      <td>999</td>\n",
       "      <td>{ñ</td>\n",
       "      <td>99</td>\n",
       "      <td>999</td>\n",
       "      <td>99</td>\n",
       "      <td>{ñ</td>\n",
       "      <td>999</td>\n",
       "      <td>99</td>\n",
       "      <td>0</td>\n",
       "      <td>0</td>\n",
       "    </tr>\n",
       "    <tr>\n",
       "      <th>2256748</th>\n",
       "      <td>2</td>\n",
       "      <td>201812</td>\n",
       "      <td>221100</td>\n",
       "      <td>2018</td>\n",
       "      <td>514120</td>\n",
       "      <td>91995</td>\n",
       "      <td>94308</td>\n",
       "      <td>9430800</td>\n",
       "      <td>6</td>\n",
       "      <td>7</td>\n",
       "      <td>...</td>\n",
       "      <td>999</td>\n",
       "      <td>{ñ</td>\n",
       "      <td>99</td>\n",
       "      <td>999</td>\n",
       "      <td>99</td>\n",
       "      <td>{ñ</td>\n",
       "      <td>999</td>\n",
       "      <td>99</td>\n",
       "      <td>0</td>\n",
       "      <td>0</td>\n",
       "    </tr>\n",
       "    <tr>\n",
       "      <th>2256749</th>\n",
       "      <td>2</td>\n",
       "      <td>201812</td>\n",
       "      <td>221100</td>\n",
       "      <td>2018</td>\n",
       "      <td>422110</td>\n",
       "      <td>85138</td>\n",
       "      <td>86305</td>\n",
       "      <td>8630503</td>\n",
       "      <td>1</td>\n",
       "      <td>7</td>\n",
       "      <td>...</td>\n",
       "      <td>999</td>\n",
       "      <td>{ñ</td>\n",
       "      <td>99</td>\n",
       "      <td>999</td>\n",
       "      <td>99</td>\n",
       "      <td>{ñ</td>\n",
       "      <td>999</td>\n",
       "      <td>99</td>\n",
       "      <td>0</td>\n",
       "      <td>0</td>\n",
       "    </tr>\n",
       "    <tr>\n",
       "      <th>2256750</th>\n",
       "      <td>2</td>\n",
       "      <td>201812</td>\n",
       "      <td>221100</td>\n",
       "      <td>2018</td>\n",
       "      <td>422315</td>\n",
       "      <td>66303</td>\n",
       "      <td>65502</td>\n",
       "      <td>6550200</td>\n",
       "      <td>6</td>\n",
       "      <td>8</td>\n",
       "      <td>...</td>\n",
       "      <td>999</td>\n",
       "      <td>{ñ</td>\n",
       "      <td>99</td>\n",
       "      <td>999</td>\n",
       "      <td>99</td>\n",
       "      <td>{ñ</td>\n",
       "      <td>999</td>\n",
       "      <td>99</td>\n",
       "      <td>0</td>\n",
       "      <td>0</td>\n",
       "    </tr>\n",
       "    <tr>\n",
       "      <th>2256751</th>\n",
       "      <td>2</td>\n",
       "      <td>201812</td>\n",
       "      <td>220770</td>\n",
       "      <td>2018</td>\n",
       "      <td>231105</td>\n",
       "      <td>80144</td>\n",
       "      <td>85121</td>\n",
       "      <td>8512100</td>\n",
       "      <td>5</td>\n",
       "      <td>9</td>\n",
       "      <td>...</td>\n",
       "      <td>999</td>\n",
       "      <td>{ñ</td>\n",
       "      <td>99</td>\n",
       "      <td>999</td>\n",
       "      <td>99</td>\n",
       "      <td>{ñ</td>\n",
       "      <td>999</td>\n",
       "      <td>99</td>\n",
       "      <td>0</td>\n",
       "      <td>0</td>\n",
       "    </tr>\n",
       "  </tbody>\n",
       "</table>\n",
       "<p>5 rows × 42 columns</p>\n",
       "</div>"
      ],
      "text/plain": [
       "         Admitidos/Desligados  Competência Declarada  Município  \\\n",
       "2256747                     2                 201812     221100   \n",
       "2256748                     2                 201812     221100   \n",
       "2256749                     2                 201812     221100   \n",
       "2256750                     2                 201812     221100   \n",
       "2256751                     2                 201812     220770   \n",
       "\n",
       "         Ano Declarado  CBO 2002 Ocupação  CNAE 1.0 Classe  CNAE 2.0 Classe  \\\n",
       "2256747           2018             252405            91995            94308   \n",
       "2256748           2018             514120            91995            94308   \n",
       "2256749           2018             422110            85138            86305   \n",
       "2256750           2018             422315            66303            65502   \n",
       "2256751           2018             231105            80144            85121   \n",
       "\n",
       "         CNAE 2.0 Subclas  Faixa Empr Início Jan  Grau Instrução  \\\n",
       "2256747           9430800                      5               9   \n",
       "2256748           9430800                      6               7   \n",
       "2256749           8630503                      1               7   \n",
       "2256750           6550200                      6               8   \n",
       "2256751           8512100                      5               9   \n",
       "\n",
       "                 ...            Região Adm SP  Região Corede  \\\n",
       "2256747          ...                      999             {ñ   \n",
       "2256748          ...                      999             {ñ   \n",
       "2256749          ...                      999             {ñ   \n",
       "2256750          ...                      999             {ñ   \n",
       "2256751          ...                      999             {ñ   \n",
       "\n",
       "         Região Corede 04  Região Gov SP  Região Senac PR  Região Senai PR  \\\n",
       "2256747                99            999               99               {ñ   \n",
       "2256748                99            999               99               {ñ   \n",
       "2256749                99            999               99               {ñ   \n",
       "2256750                99            999               99               {ñ   \n",
       "2256751                99            999               99               {ñ   \n",
       "\n",
       "         Região Senai SP  Sub-Região Senai PR  Ind Trab Parcial  \\\n",
       "2256747              999                   99                 0   \n",
       "2256748              999                   99                 0   \n",
       "2256749              999                   99                 0   \n",
       "2256750              999                   99                 0   \n",
       "2256751              999                   99                 0   \n",
       "\n",
       "         Ind Trab Intermitente  \n",
       "2256747                      0  \n",
       "2256748                      0  \n",
       "2256749                      0  \n",
       "2256750                      0  \n",
       "2256751                      0  \n",
       "\n",
       "[5 rows x 42 columns]"
      ]
     },
     "execution_count": 19,
     "metadata": {},
     "output_type": "execute_result"
    }
   ],
   "source": [
    "df.tail()"
   ]
  },
  {
   "cell_type": "code",
   "execution_count": 20,
   "metadata": {
    "scrolled": true
   },
   "outputs": [
    {
     "data": {
      "text/html": [
       "<div>\n",
       "<style>\n",
       "    .dataframe thead tr:only-child th {\n",
       "        text-align: right;\n",
       "    }\n",
       "\n",
       "    .dataframe thead th {\n",
       "        text-align: left;\n",
       "    }\n",
       "\n",
       "    .dataframe tbody tr th {\n",
       "        vertical-align: top;\n",
       "    }\n",
       "</style>\n",
       "<table border=\"1\" class=\"dataframe\">\n",
       "  <thead>\n",
       "    <tr style=\"text-align: right;\">\n",
       "      <th></th>\n",
       "      <th>Grau Instrução</th>\n",
       "      <th>Idade</th>\n",
       "      <th>Raça Cor</th>\n",
       "      <th>Salário Mensal</th>\n",
       "      <th>Sexo</th>\n",
       "    </tr>\n",
       "  </thead>\n",
       "  <tbody>\n",
       "    <tr>\n",
       "      <th>0</th>\n",
       "      <td>6</td>\n",
       "      <td>24</td>\n",
       "      <td>8</td>\n",
       "      <td>954.0</td>\n",
       "      <td>1</td>\n",
       "    </tr>\n",
       "    <tr>\n",
       "      <th>1</th>\n",
       "      <td>8</td>\n",
       "      <td>25</td>\n",
       "      <td>2</td>\n",
       "      <td>2500.0</td>\n",
       "      <td>1</td>\n",
       "    </tr>\n",
       "    <tr>\n",
       "      <th>2</th>\n",
       "      <td>2</td>\n",
       "      <td>55</td>\n",
       "      <td>8</td>\n",
       "      <td>0.0</td>\n",
       "      <td>1</td>\n",
       "    </tr>\n",
       "    <tr>\n",
       "      <th>3</th>\n",
       "      <td>2</td>\n",
       "      <td>52</td>\n",
       "      <td>8</td>\n",
       "      <td>0.0</td>\n",
       "      <td>1</td>\n",
       "    </tr>\n",
       "    <tr>\n",
       "      <th>4</th>\n",
       "      <td>2</td>\n",
       "      <td>32</td>\n",
       "      <td>8</td>\n",
       "      <td>0.0</td>\n",
       "      <td>1</td>\n",
       "    </tr>\n",
       "    <tr>\n",
       "      <th>5</th>\n",
       "      <td>2</td>\n",
       "      <td>56</td>\n",
       "      <td>8</td>\n",
       "      <td>0.0</td>\n",
       "      <td>1</td>\n",
       "    </tr>\n",
       "    <tr>\n",
       "      <th>6</th>\n",
       "      <td>2</td>\n",
       "      <td>22</td>\n",
       "      <td>8</td>\n",
       "      <td>0.0</td>\n",
       "      <td>1</td>\n",
       "    </tr>\n",
       "    <tr>\n",
       "      <th>7</th>\n",
       "      <td>4</td>\n",
       "      <td>50</td>\n",
       "      <td>2</td>\n",
       "      <td>1061.0</td>\n",
       "      <td>2</td>\n",
       "    </tr>\n",
       "    <tr>\n",
       "      <th>8</th>\n",
       "      <td>2</td>\n",
       "      <td>27</td>\n",
       "      <td>1</td>\n",
       "      <td>0.0</td>\n",
       "      <td>2</td>\n",
       "    </tr>\n",
       "    <tr>\n",
       "      <th>9</th>\n",
       "      <td>2</td>\n",
       "      <td>34</td>\n",
       "      <td>1</td>\n",
       "      <td>0.0</td>\n",
       "      <td>2</td>\n",
       "    </tr>\n",
       "    <tr>\n",
       "      <th>10</th>\n",
       "      <td>2</td>\n",
       "      <td>32</td>\n",
       "      <td>1</td>\n",
       "      <td>0.0</td>\n",
       "      <td>2</td>\n",
       "    </tr>\n",
       "    <tr>\n",
       "      <th>11</th>\n",
       "      <td>7</td>\n",
       "      <td>22</td>\n",
       "      <td>8</td>\n",
       "      <td>1061.0</td>\n",
       "      <td>1</td>\n",
       "    </tr>\n",
       "    <tr>\n",
       "      <th>12</th>\n",
       "      <td>7</td>\n",
       "      <td>37</td>\n",
       "      <td>2</td>\n",
       "      <td>1061.0</td>\n",
       "      <td>1</td>\n",
       "    </tr>\n",
       "    <tr>\n",
       "      <th>13</th>\n",
       "      <td>6</td>\n",
       "      <td>20</td>\n",
       "      <td>2</td>\n",
       "      <td>1061.0</td>\n",
       "      <td>1</td>\n",
       "    </tr>\n",
       "    <tr>\n",
       "      <th>14</th>\n",
       "      <td>2</td>\n",
       "      <td>39</td>\n",
       "      <td>2</td>\n",
       "      <td>1026.0</td>\n",
       "      <td>1</td>\n",
       "    </tr>\n",
       "    <tr>\n",
       "      <th>15</th>\n",
       "      <td>5</td>\n",
       "      <td>25</td>\n",
       "      <td>8</td>\n",
       "      <td>1061.0</td>\n",
       "      <td>1</td>\n",
       "    </tr>\n",
       "    <tr>\n",
       "      <th>16</th>\n",
       "      <td>5</td>\n",
       "      <td>22</td>\n",
       "      <td>9</td>\n",
       "      <td>1061.0</td>\n",
       "      <td>1</td>\n",
       "    </tr>\n",
       "    <tr>\n",
       "      <th>17</th>\n",
       "      <td>5</td>\n",
       "      <td>18</td>\n",
       "      <td>8</td>\n",
       "      <td>1700.0</td>\n",
       "      <td>1</td>\n",
       "    </tr>\n",
       "    <tr>\n",
       "      <th>18</th>\n",
       "      <td>4</td>\n",
       "      <td>23</td>\n",
       "      <td>2</td>\n",
       "      <td>1026.0</td>\n",
       "      <td>1</td>\n",
       "    </tr>\n",
       "    <tr>\n",
       "      <th>19</th>\n",
       "      <td>6</td>\n",
       "      <td>28</td>\n",
       "      <td>2</td>\n",
       "      <td>1061.0</td>\n",
       "      <td>1</td>\n",
       "    </tr>\n",
       "    <tr>\n",
       "      <th>20</th>\n",
       "      <td>3</td>\n",
       "      <td>48</td>\n",
       "      <td>2</td>\n",
       "      <td>1026.0</td>\n",
       "      <td>1</td>\n",
       "    </tr>\n",
       "    <tr>\n",
       "      <th>21</th>\n",
       "      <td>7</td>\n",
       "      <td>35</td>\n",
       "      <td>2</td>\n",
       "      <td>5000.0</td>\n",
       "      <td>1</td>\n",
       "    </tr>\n",
       "    <tr>\n",
       "      <th>22</th>\n",
       "      <td>5</td>\n",
       "      <td>46</td>\n",
       "      <td>8</td>\n",
       "      <td>1000.0</td>\n",
       "      <td>2</td>\n",
       "    </tr>\n",
       "    <tr>\n",
       "      <th>23</th>\n",
       "      <td>4</td>\n",
       "      <td>45</td>\n",
       "      <td>8</td>\n",
       "      <td>2123.0</td>\n",
       "      <td>1</td>\n",
       "    </tr>\n",
       "    <tr>\n",
       "      <th>24</th>\n",
       "      <td>6</td>\n",
       "      <td>31</td>\n",
       "      <td>8</td>\n",
       "      <td>2123.0</td>\n",
       "      <td>1</td>\n",
       "    </tr>\n",
       "    <tr>\n",
       "      <th>25</th>\n",
       "      <td>5</td>\n",
       "      <td>18</td>\n",
       "      <td>8</td>\n",
       "      <td>1200.0</td>\n",
       "      <td>1</td>\n",
       "    </tr>\n",
       "    <tr>\n",
       "      <th>26</th>\n",
       "      <td>6</td>\n",
       "      <td>24</td>\n",
       "      <td>8</td>\n",
       "      <td>991.0</td>\n",
       "      <td>1</td>\n",
       "    </tr>\n",
       "    <tr>\n",
       "      <th>27</th>\n",
       "      <td>7</td>\n",
       "      <td>21</td>\n",
       "      <td>8</td>\n",
       "      <td>1061.0</td>\n",
       "      <td>1</td>\n",
       "    </tr>\n",
       "    <tr>\n",
       "      <th>28</th>\n",
       "      <td>5</td>\n",
       "      <td>24</td>\n",
       "      <td>8</td>\n",
       "      <td>1061.0</td>\n",
       "      <td>1</td>\n",
       "    </tr>\n",
       "    <tr>\n",
       "      <th>29</th>\n",
       "      <td>5</td>\n",
       "      <td>17</td>\n",
       "      <td>8</td>\n",
       "      <td>1061.0</td>\n",
       "      <td>1</td>\n",
       "    </tr>\n",
       "    <tr>\n",
       "      <th>...</th>\n",
       "      <td>...</td>\n",
       "      <td>...</td>\n",
       "      <td>...</td>\n",
       "      <td>...</td>\n",
       "      <td>...</td>\n",
       "    </tr>\n",
       "    <tr>\n",
       "      <th>2256722</th>\n",
       "      <td>7</td>\n",
       "      <td>32</td>\n",
       "      <td>8</td>\n",
       "      <td>972.0</td>\n",
       "      <td>1</td>\n",
       "    </tr>\n",
       "    <tr>\n",
       "      <th>2256723</th>\n",
       "      <td>3</td>\n",
       "      <td>53</td>\n",
       "      <td>8</td>\n",
       "      <td>1099.0</td>\n",
       "      <td>1</td>\n",
       "    </tr>\n",
       "    <tr>\n",
       "      <th>2256724</th>\n",
       "      <td>7</td>\n",
       "      <td>54</td>\n",
       "      <td>4</td>\n",
       "      <td>990.0</td>\n",
       "      <td>2</td>\n",
       "    </tr>\n",
       "    <tr>\n",
       "      <th>2256725</th>\n",
       "      <td>7</td>\n",
       "      <td>28</td>\n",
       "      <td>8</td>\n",
       "      <td>3000.0</td>\n",
       "      <td>1</td>\n",
       "    </tr>\n",
       "    <tr>\n",
       "      <th>2256726</th>\n",
       "      <td>3</td>\n",
       "      <td>27</td>\n",
       "      <td>8</td>\n",
       "      <td>1021.0</td>\n",
       "      <td>1</td>\n",
       "    </tr>\n",
       "    <tr>\n",
       "      <th>2256727</th>\n",
       "      <td>9</td>\n",
       "      <td>45</td>\n",
       "      <td>8</td>\n",
       "      <td>5475.0</td>\n",
       "      <td>1</td>\n",
       "    </tr>\n",
       "    <tr>\n",
       "      <th>2256728</th>\n",
       "      <td>9</td>\n",
       "      <td>44</td>\n",
       "      <td>8</td>\n",
       "      <td>5798.0</td>\n",
       "      <td>1</td>\n",
       "    </tr>\n",
       "    <tr>\n",
       "      <th>2256729</th>\n",
       "      <td>7</td>\n",
       "      <td>51</td>\n",
       "      <td>4</td>\n",
       "      <td>10849.0</td>\n",
       "      <td>1</td>\n",
       "    </tr>\n",
       "    <tr>\n",
       "      <th>2256730</th>\n",
       "      <td>9</td>\n",
       "      <td>60</td>\n",
       "      <td>2</td>\n",
       "      <td>16079.0</td>\n",
       "      <td>2</td>\n",
       "    </tr>\n",
       "    <tr>\n",
       "      <th>2256731</th>\n",
       "      <td>7</td>\n",
       "      <td>44</td>\n",
       "      <td>8</td>\n",
       "      <td>1281.0</td>\n",
       "      <td>1</td>\n",
       "    </tr>\n",
       "    <tr>\n",
       "      <th>2256732</th>\n",
       "      <td>7</td>\n",
       "      <td>24</td>\n",
       "      <td>8</td>\n",
       "      <td>1074.0</td>\n",
       "      <td>1</td>\n",
       "    </tr>\n",
       "    <tr>\n",
       "      <th>2256733</th>\n",
       "      <td>7</td>\n",
       "      <td>38</td>\n",
       "      <td>8</td>\n",
       "      <td>1074.0</td>\n",
       "      <td>1</td>\n",
       "    </tr>\n",
       "    <tr>\n",
       "      <th>2256734</th>\n",
       "      <td>7</td>\n",
       "      <td>25</td>\n",
       "      <td>8</td>\n",
       "      <td>3066.0</td>\n",
       "      <td>2</td>\n",
       "    </tr>\n",
       "    <tr>\n",
       "      <th>2256735</th>\n",
       "      <td>9</td>\n",
       "      <td>31</td>\n",
       "      <td>2</td>\n",
       "      <td>1043.0</td>\n",
       "      <td>2</td>\n",
       "    </tr>\n",
       "    <tr>\n",
       "      <th>2256736</th>\n",
       "      <td>7</td>\n",
       "      <td>42</td>\n",
       "      <td>8</td>\n",
       "      <td>1043.0</td>\n",
       "      <td>2</td>\n",
       "    </tr>\n",
       "    <tr>\n",
       "      <th>2256737</th>\n",
       "      <td>9</td>\n",
       "      <td>51</td>\n",
       "      <td>2</td>\n",
       "      <td>3615.0</td>\n",
       "      <td>2</td>\n",
       "    </tr>\n",
       "    <tr>\n",
       "      <th>2256738</th>\n",
       "      <td>7</td>\n",
       "      <td>43</td>\n",
       "      <td>8</td>\n",
       "      <td>1043.0</td>\n",
       "      <td>2</td>\n",
       "    </tr>\n",
       "    <tr>\n",
       "      <th>2256739</th>\n",
       "      <td>7</td>\n",
       "      <td>22</td>\n",
       "      <td>8</td>\n",
       "      <td>999.0</td>\n",
       "      <td>1</td>\n",
       "    </tr>\n",
       "    <tr>\n",
       "      <th>2256740</th>\n",
       "      <td>6</td>\n",
       "      <td>18</td>\n",
       "      <td>8</td>\n",
       "      <td>1005.0</td>\n",
       "      <td>1</td>\n",
       "    </tr>\n",
       "    <tr>\n",
       "      <th>2256741</th>\n",
       "      <td>7</td>\n",
       "      <td>38</td>\n",
       "      <td>8</td>\n",
       "      <td>1033.0</td>\n",
       "      <td>1</td>\n",
       "    </tr>\n",
       "    <tr>\n",
       "      <th>2256742</th>\n",
       "      <td>6</td>\n",
       "      <td>20</td>\n",
       "      <td>8</td>\n",
       "      <td>1043.0</td>\n",
       "      <td>1</td>\n",
       "    </tr>\n",
       "    <tr>\n",
       "      <th>2256743</th>\n",
       "      <td>7</td>\n",
       "      <td>20</td>\n",
       "      <td>8</td>\n",
       "      <td>1005.0</td>\n",
       "      <td>1</td>\n",
       "    </tr>\n",
       "    <tr>\n",
       "      <th>2256744</th>\n",
       "      <td>7</td>\n",
       "      <td>32</td>\n",
       "      <td>8</td>\n",
       "      <td>1222.0</td>\n",
       "      <td>2</td>\n",
       "    </tr>\n",
       "    <tr>\n",
       "      <th>2256745</th>\n",
       "      <td>6</td>\n",
       "      <td>63</td>\n",
       "      <td>8</td>\n",
       "      <td>2641.0</td>\n",
       "      <td>1</td>\n",
       "    </tr>\n",
       "    <tr>\n",
       "      <th>2256746</th>\n",
       "      <td>9</td>\n",
       "      <td>36</td>\n",
       "      <td>8</td>\n",
       "      <td>5724.0</td>\n",
       "      <td>2</td>\n",
       "    </tr>\n",
       "    <tr>\n",
       "      <th>2256747</th>\n",
       "      <td>9</td>\n",
       "      <td>59</td>\n",
       "      <td>8</td>\n",
       "      <td>5510.0</td>\n",
       "      <td>2</td>\n",
       "    </tr>\n",
       "    <tr>\n",
       "      <th>2256748</th>\n",
       "      <td>7</td>\n",
       "      <td>55</td>\n",
       "      <td>9</td>\n",
       "      <td>954.0</td>\n",
       "      <td>2</td>\n",
       "    </tr>\n",
       "    <tr>\n",
       "      <th>2256749</th>\n",
       "      <td>7</td>\n",
       "      <td>61</td>\n",
       "      <td>8</td>\n",
       "      <td>1000.0</td>\n",
       "      <td>2</td>\n",
       "    </tr>\n",
       "    <tr>\n",
       "      <th>2256750</th>\n",
       "      <td>8</td>\n",
       "      <td>22</td>\n",
       "      <td>2</td>\n",
       "      <td>1365.0</td>\n",
       "      <td>1</td>\n",
       "    </tr>\n",
       "    <tr>\n",
       "      <th>2256751</th>\n",
       "      <td>9</td>\n",
       "      <td>27</td>\n",
       "      <td>2</td>\n",
       "      <td>996.0</td>\n",
       "      <td>2</td>\n",
       "    </tr>\n",
       "  </tbody>\n",
       "</table>\n",
       "<p>2256752 rows × 5 columns</p>\n",
       "</div>"
      ],
      "text/plain": [
       "         Grau Instrução  Idade  Raça Cor  Salário Mensal  Sexo\n",
       "0                     6     24         8           954.0     1\n",
       "1                     8     25         2          2500.0     1\n",
       "2                     2     55         8             0.0     1\n",
       "3                     2     52         8             0.0     1\n",
       "4                     2     32         8             0.0     1\n",
       "5                     2     56         8             0.0     1\n",
       "6                     2     22         8             0.0     1\n",
       "7                     4     50         2          1061.0     2\n",
       "8                     2     27         1             0.0     2\n",
       "9                     2     34         1             0.0     2\n",
       "10                    2     32         1             0.0     2\n",
       "11                    7     22         8          1061.0     1\n",
       "12                    7     37         2          1061.0     1\n",
       "13                    6     20         2          1061.0     1\n",
       "14                    2     39         2          1026.0     1\n",
       "15                    5     25         8          1061.0     1\n",
       "16                    5     22         9          1061.0     1\n",
       "17                    5     18         8          1700.0     1\n",
       "18                    4     23         2          1026.0     1\n",
       "19                    6     28         2          1061.0     1\n",
       "20                    3     48         2          1026.0     1\n",
       "21                    7     35         2          5000.0     1\n",
       "22                    5     46         8          1000.0     2\n",
       "23                    4     45         8          2123.0     1\n",
       "24                    6     31         8          2123.0     1\n",
       "25                    5     18         8          1200.0     1\n",
       "26                    6     24         8           991.0     1\n",
       "27                    7     21         8          1061.0     1\n",
       "28                    5     24         8          1061.0     1\n",
       "29                    5     17         8          1061.0     1\n",
       "...                 ...    ...       ...             ...   ...\n",
       "2256722               7     32         8           972.0     1\n",
       "2256723               3     53         8          1099.0     1\n",
       "2256724               7     54         4           990.0     2\n",
       "2256725               7     28         8          3000.0     1\n",
       "2256726               3     27         8          1021.0     1\n",
       "2256727               9     45         8          5475.0     1\n",
       "2256728               9     44         8          5798.0     1\n",
       "2256729               7     51         4         10849.0     1\n",
       "2256730               9     60         2         16079.0     2\n",
       "2256731               7     44         8          1281.0     1\n",
       "2256732               7     24         8          1074.0     1\n",
       "2256733               7     38         8          1074.0     1\n",
       "2256734               7     25         8          3066.0     2\n",
       "2256735               9     31         2          1043.0     2\n",
       "2256736               7     42         8          1043.0     2\n",
       "2256737               9     51         2          3615.0     2\n",
       "2256738               7     43         8          1043.0     2\n",
       "2256739               7     22         8           999.0     1\n",
       "2256740               6     18         8          1005.0     1\n",
       "2256741               7     38         8          1033.0     1\n",
       "2256742               6     20         8          1043.0     1\n",
       "2256743               7     20         8          1005.0     1\n",
       "2256744               7     32         8          1222.0     2\n",
       "2256745               6     63         8          2641.0     1\n",
       "2256746               9     36         8          5724.0     2\n",
       "2256747               9     59         8          5510.0     2\n",
       "2256748               7     55         9           954.0     2\n",
       "2256749               7     61         8          1000.0     2\n",
       "2256750               8     22         2          1365.0     1\n",
       "2256751               9     27         2           996.0     2\n",
       "\n",
       "[2256752 rows x 5 columns]"
      ]
     },
     "execution_count": 20,
     "metadata": {},
     "output_type": "execute_result"
    }
   ],
   "source": [
    "pd.read_csv(r'CAGEDEST_122018.txt', sep=';', encoding = \"ISO-8859-1\", decimal = ',', usecols=('Grau Instrução', 'Idade', 'Raça Cor', 'Salário Mensal', 'Sexo'))"
   ]
  },
  {
   "cell_type": "code",
   "execution_count": 21,
   "metadata": {
    "collapsed": true
   },
   "outputs": [],
   "source": [
    "df.rename(columns={'Salário Mensal': 'Salario'}, inplace=True)"
   ]
  },
  {
   "cell_type": "code",
   "execution_count": 22,
   "metadata": {
    "scrolled": true
   },
   "outputs": [
    {
     "name": "stdout",
     "output_type": "stream",
     "text": [
      "<class 'pandas.core.frame.DataFrame'>\n",
      "RangeIndex: 2256752 entries, 0 to 2256751\n",
      "Data columns (total 42 columns):\n",
      "Admitidos/Desligados     int64\n",
      "Competência Declarada    int64\n",
      "Município                int64\n",
      "Ano Declarado            int64\n",
      "CBO 2002 Ocupação        int64\n",
      "CNAE 1.0 Classe          int64\n",
      "CNAE 2.0 Classe          int64\n",
      "CNAE 2.0 Subclas         int64\n",
      "Faixa Empr Início Jan    int64\n",
      "Grau Instrução           int64\n",
      "Qtd Hora Contrat         int64\n",
      "IBGE Subsetor            int64\n",
      "Idade                    int64\n",
      "Ind Aprendiz             int64\n",
      "Ind Portador Defic       int64\n",
      "Raça Cor                 int64\n",
      "Salario                  float64\n",
      "Saldo Mov                int64\n",
      "Sexo                     int64\n",
      "Tempo Emprego            float64\n",
      "Tipo Estab               int64\n",
      "Tipo Defic               int64\n",
      "Tipo Mov Desagregado     int64\n",
      "UF                       int64\n",
      "Bairros SP               object\n",
      "Bairros Fortaleza        object\n",
      "Bairros RJ               object\n",
      "Distritos SP             object\n",
      "Regiões Adm DF           int64\n",
      "Mesorregião              int64\n",
      "Microrregião             int64\n",
      "Região Adm RJ            object\n",
      "Região Adm SP            object\n",
      "Região Corede            object\n",
      "Região Corede 04         object\n",
      "Região Gov SP            object\n",
      "Região Senac PR          object\n",
      "Região Senai PR          object\n",
      "Região Senai SP          object\n",
      "Sub-Região Senai PR      object\n",
      "Ind Trab Parcial         int64\n",
      "Ind Trab Intermitente    int64\n",
      "dtypes: float64(2), int64(27), object(13)\n",
      "memory usage: 723.1+ MB\n"
     ]
    }
   ],
   "source": [
    "df.info()"
   ]
  },
  {
   "cell_type": "markdown",
   "metadata": {},
   "source": [
    "2.1 Salário Mensal"
   ]
  },
  {
   "cell_type": "code",
   "execution_count": 23,
   "metadata": {
    "scrolled": true
   },
   "outputs": [
    {
     "data": {
      "text/plain": [
       "str"
      ]
     },
     "execution_count": 23,
     "metadata": {},
     "output_type": "execute_result"
    }
   ],
   "source": [
    "type(\"Salario\")"
   ]
  },
  {
   "cell_type": "code",
   "execution_count": 24,
   "metadata": {
    "collapsed": true
   },
   "outputs": [],
   "source": [
    "df = df[df.Salario != 0]"
   ]
  },
  {
   "cell_type": "code",
   "execution_count": 25,
   "metadata": {},
   "outputs": [
    {
     "data": {
      "text/plain": [
       "3672286655.0"
      ]
     },
     "execution_count": 25,
     "metadata": {},
     "output_type": "execute_result"
    }
   ],
   "source": [
    "df[\"Salario\"].sum() #soma dos salários"
   ]
  },
  {
   "cell_type": "code",
   "execution_count": 26,
   "metadata": {},
   "outputs": [
    {
     "data": {
      "text/plain": [
       "1644.9160764109586"
      ]
     },
     "execution_count": 26,
     "metadata": {},
     "output_type": "execute_result"
    }
   ],
   "source": [
    "df[\"Salario\"].mean() #média salarial"
   ]
  },
  {
   "cell_type": "code",
   "execution_count": 27,
   "metadata": {},
   "outputs": [
    {
     "data": {
      "text/plain": [
       "0    954.0\n",
       "dtype: float64"
      ]
     },
     "execution_count": 27,
     "metadata": {},
     "output_type": "execute_result"
    }
   ],
   "source": [
    "df[\"Salario\"].mode()"
   ]
  },
  {
   "cell_type": "code",
   "execution_count": 28,
   "metadata": {},
   "outputs": [
    {
     "data": {
      "text/plain": [
       "142830.0"
      ]
     },
     "execution_count": 28,
     "metadata": {},
     "output_type": "execute_result"
    }
   ],
   "source": [
    "df[\"Salario\"].max()"
   ]
  },
  {
   "cell_type": "code",
   "execution_count": 29,
   "metadata": {
    "scrolled": true
   },
   "outputs": [
    {
     "data": {
      "text/plain": [
       "287.0"
      ]
     },
     "execution_count": 29,
     "metadata": {},
     "output_type": "execute_result"
    }
   ],
   "source": [
    "df[\"Salario\"].min()"
   ]
  },
  {
   "cell_type": "code",
   "execution_count": 30,
   "metadata": {
    "scrolled": true
   },
   "outputs": [
    {
     "data": {
      "text/plain": [
       "<matplotlib.axes._subplots.AxesSubplot at 0x7f4de53e6e48>"
      ]
     },
     "execution_count": 30,
     "metadata": {},
     "output_type": "execute_result"
    },
    {
     "data": {
      "image/png": "[encoded data removed]",
      "text/plain": [
       "<matplotlib.figure.Figure at 0x7f4db59b8dd8>"
      ]
     },
     "metadata": {},
     "output_type": "display_data"
    }
   ],
   "source": [
    "%matplotlib inline\n",
    "\n",
    "\n",
    "df[\"Salario\"].plot.hist(bins=300, xlim=(0, 10000))"
   ]
  },
  {
   "cell_type": "code",
   "execution_count": 31,
   "metadata": {},
   "outputs": [
    {
     "data": {
      "text/plain": [
       "Text(0.5,1,'Salário')"
      ]
     },
     "execution_count": 31,
     "metadata": {},
     "output_type": "execute_result"
    },
    {
     "data": {
      "image/png": "[encoded data removed]",
      "text/plain": [
       "<matplotlib.figure.Figure at 0x7f4da6008128>"
      ]
     },
     "metadata": {},
     "output_type": "display_data"
    }
   ],
   "source": [
    "import seaborn as sns\n",
    "plt.figure(figsize=(8,6))\n",
    "sns.distplot(df.Salario, bins=50, color='Green')\n",
    "plt.title('Salário', size=10)"
   ]
  },
  {
   "cell_type": "code",
   "execution_count": 32,
   "metadata": {
    "collapsed": true
   },
   "outputs": [],
   "source": [
    "df[\"Salario\"] = df[\"Salario\"][(df[\"Salario\"]>0) & (df[\"Salario\"]< 999999)]"
   ]
  },
  {
   "cell_type": "code",
   "execution_count": 33,
   "metadata": {},
   "outputs": [
    {
     "data": {
      "text/plain": [
       "954.0     95704\n",
       "1500.0    24390\n",
       "1200.0    24382\n",
       "1050.0    18745\n",
       "1300.0    17894\n",
       "Name: Salario, dtype: int64"
      ]
     },
     "execution_count": 33,
     "metadata": {},
     "output_type": "execute_result"
    }
   ],
   "source": [
    "df[\"Salario\"].value_counts().head()"
   ]
  },
  {
   "cell_type": "code",
   "execution_count": 34,
   "metadata": {
    "scrolled": false
   },
   "outputs": [
    {
     "data": {
      "text/plain": [
       "<matplotlib.axes._subplots.AxesSubplot at 0x7f4da5ff4588>"
      ]
     },
     "execution_count": 34,
     "metadata": {},
     "output_type": "execute_result"
    },
    {
     "data": {
      "image/png": "[encoded data removed]",
      "text/plain": [
       "<matplotlib.figure.Figure at 0x7f4da6026828>"
      ]
     },
     "metadata": {},
     "output_type": "display_data"
    }
   ],
   "source": [
    "df['log_Salario'] = np.log1p(df['Salario']) #o 'p' evita erro\n",
    "df['log_Salario'].plot.hist(bins=50, xlim=(0, 20))"
   ]
  },
  {
   "cell_type": "code",
   "execution_count": 35,
   "metadata": {},
   "outputs": [
    {
     "data": {
      "image/png": "[encoded data removed]",
      "text/plain": [
       "<matplotlib.figure.Figure at 0x7f4da5eab278>"
      ]
     },
     "metadata": {},
     "output_type": "display_data"
    },
    {
     "data": {
      "image/png": "[encoded data removed]",
      "text/plain": [
       "<matplotlib.figure.Figure at 0x7f4da5eab470>"
      ]
     },
     "metadata": {},
     "output_type": "display_data"
    }
   ],
   "source": [
    "sns.distplot(df['log_Salario'], fit=stats.norm);\n",
    "fig = plt.figure()\n",
    "res = stats.probplot(df['log_Salario'], plot=plt)"
   ]
  },
  {
   "cell_type": "code",
   "execution_count": 36,
   "metadata": {},
   "outputs": [
    {
     "data": {
      "text/plain": [
       "<matplotlib.axes._subplots.AxesSubplot at 0x7f4da601fba8>"
      ]
     },
     "execution_count": 36,
     "metadata": {},
     "output_type": "execute_result"
    },
    {
     "data": {
      "image/png": "[encoded data removed]",
      "text/plain": [
       "<matplotlib.figure.Figure at 0x7f4dadb61320>"
      ]
     },
     "metadata": {},
     "output_type": "display_data"
    }
   ],
   "source": [
    "df.Idade.plot.hist()"
   ]
  },
  {
   "cell_type": "code",
   "execution_count": 37,
   "metadata": {},
   "outputs": [
    {
     "data": {
      "text/plain": [
       "32.30333208361721"
      ]
     },
     "execution_count": 37,
     "metadata": {},
     "output_type": "execute_result"
    }
   ],
   "source": [
    "df[\"Idade\"].mean()"
   ]
  },
  {
   "cell_type": "code",
   "execution_count": 38,
   "metadata": {
    "scrolled": false
   },
   "outputs": [
    {
     "data": {
      "text/plain": [
       "Text(0.5,1,'Salario vs Idade')"
      ]
     },
     "execution_count": 38,
     "metadata": {},
     "output_type": "execute_result"
    },
    {
     "data": {
      "image/png": "[encoded data removed]",
      "text/plain": [
       "<matplotlib.figure.Figure at 0x7f4dacef83c8>"
      ]
     },
     "metadata": {},
     "output_type": "display_data"
    }
   ],
   "source": [
    "df.plot.scatter(x='Idade',y='Salario', alpha=0.3, c='sienna')\n",
    "plt.title('Salario vs Idade', size=18)"
   ]
  },
  {
   "cell_type": "code",
   "execution_count": 39,
   "metadata": {
    "collapsed": true
   },
   "outputs": [],
   "source": [
    "df['log_Idade'] = np.log1p(df['Idade'])"
   ]
  },
  {
   "cell_type": "code",
   "execution_count": 40,
   "metadata": {},
   "outputs": [
    {
     "data": {
      "text/plain": [
       "Text(0.5,1,'Log Salário vs log Idade')"
      ]
     },
     "execution_count": 40,
     "metadata": {},
     "output_type": "execute_result"
    },
    {
     "data": {
      "image/png": "[encoded data removed]",
      "text/plain": [
       "<matplotlib.figure.Figure at 0x7f4dacecf978>"
      ]
     },
     "metadata": {},
     "output_type": "display_data"
    }
   ],
   "source": [
    "plt.scatter(y=df['log_Salario'],x=df['log_Idade'], alpha=0.5)\n",
    "plt.title('Log Salário vs log Idade', size=18)"
   ]
  },
  {
   "cell_type": "code",
   "execution_count": 41,
   "metadata": {
    "scrolled": true
   },
   "outputs": [
    {
     "data": {
      "text/html": [
       "<div>\n",
       "<style>\n",
       "    .dataframe thead tr:only-child th {\n",
       "        text-align: right;\n",
       "    }\n",
       "\n",
       "    .dataframe thead th {\n",
       "        text-align: left;\n",
       "    }\n",
       "\n",
       "    .dataframe tbody tr th {\n",
       "        vertical-align: top;\n",
       "    }\n",
       "</style>\n",
       "<table border=\"1\" class=\"dataframe\">\n",
       "  <thead>\n",
       "    <tr style=\"text-align: right;\">\n",
       "      <th></th>\n",
       "      <th>Salario</th>\n",
       "      <th>Idade</th>\n",
       "    </tr>\n",
       "  </thead>\n",
       "  <tbody>\n",
       "    <tr>\n",
       "      <th>Salario</th>\n",
       "      <td>1.000000</td>\n",
       "      <td>0.206515</td>\n",
       "    </tr>\n",
       "    <tr>\n",
       "      <th>Idade</th>\n",
       "      <td>0.206515</td>\n",
       "      <td>1.000000</td>\n",
       "    </tr>\n",
       "  </tbody>\n",
       "</table>\n",
       "</div>"
      ],
      "text/plain": [
       "          Salario     Idade\n",
       "Salario  1.000000  0.206515\n",
       "Idade    0.206515  1.000000"
      ]
     },
     "execution_count": 41,
     "metadata": {},
     "output_type": "execute_result"
    }
   ],
   "source": [
    "df[['Salario', 'Idade']].corr(method='kendall')"
   ]
  },
  {
   "cell_type": "code",
   "execution_count": 42,
   "metadata": {},
   "outputs": [
    {
     "data": {
      "text/html": [
       "<div>\n",
       "<style>\n",
       "    .dataframe thead tr:only-child th {\n",
       "        text-align: right;\n",
       "    }\n",
       "\n",
       "    .dataframe thead th {\n",
       "        text-align: left;\n",
       "    }\n",
       "\n",
       "    .dataframe tbody tr th {\n",
       "        vertical-align: top;\n",
       "    }\n",
       "</style>\n",
       "<table border=\"1\" class=\"dataframe\">\n",
       "  <thead>\n",
       "    <tr style=\"text-align: right;\">\n",
       "      <th></th>\n",
       "      <th>Salario</th>\n",
       "      <th>Idade</th>\n",
       "    </tr>\n",
       "  </thead>\n",
       "  <tbody>\n",
       "    <tr>\n",
       "      <th>Salario</th>\n",
       "      <td>1.000000</td>\n",
       "      <td>0.153532</td>\n",
       "    </tr>\n",
       "    <tr>\n",
       "      <th>Idade</th>\n",
       "      <td>0.153532</td>\n",
       "      <td>1.000000</td>\n",
       "    </tr>\n",
       "  </tbody>\n",
       "</table>\n",
       "</div>"
      ],
      "text/plain": [
       "          Salario     Idade\n",
       "Salario  1.000000  0.153532\n",
       "Idade    0.153532  1.000000"
      ]
     },
     "execution_count": 42,
     "metadata": {},
     "output_type": "execute_result"
    }
   ],
   "source": [
    "df[['Salario', 'Idade']].corr(method='pearson')"
   ]
  },
  {
   "cell_type": "code",
   "execution_count": 43,
   "metadata": {
    "scrolled": false
   },
   "outputs": [
    {
     "data": {
      "text/html": [
       "<div>\n",
       "<style>\n",
       "    .dataframe thead tr:only-child th {\n",
       "        text-align: right;\n",
       "    }\n",
       "\n",
       "    .dataframe thead th {\n",
       "        text-align: left;\n",
       "    }\n",
       "\n",
       "    .dataframe tbody tr th {\n",
       "        vertical-align: top;\n",
       "    }\n",
       "</style>\n",
       "<table border=\"1\" class=\"dataframe\">\n",
       "  <thead>\n",
       "    <tr style=\"text-align: right;\">\n",
       "      <th></th>\n",
       "      <th>Salario</th>\n",
       "      <th>Idade</th>\n",
       "    </tr>\n",
       "  </thead>\n",
       "  <tbody>\n",
       "    <tr>\n",
       "      <th>Salario</th>\n",
       "      <td>1.000000</td>\n",
       "      <td>0.298342</td>\n",
       "    </tr>\n",
       "    <tr>\n",
       "      <th>Idade</th>\n",
       "      <td>0.298342</td>\n",
       "      <td>1.000000</td>\n",
       "    </tr>\n",
       "  </tbody>\n",
       "</table>\n",
       "</div>"
      ],
      "text/plain": [
       "          Salario     Idade\n",
       "Salario  1.000000  0.298342\n",
       "Idade    0.298342  1.000000"
      ]
     },
     "execution_count": 43,
     "metadata": {},
     "output_type": "execute_result"
    }
   ],
   "source": [
    "df[['Salario', 'Idade']].corr(method='spearman')"
   ]
  },
  {
   "cell_type": "markdown",
   "metadata": {},
   "source": [
    "Interpretação do resultado: A grande parte da população ganha 1 salário mínimo e abaixo da média R$ 1.644,00"
   ]
  },
  {
   "cell_type": "markdown",
   "metadata": {},
   "source": [
    "4.Grau de Instrução"
   ]
  },
  {
   "cell_type": "code",
   "execution_count": 44,
   "metadata": {},
   "outputs": [
    {
     "data": {
      "text/plain": [
       "7    1262753\n",
       "9     247027\n",
       "6     199335\n",
       "5     197956\n",
       "4     122405\n",
       "Name: Grau Instrução, dtype: int64"
      ]
     },
     "execution_count": 44,
     "metadata": {},
     "output_type": "execute_result"
    }
   ],
   "source": [
    "df['Grau Instrução'].value_counts().head()"
   ]
  },
  {
   "cell_type": "code",
   "execution_count": 45,
   "metadata": {
    "scrolled": true
   },
   "outputs": [
    {
     "data": {
      "text/plain": [
       "7    1262753\n",
       "9     247027\n",
       "6     199335\n",
       "5     197956\n",
       "4     122405\n",
       "8      88328\n",
       "2      59969\n",
       "3      46667\n",
       "1       8067\n",
       "Name: Grau Instrução, dtype: int64"
      ]
     },
     "execution_count": 45,
     "metadata": {},
     "output_type": "execute_result"
    }
   ],
   "source": [
    "df['Grau Instrução'].value_counts()\n"
   ]
  },
  {
   "cell_type": "code",
   "execution_count": 46,
   "metadata": {
    "scrolled": true
   },
   "outputs": [
    {
     "data": {
      "text/plain": [
       "7    0.565621\n",
       "9    0.110650\n",
       "6    0.089288\n",
       "5    0.088670\n",
       "4    0.054828\n",
       "8    0.039564\n",
       "2    0.026862\n",
       "3    0.020903\n",
       "1    0.003613\n",
       "Name: Grau Instrução, dtype: float64"
      ]
     },
     "execution_count": 46,
     "metadata": {},
     "output_type": "execute_result"
    }
   ],
   "source": [
    "df['Grau Instrução'].value_counts(3)"
   ]
  },
  {
   "cell_type": "code",
   "execution_count": 47,
   "metadata": {
    "scrolled": true
   },
   "outputs": [
    {
     "data": {
      "text/plain": [
       "Text(0.5,1,'Frequência de instrução')"
      ]
     },
     "execution_count": 47,
     "metadata": {},
     "output_type": "execute_result"
    },
    {
     "data": {
      "image/png": "[encoded data removed]",
      "text/plain": [
       "<matplotlib.figure.Figure at 0x7f4da0b0f908>"
      ]
     },
     "metadata": {},
     "output_type": "display_data"
    }
   ],
   "source": [
    "df['Grau Instrução'].value_counts().plot(kind='bar')\n",
    "plt.title('Frequência de instrução', size=20)"
   ]
  },
  {
   "cell_type": "code",
   "execution_count": 98,
   "metadata": {},
   "outputs": [
    {
     "data": {
      "text/plain": [
       "<matplotlib.axes._subplots.AxesSubplot at 0x7f4daaa02b38>"
      ]
     },
     "execution_count": 98,
     "metadata": {},
     "output_type": "execute_result"
    },
    {
     "data": {
      "image/png": "[encoded data removed]",
      "text/plain": [
       "<matplotlib.figure.Figure at 0x7f4daa9fb710>"
      ]
     },
     "metadata": {},
     "output_type": "display_data"
    }
   ],
   "source": [
    "df['log_GrauInstrução'] = np.log1p(df['Grau Instrução']) #o 'p' evita erro\n",
    "df['log_GrauInstrução'].plot.hist(bins=50, xlim=(0, 20))"
   ]
  },
  {
   "cell_type": "code",
   "execution_count": 48,
   "metadata": {
    "collapsed": true
   },
   "outputs": [],
   "source": [
    "df2 = df[['Grau Instrução', 'Salario']]"
   ]
  },
  {
   "cell_type": "code",
   "execution_count": 49,
   "metadata": {
    "scrolled": true
   },
   "outputs": [
    {
     "data": {
      "text/html": [
       "<div>\n",
       "<style>\n",
       "    .dataframe thead tr:only-child th {\n",
       "        text-align: right;\n",
       "    }\n",
       "\n",
       "    .dataframe thead th {\n",
       "        text-align: left;\n",
       "    }\n",
       "\n",
       "    .dataframe tbody tr th {\n",
       "        vertical-align: top;\n",
       "    }\n",
       "</style>\n",
       "<table border=\"1\" class=\"dataframe\">\n",
       "  <thead>\n",
       "    <tr style=\"text-align: right;\">\n",
       "      <th></th>\n",
       "      <th>Grau Instrução</th>\n",
       "      <th>Salario</th>\n",
       "    </tr>\n",
       "  </thead>\n",
       "  <tbody>\n",
       "    <tr>\n",
       "      <th>0</th>\n",
       "      <td>6</td>\n",
       "      <td>954.0</td>\n",
       "    </tr>\n",
       "    <tr>\n",
       "      <th>1</th>\n",
       "      <td>8</td>\n",
       "      <td>2500.0</td>\n",
       "    </tr>\n",
       "    <tr>\n",
       "      <th>7</th>\n",
       "      <td>4</td>\n",
       "      <td>1061.0</td>\n",
       "    </tr>\n",
       "    <tr>\n",
       "      <th>11</th>\n",
       "      <td>7</td>\n",
       "      <td>1061.0</td>\n",
       "    </tr>\n",
       "    <tr>\n",
       "      <th>12</th>\n",
       "      <td>7</td>\n",
       "      <td>1061.0</td>\n",
       "    </tr>\n",
       "    <tr>\n",
       "      <th>13</th>\n",
       "      <td>6</td>\n",
       "      <td>1061.0</td>\n",
       "    </tr>\n",
       "    <tr>\n",
       "      <th>14</th>\n",
       "      <td>2</td>\n",
       "      <td>1026.0</td>\n",
       "    </tr>\n",
       "    <tr>\n",
       "      <th>15</th>\n",
       "      <td>5</td>\n",
       "      <td>1061.0</td>\n",
       "    </tr>\n",
       "    <tr>\n",
       "      <th>16</th>\n",
       "      <td>5</td>\n",
       "      <td>1061.0</td>\n",
       "    </tr>\n",
       "    <tr>\n",
       "      <th>17</th>\n",
       "      <td>5</td>\n",
       "      <td>1700.0</td>\n",
       "    </tr>\n",
       "  </tbody>\n",
       "</table>\n",
       "</div>"
      ],
      "text/plain": [
       "    Grau Instrução  Salario\n",
       "0                6    954.0\n",
       "1                8   2500.0\n",
       "7                4   1061.0\n",
       "11               7   1061.0\n",
       "12               7   1061.0\n",
       "13               6   1061.0\n",
       "14               2   1026.0\n",
       "15               5   1061.0\n",
       "16               5   1061.0\n",
       "17               5   1700.0"
      ]
     },
     "execution_count": 49,
     "metadata": {},
     "output_type": "execute_result"
    }
   ],
   "source": [
    "df2[0:10]"
   ]
  },
  {
   "cell_type": "code",
   "execution_count": 50,
   "metadata": {
    "scrolled": false
   },
   "outputs": [
    {
     "data": {
      "text/html": [
       "<div>\n",
       "<style>\n",
       "    .dataframe thead tr:only-child th {\n",
       "        text-align: right;\n",
       "    }\n",
       "\n",
       "    .dataframe thead th {\n",
       "        text-align: left;\n",
       "    }\n",
       "\n",
       "    .dataframe tbody tr th {\n",
       "        vertical-align: top;\n",
       "    }\n",
       "</style>\n",
       "<table border=\"1\" class=\"dataframe\">\n",
       "  <thead>\n",
       "    <tr style=\"text-align: right;\">\n",
       "      <th></th>\n",
       "      <th>Admitidos/Desligados</th>\n",
       "      <th>Competência Declarada</th>\n",
       "      <th>Município</th>\n",
       "      <th>Ano Declarado</th>\n",
       "      <th>CBO 2002 Ocupação</th>\n",
       "      <th>CNAE 1.0 Classe</th>\n",
       "      <th>CNAE 2.0 Classe</th>\n",
       "      <th>CNAE 2.0 Subclas</th>\n",
       "      <th>Faixa Empr Início Jan</th>\n",
       "      <th>Grau Instrução</th>\n",
       "      <th>...</th>\n",
       "      <th>Região Corede 04</th>\n",
       "      <th>Região Gov SP</th>\n",
       "      <th>Região Senac PR</th>\n",
       "      <th>Região Senai PR</th>\n",
       "      <th>Região Senai SP</th>\n",
       "      <th>Sub-Região Senai PR</th>\n",
       "      <th>Ind Trab Parcial</th>\n",
       "      <th>Ind Trab Intermitente</th>\n",
       "      <th>log_Salario</th>\n",
       "      <th>log_Idade</th>\n",
       "    </tr>\n",
       "  </thead>\n",
       "  <tbody>\n",
       "    <tr>\n",
       "      <th>455422</th>\n",
       "      <td>2</td>\n",
       "      <td>201812</td>\n",
       "      <td>430060</td>\n",
       "      <td>2018</td>\n",
       "      <td>421125</td>\n",
       "      <td>52124</td>\n",
       "      <td>47113</td>\n",
       "      <td>4711302</td>\n",
       "      <td>6</td>\n",
       "      <td>6</td>\n",
       "      <td>...</td>\n",
       "      <td>12</td>\n",
       "      <td>999</td>\n",
       "      <td>99</td>\n",
       "      <td>{ñ</td>\n",
       "      <td>999</td>\n",
       "      <td>99</td>\n",
       "      <td>0</td>\n",
       "      <td>0</td>\n",
       "      <td>7.170888</td>\n",
       "      <td>3.637586</td>\n",
       "    </tr>\n",
       "    <tr>\n",
       "      <th>1421932</th>\n",
       "      <td>1</td>\n",
       "      <td>201812</td>\n",
       "      <td>330330</td>\n",
       "      <td>2018</td>\n",
       "      <td>521110</td>\n",
       "      <td>52337</td>\n",
       "      <td>47822</td>\n",
       "      <td>4782201</td>\n",
       "      <td>4</td>\n",
       "      <td>7</td>\n",
       "      <td>...</td>\n",
       "      <td>99</td>\n",
       "      <td>999</td>\n",
       "      <td>99</td>\n",
       "      <td>{ñ</td>\n",
       "      <td>999</td>\n",
       "      <td>99</td>\n",
       "      <td>0</td>\n",
       "      <td>0</td>\n",
       "      <td>7.078342</td>\n",
       "      <td>3.583519</td>\n",
       "    </tr>\n",
       "    <tr>\n",
       "      <th>2158258</th>\n",
       "      <td>1</td>\n",
       "      <td>201812</td>\n",
       "      <td>130260</td>\n",
       "      <td>2018</td>\n",
       "      <td>314410</td>\n",
       "      <td>74500</td>\n",
       "      <td>78108</td>\n",
       "      <td>7810800</td>\n",
       "      <td>1</td>\n",
       "      <td>7</td>\n",
       "      <td>...</td>\n",
       "      <td>99</td>\n",
       "      <td>999</td>\n",
       "      <td>99</td>\n",
       "      <td>{ñ</td>\n",
       "      <td>999</td>\n",
       "      <td>99</td>\n",
       "      <td>0</td>\n",
       "      <td>0</td>\n",
       "      <td>8.311153</td>\n",
       "      <td>3.295837</td>\n",
       "    </tr>\n",
       "    <tr>\n",
       "      <th>1417276</th>\n",
       "      <td>1</td>\n",
       "      <td>201812</td>\n",
       "      <td>330455</td>\n",
       "      <td>2018</td>\n",
       "      <td>848110</td>\n",
       "      <td>52124</td>\n",
       "      <td>47113</td>\n",
       "      <td>4711302</td>\n",
       "      <td>6</td>\n",
       "      <td>6</td>\n",
       "      <td>...</td>\n",
       "      <td>99</td>\n",
       "      <td>999</td>\n",
       "      <td>99</td>\n",
       "      <td>{ñ</td>\n",
       "      <td>999</td>\n",
       "      <td>99</td>\n",
       "      <td>0</td>\n",
       "      <td>0</td>\n",
       "      <td>7.320527</td>\n",
       "      <td>3.891820</td>\n",
       "    </tr>\n",
       "    <tr>\n",
       "      <th>190465</th>\n",
       "      <td>1</td>\n",
       "      <td>201812</td>\n",
       "      <td>530010</td>\n",
       "      <td>2018</td>\n",
       "      <td>212420</td>\n",
       "      <td>72214</td>\n",
       "      <td>62031</td>\n",
       "      <td>6203100</td>\n",
       "      <td>4</td>\n",
       "      <td>7</td>\n",
       "      <td>...</td>\n",
       "      <td>99</td>\n",
       "      <td>999</td>\n",
       "      <td>99</td>\n",
       "      <td>{ñ</td>\n",
       "      <td>999</td>\n",
       "      <td>99</td>\n",
       "      <td>0</td>\n",
       "      <td>0</td>\n",
       "      <td>7.084226</td>\n",
       "      <td>3.218876</td>\n",
       "    </tr>\n",
       "  </tbody>\n",
       "</table>\n",
       "<p>5 rows × 44 columns</p>\n",
       "</div>"
      ],
      "text/plain": [
       "         Admitidos/Desligados  Competência Declarada  Município  \\\n",
       "455422                      2                 201812     430060   \n",
       "1421932                     1                 201812     330330   \n",
       "2158258                     1                 201812     130260   \n",
       "1417276                     1                 201812     330455   \n",
       "190465                      1                 201812     530010   \n",
       "\n",
       "         Ano Declarado  CBO 2002 Ocupação  CNAE 1.0 Classe  CNAE 2.0 Classe  \\\n",
       "455422            2018             421125            52124            47113   \n",
       "1421932           2018             521110            52337            47822   \n",
       "2158258           2018             314410            74500            78108   \n",
       "1417276           2018             848110            52124            47113   \n",
       "190465            2018             212420            72214            62031   \n",
       "\n",
       "         CNAE 2.0 Subclas  Faixa Empr Início Jan  Grau Instrução    ...      \\\n",
       "455422            4711302                      6               6    ...       \n",
       "1421932           4782201                      4               7    ...       \n",
       "2158258           7810800                      1               7    ...       \n",
       "1417276           4711302                      6               6    ...       \n",
       "190465            6203100                      4               7    ...       \n",
       "\n",
       "         Região Corede 04  Região Gov SP  Região Senac PR  Região Senai PR  \\\n",
       "455422                 12            999               99               {ñ   \n",
       "1421932                99            999               99               {ñ   \n",
       "2158258                99            999               99               {ñ   \n",
       "1417276                99            999               99               {ñ   \n",
       "190465                 99            999               99               {ñ   \n",
       "\n",
       "         Região Senai SP  Sub-Região Senai PR  Ind Trab Parcial  \\\n",
       "455422               999                   99                 0   \n",
       "1421932              999                   99                 0   \n",
       "2158258              999                   99                 0   \n",
       "1417276              999                   99                 0   \n",
       "190465               999                   99                 0   \n",
       "\n",
       "         Ind Trab Intermitente  log_Salario  log_Idade  \n",
       "455422                       0     7.170888   3.637586  \n",
       "1421932                      0     7.078342   3.583519  \n",
       "2158258                      0     8.311153   3.295837  \n",
       "1417276                      0     7.320527   3.891820  \n",
       "190465                       0     7.084226   3.218876  \n",
       "\n",
       "[5 rows x 44 columns]"
      ]
     },
     "execution_count": 50,
     "metadata": {},
     "output_type": "execute_result"
    }
   ],
   "source": [
    "df.sample(200000).head()"
   ]
  },
  {
   "cell_type": "code",
   "execution_count": 51,
   "metadata": {},
   "outputs": [
    {
     "data": {
      "text/plain": [
       "<matplotlib.axes._subplots.AxesSubplot at 0x7f4dace7aeb8>"
      ]
     },
     "execution_count": 51,
     "metadata": {},
     "output_type": "execute_result"
    },
    {
     "data": {
      "image/png": "[encoded data removed]",
      "text/plain": [
       "<matplotlib.figure.Figure at 0x7f4dace7a780>"
      ]
     },
     "metadata": {},
     "output_type": "display_data"
    }
   ],
   "source": [
    "df.plot.scatter(x='Grau Instrução',y='Salario')"
   ]
  },
  {
   "cell_type": "code",
   "execution_count": 52,
   "metadata": {
    "collapsed": true
   },
   "outputs": [],
   "source": [
    "#from scipy.stats import bernoulli"
   ]
  },
  {
   "cell_type": "code",
   "execution_count": 53,
   "metadata": {
    "collapsed": true
   },
   "outputs": [],
   "source": [
    "#for n in [3,10,100,1000,10000,100000,1000000,10000000]:\n",
    "#    bern = bernoulli.rvs(p=0.7, size=n,random_state=24) # rsv=Random Variates\n",
    " #   print('\\namostra:',n)\n",
    "#    print('média:', bern.sum()/len(bern))\n",
    " #   print('var:', bern.std()**2) "
   ]
  },
  {
   "cell_type": "code",
   "execution_count": 54,
   "metadata": {
    "collapsed": true
   },
   "outputs": [],
   "source": [
    "#n = np.arange(0,100)\n",
    "#y= bernoulli.rvs(p=0.7, size=100,random_state=24) # rsv=random variates\n",
    "#y"
   ]
  },
  {
   "cell_type": "code",
   "execution_count": 55,
   "metadata": {
    "collapsed": true
   },
   "outputs": [],
   "source": [
    "#plt.plot(n,y,'o')\n",
    "#plt.title('Bernoulli')\n",
    "#plt.xlabel('Dispersion')\n",
    "#plt.show()"
   ]
  },
  {
   "cell_type": "code",
   "execution_count": 56,
   "metadata": {
    "collapsed": true
   },
   "outputs": [],
   "source": [
    "#pd.describe_option()"
   ]
  },
  {
   "cell_type": "code",
   "execution_count": 57,
   "metadata": {
    "scrolled": true
   },
   "outputs": [
    {
     "data": {
      "text/html": [
       "<div>\n",
       "<style>\n",
       "    .dataframe thead tr:only-child th {\n",
       "        text-align: right;\n",
       "    }\n",
       "\n",
       "    .dataframe thead th {\n",
       "        text-align: left;\n",
       "    }\n",
       "\n",
       "    .dataframe tbody tr th {\n",
       "        vertical-align: top;\n",
       "    }\n",
       "</style>\n",
       "<table border=\"1\" class=\"dataframe\">\n",
       "  <thead>\n",
       "    <tr style=\"text-align: right;\">\n",
       "      <th></th>\n",
       "      <th>Grau Instrução</th>\n",
       "      <th>Salario</th>\n",
       "    </tr>\n",
       "  </thead>\n",
       "  <tbody>\n",
       "    <tr>\n",
       "      <th>Grau Instrução</th>\n",
       "      <td>1.000000</td>\n",
       "      <td>0.173664</td>\n",
       "    </tr>\n",
       "    <tr>\n",
       "      <th>Salario</th>\n",
       "      <td>0.173664</td>\n",
       "      <td>1.000000</td>\n",
       "    </tr>\n",
       "  </tbody>\n",
       "</table>\n",
       "</div>"
      ],
      "text/plain": [
       "                Grau Instrução   Salario\n",
       "Grau Instrução        1.000000  0.173664\n",
       "Salario               0.173664  1.000000"
      ]
     },
     "execution_count": 57,
     "metadata": {},
     "output_type": "execute_result"
    }
   ],
   "source": [
    "df[['Grau Instrução', 'Salario']].corr(method='kendall')"
   ]
  },
  {
   "cell_type": "markdown",
   "metadata": {},
   "source": [
    "Comparando o gráfico, pude entender que mesmo representando 11% com o grau de instrução ensino superior (9), é a frente das pessoas que tem ensino médio, representando 56% da população."
   ]
  },
  {
   "cell_type": "markdown",
   "metadata": {},
   "source": [
    "5.Sexo"
   ]
  },
  {
   "cell_type": "code",
   "execution_count": 58,
   "metadata": {
    "scrolled": true
   },
   "outputs": [
    {
     "data": {
      "text/plain": [
       "1    1310312\n",
       "2     922195\n",
       "Name: Sexo, dtype: int64"
      ]
     },
     "execution_count": 58,
     "metadata": {},
     "output_type": "execute_result"
    }
   ],
   "source": [
    "df['Sexo'].value_counts(dropna=False).nlargest(7) # 1: Masculino, 2: Feminino. Temos mais o público masculino que representa a grande maioria."
   ]
  },
  {
   "cell_type": "code",
   "execution_count": 59,
   "metadata": {},
   "outputs": [
    {
     "data": {
      "text/plain": [
       "1    0.586924\n",
       "2    0.413076\n",
       "Name: Sexo, dtype: float64"
      ]
     },
     "execution_count": 59,
     "metadata": {},
     "output_type": "execute_result"
    }
   ],
   "source": [
    "df['Sexo'].value_counts(3)"
   ]
  },
  {
   "cell_type": "code",
   "execution_count": 60,
   "metadata": {},
   "outputs": [
    {
     "name": "stdout",
     "output_type": "stream",
     "text": [
      "A base tem 58.69% de homens e 41.31% de mulheres.\n"
     ]
    }
   ],
   "source": [
    "print('A base tem '+str(round(len(df[df.Sexo == 1]) / len(df) * 100, 2))+'% de homens e '+str(round(len(df[df.Sexo == 2]) / len(df) * 100, 2))+'% de mulheres.')"
   ]
  },
  {
   "cell_type": "code",
   "execution_count": 61,
   "metadata": {
    "scrolled": true
   },
   "outputs": [
    {
     "data": {
      "text/plain": [
       "1    1310312\n",
       "Name: Sexo, dtype: int64"
      ]
     },
     "execution_count": 61,
     "metadata": {},
     "output_type": "execute_result"
    }
   ],
   "source": [
    "df['Sexo'].value_counts().head(1)"
   ]
  },
  {
   "cell_type": "code",
   "execution_count": 62,
   "metadata": {
    "collapsed": true
   },
   "outputs": [],
   "source": [
    "df2 = df[['Sexo', 'Salario']]"
   ]
  },
  {
   "cell_type": "code",
   "execution_count": 63,
   "metadata": {},
   "outputs": [
    {
     "data": {
      "text/html": [
       "<div>\n",
       "<style>\n",
       "    .dataframe thead tr:only-child th {\n",
       "        text-align: right;\n",
       "    }\n",
       "\n",
       "    .dataframe thead th {\n",
       "        text-align: left;\n",
       "    }\n",
       "\n",
       "    .dataframe tbody tr th {\n",
       "        vertical-align: top;\n",
       "    }\n",
       "</style>\n",
       "<table border=\"1\" class=\"dataframe\">\n",
       "  <thead>\n",
       "    <tr style=\"text-align: right;\">\n",
       "      <th></th>\n",
       "      <th>Sexo</th>\n",
       "      <th>Salario</th>\n",
       "    </tr>\n",
       "  </thead>\n",
       "  <tbody>\n",
       "    <tr>\n",
       "      <th>0</th>\n",
       "      <td>1</td>\n",
       "      <td>954.0</td>\n",
       "    </tr>\n",
       "    <tr>\n",
       "      <th>1</th>\n",
       "      <td>1</td>\n",
       "      <td>2500.0</td>\n",
       "    </tr>\n",
       "    <tr>\n",
       "      <th>7</th>\n",
       "      <td>2</td>\n",
       "      <td>1061.0</td>\n",
       "    </tr>\n",
       "    <tr>\n",
       "      <th>11</th>\n",
       "      <td>1</td>\n",
       "      <td>1061.0</td>\n",
       "    </tr>\n",
       "    <tr>\n",
       "      <th>12</th>\n",
       "      <td>1</td>\n",
       "      <td>1061.0</td>\n",
       "    </tr>\n",
       "    <tr>\n",
       "      <th>13</th>\n",
       "      <td>1</td>\n",
       "      <td>1061.0</td>\n",
       "    </tr>\n",
       "    <tr>\n",
       "      <th>14</th>\n",
       "      <td>1</td>\n",
       "      <td>1026.0</td>\n",
       "    </tr>\n",
       "    <tr>\n",
       "      <th>15</th>\n",
       "      <td>1</td>\n",
       "      <td>1061.0</td>\n",
       "    </tr>\n",
       "    <tr>\n",
       "      <th>16</th>\n",
       "      <td>1</td>\n",
       "      <td>1061.0</td>\n",
       "    </tr>\n",
       "    <tr>\n",
       "      <th>17</th>\n",
       "      <td>1</td>\n",
       "      <td>1700.0</td>\n",
       "    </tr>\n",
       "  </tbody>\n",
       "</table>\n",
       "</div>"
      ],
      "text/plain": [
       "    Sexo  Salario\n",
       "0      1    954.0\n",
       "1      1   2500.0\n",
       "7      2   1061.0\n",
       "11     1   1061.0\n",
       "12     1   1061.0\n",
       "13     1   1061.0\n",
       "14     1   1026.0\n",
       "15     1   1061.0\n",
       "16     1   1061.0\n",
       "17     1   1700.0"
      ]
     },
     "execution_count": 63,
     "metadata": {},
     "output_type": "execute_result"
    }
   ],
   "source": [
    "df2[0:10]"
   ]
  },
  {
   "cell_type": "code",
   "execution_count": 64,
   "metadata": {},
   "outputs": [
    {
     "data": {
      "text/html": [
       "<div>\n",
       "<style>\n",
       "    .dataframe thead tr:only-child th {\n",
       "        text-align: right;\n",
       "    }\n",
       "\n",
       "    .dataframe thead th {\n",
       "        text-align: left;\n",
       "    }\n",
       "\n",
       "    .dataframe tbody tr th {\n",
       "        vertical-align: top;\n",
       "    }\n",
       "</style>\n",
       "<table border=\"1\" class=\"dataframe\">\n",
       "  <thead>\n",
       "    <tr style=\"text-align: right;\">\n",
       "      <th></th>\n",
       "      <th>Admitidos/Desligados</th>\n",
       "      <th>Competência Declarada</th>\n",
       "      <th>Município</th>\n",
       "      <th>Ano Declarado</th>\n",
       "      <th>CBO 2002 Ocupação</th>\n",
       "      <th>CNAE 1.0 Classe</th>\n",
       "      <th>CNAE 2.0 Classe</th>\n",
       "      <th>CNAE 2.0 Subclas</th>\n",
       "      <th>Faixa Empr Início Jan</th>\n",
       "      <th>Grau Instrução</th>\n",
       "      <th>...</th>\n",
       "      <th>Região Corede 04</th>\n",
       "      <th>Região Gov SP</th>\n",
       "      <th>Região Senac PR</th>\n",
       "      <th>Região Senai PR</th>\n",
       "      <th>Região Senai SP</th>\n",
       "      <th>Sub-Região Senai PR</th>\n",
       "      <th>Ind Trab Parcial</th>\n",
       "      <th>Ind Trab Intermitente</th>\n",
       "      <th>log_Salario</th>\n",
       "      <th>log_Idade</th>\n",
       "    </tr>\n",
       "  </thead>\n",
       "  <tbody>\n",
       "    <tr>\n",
       "      <th>1788298</th>\n",
       "      <td>2</td>\n",
       "      <td>201812</td>\n",
       "      <td>310620</td>\n",
       "      <td>2018</td>\n",
       "      <td>517420</td>\n",
       "      <td>74500</td>\n",
       "      <td>78302</td>\n",
       "      <td>7830200</td>\n",
       "      <td>6</td>\n",
       "      <td>5</td>\n",
       "      <td>...</td>\n",
       "      <td>99</td>\n",
       "      <td>999</td>\n",
       "      <td>99</td>\n",
       "      <td>{ñ</td>\n",
       "      <td>999</td>\n",
       "      <td>99</td>\n",
       "      <td>0</td>\n",
       "      <td>0</td>\n",
       "      <td>7.239933</td>\n",
       "      <td>3.583519</td>\n",
       "    </tr>\n",
       "    <tr>\n",
       "      <th>1314077</th>\n",
       "      <td>2</td>\n",
       "      <td>201812</td>\n",
       "      <td>351620</td>\n",
       "      <td>2018</td>\n",
       "      <td>764105</td>\n",
       "      <td>19313</td>\n",
       "      <td>15319</td>\n",
       "      <td>1531901</td>\n",
       "      <td>4</td>\n",
       "      <td>6</td>\n",
       "      <td>...</td>\n",
       "      <td>99</td>\n",
       "      <td>042</td>\n",
       "      <td>99</td>\n",
       "      <td>{ñ</td>\n",
       "      <td>14</td>\n",
       "      <td>99</td>\n",
       "      <td>0</td>\n",
       "      <td>0</td>\n",
       "      <td>5.945421</td>\n",
       "      <td>2.772589</td>\n",
       "    </tr>\n",
       "    <tr>\n",
       "      <th>1193046</th>\n",
       "      <td>2</td>\n",
       "      <td>201812</td>\n",
       "      <td>355030</td>\n",
       "      <td>2018</td>\n",
       "      <td>521140</td>\n",
       "      <td>52124</td>\n",
       "      <td>47113</td>\n",
       "      <td>4711302</td>\n",
       "      <td>1</td>\n",
       "      <td>7</td>\n",
       "      <td>...</td>\n",
       "      <td>99</td>\n",
       "      <td>001</td>\n",
       "      <td>99</td>\n",
       "      <td>{ñ</td>\n",
       "      <td>46</td>\n",
       "      <td>99</td>\n",
       "      <td>0</td>\n",
       "      <td>0</td>\n",
       "      <td>7.242082</td>\n",
       "      <td>3.555348</td>\n",
       "    </tr>\n",
       "    <tr>\n",
       "      <th>720527</th>\n",
       "      <td>1</td>\n",
       "      <td>201812</td>\n",
       "      <td>351740</td>\n",
       "      <td>2018</td>\n",
       "      <td>521110</td>\n",
       "      <td>85324</td>\n",
       "      <td>88006</td>\n",
       "      <td>8800600</td>\n",
       "      <td>5</td>\n",
       "      <td>7</td>\n",
       "      <td>...</td>\n",
       "      <td>99</td>\n",
       "      <td>041</td>\n",
       "      <td>99</td>\n",
       "      <td>{ñ</td>\n",
       "      <td>14</td>\n",
       "      <td>99</td>\n",
       "      <td>0</td>\n",
       "      <td>0</td>\n",
       "      <td>6.861711</td>\n",
       "      <td>2.833213</td>\n",
       "    </tr>\n",
       "    <tr>\n",
       "      <th>1448000</th>\n",
       "      <td>1</td>\n",
       "      <td>201812</td>\n",
       "      <td>330430</td>\n",
       "      <td>2018</td>\n",
       "      <td>992225</td>\n",
       "      <td>74993</td>\n",
       "      <td>82113</td>\n",
       "      <td>8211300</td>\n",
       "      <td>9</td>\n",
       "      <td>7</td>\n",
       "      <td>...</td>\n",
       "      <td>99</td>\n",
       "      <td>999</td>\n",
       "      <td>99</td>\n",
       "      <td>{ñ</td>\n",
       "      <td>999</td>\n",
       "      <td>99</td>\n",
       "      <td>0</td>\n",
       "      <td>0</td>\n",
       "      <td>7.013016</td>\n",
       "      <td>3.044522</td>\n",
       "    </tr>\n",
       "  </tbody>\n",
       "</table>\n",
       "<p>5 rows × 44 columns</p>\n",
       "</div>"
      ],
      "text/plain": [
       "         Admitidos/Desligados  Competência Declarada  Município  \\\n",
       "1788298                     2                 201812     310620   \n",
       "1314077                     2                 201812     351620   \n",
       "1193046                     2                 201812     355030   \n",
       "720527                      1                 201812     351740   \n",
       "1448000                     1                 201812     330430   \n",
       "\n",
       "         Ano Declarado  CBO 2002 Ocupação  CNAE 1.0 Classe  CNAE 2.0 Classe  \\\n",
       "1788298           2018             517420            74500            78302   \n",
       "1314077           2018             764105            19313            15319   \n",
       "1193046           2018             521140            52124            47113   \n",
       "720527            2018             521110            85324            88006   \n",
       "1448000           2018             992225            74993            82113   \n",
       "\n",
       "         CNAE 2.0 Subclas  Faixa Empr Início Jan  Grau Instrução    ...      \\\n",
       "1788298           7830200                      6               5    ...       \n",
       "1314077           1531901                      4               6    ...       \n",
       "1193046           4711302                      1               7    ...       \n",
       "720527            8800600                      5               7    ...       \n",
       "1448000           8211300                      9               7    ...       \n",
       "\n",
       "         Região Corede 04  Região Gov SP  Região Senac PR  Região Senai PR  \\\n",
       "1788298                99            999               99               {ñ   \n",
       "1314077                99            042               99               {ñ   \n",
       "1193046                99            001               99               {ñ   \n",
       "720527                 99            041               99               {ñ   \n",
       "1448000                99            999               99               {ñ   \n",
       "\n",
       "         Região Senai SP  Sub-Região Senai PR  Ind Trab Parcial  \\\n",
       "1788298              999                   99                 0   \n",
       "1314077               14                   99                 0   \n",
       "1193046               46                   99                 0   \n",
       "720527                14                   99                 0   \n",
       "1448000              999                   99                 0   \n",
       "\n",
       "         Ind Trab Intermitente  log_Salario  log_Idade  \n",
       "1788298                      0     7.239933   3.583519  \n",
       "1314077                      0     5.945421   2.772589  \n",
       "1193046                      0     7.242082   3.555348  \n",
       "720527                       0     6.861711   2.833213  \n",
       "1448000                      0     7.013016   3.044522  \n",
       "\n",
       "[5 rows x 44 columns]"
      ]
     },
     "execution_count": 64,
     "metadata": {},
     "output_type": "execute_result"
    }
   ],
   "source": [
    "df.sample(200000).head()"
   ]
  },
  {
   "cell_type": "code",
   "execution_count": 65,
   "metadata": {
    "scrolled": true
   },
   "outputs": [
    {
     "data": {
      "text/plain": [
       "<matplotlib.axes._subplots.AxesSubplot at 0x7f4da0adfc50>"
      ]
     },
     "execution_count": 65,
     "metadata": {},
     "output_type": "execute_result"
    },
    {
     "data": {
      "image/png": "[encoded data removed]",
      "text/plain": [
       "<matplotlib.figure.Figure at 0x7f4da19289e8>"
      ]
     },
     "metadata": {},
     "output_type": "display_data"
    }
   ],
   "source": [
    "%matplotlib inline\n",
    "\n",
    "df['Sexo'].plot(kind=\"hist\")"
   ]
  },
  {
   "cell_type": "code",
   "execution_count": 66,
   "metadata": {},
   "outputs": [
    {
     "data": {
      "text/plain": [
       "<matplotlib.axes._subplots.AxesSubplot at 0x7f4da0b030b8>"
      ]
     },
     "execution_count": 66,
     "metadata": {},
     "output_type": "execute_result"
    },
    {
     "data": {
      "image/png": "[encoded data removed]",
      "text/plain": [
       "<matplotlib.figure.Figure at 0x7f4d9a703080>"
      ]
     },
     "metadata": {},
     "output_type": "display_data"
    }
   ],
   "source": [
    "df.plot.scatter(x='Sexo',y='Salario', s=20, c='red')"
   ]
  },
  {
   "cell_type": "code",
   "execution_count": 67,
   "metadata": {},
   "outputs": [
    {
     "data": {
      "text/html": [
       "<div>\n",
       "<style>\n",
       "    .dataframe thead tr:only-child th {\n",
       "        text-align: right;\n",
       "    }\n",
       "\n",
       "    .dataframe thead th {\n",
       "        text-align: left;\n",
       "    }\n",
       "\n",
       "    .dataframe tbody tr th {\n",
       "        vertical-align: top;\n",
       "    }\n",
       "</style>\n",
       "<table border=\"1\" class=\"dataframe\">\n",
       "  <thead>\n",
       "    <tr style=\"text-align: right;\">\n",
       "      <th></th>\n",
       "      <th>Sexo</th>\n",
       "      <th>Salario</th>\n",
       "    </tr>\n",
       "  </thead>\n",
       "  <tbody>\n",
       "    <tr>\n",
       "      <th>Sexo</th>\n",
       "      <td>1.000000</td>\n",
       "      <td>-0.109892</td>\n",
       "    </tr>\n",
       "    <tr>\n",
       "      <th>Salario</th>\n",
       "      <td>-0.109892</td>\n",
       "      <td>1.000000</td>\n",
       "    </tr>\n",
       "  </tbody>\n",
       "</table>\n",
       "</div>"
      ],
      "text/plain": [
       "             Sexo   Salario\n",
       "Sexo     1.000000 -0.109892\n",
       "Salario -0.109892  1.000000"
      ]
     },
     "execution_count": 67,
     "metadata": {},
     "output_type": "execute_result"
    }
   ],
   "source": [
    "df[['Sexo', 'Salario']].corr(method='kendall')"
   ]
  },
  {
   "cell_type": "code",
   "execution_count": 68,
   "metadata": {
    "scrolled": true
   },
   "outputs": [
    {
     "data": {
      "image/png": "[encoded data removed]",
      "text/plain": [
       "<matplotlib.figure.Figure at 0x7f4d997338d0>"
      ]
     },
     "metadata": {},
     "output_type": "display_data"
    }
   ],
   "source": [
    "plt.hist(df[df.Sexo == 1].log_Salario, bins=100, alpha=0.8, label='Média salarial dos homens', color=\"Blue\")\n",
    "plt.hist(df[df.Sexo == 2].log_Salario, bins=100, alpha=0.3, label='Média salarial das mulheres', color=\"Red\")\n",
    "plt.legend(loc=7)\n",
    "plt.title('Media salarial do homem e da mulher no Brasil', size=15)\n",
    "plt.show()\n"
   ]
  },
  {
   "cell_type": "markdown",
   "metadata": {},
   "source": [
    "Analisando o gráfico e os dados anteriores, existe uma leve diferença salarial entre homens e mulheres, sendo que os homens ganham em média um pouco mais que as mulheres."
   ]
  },
  {
   "cell_type": "code",
   "execution_count": 69,
   "metadata": {},
   "outputs": [
    {
     "data": {
      "text/plain": [
       "2    969145\n",
       "Name: Raça Cor, dtype: int64"
      ]
     },
     "execution_count": 69,
     "metadata": {},
     "output_type": "execute_result"
    }
   ],
   "source": [
    "df['Raça Cor'].value_counts().head(1)"
   ]
  },
  {
   "cell_type": "code",
   "execution_count": 70,
   "metadata": {},
   "outputs": [
    {
     "data": {
      "text/plain": [
       "2    969145\n",
       "8    807917\n",
       "9    302605\n",
       "4    132459\n",
       "6     10857\n",
       "1      9524\n",
       "Name: Raça Cor, dtype: int64"
      ]
     },
     "execution_count": 70,
     "metadata": {},
     "output_type": "execute_result"
    }
   ],
   "source": [
    "df['Raça Cor'].value_counts()"
   ]
  },
  {
   "cell_type": "code",
   "execution_count": 71,
   "metadata": {},
   "outputs": [
    {
     "data": {
      "text/plain": [
       "2    0.434106\n",
       "8    0.361888\n",
       "9    0.135545\n",
       "4    0.059332\n",
       "6    0.004863\n",
       "1    0.004266\n",
       "Name: Raça Cor, dtype: float64"
      ]
     },
     "execution_count": 71,
     "metadata": {},
     "output_type": "execute_result"
    }
   ],
   "source": [
    "df['Raça Cor'].value_counts(3)"
   ]
  },
  {
   "cell_type": "code",
   "execution_count": 72,
   "metadata": {
    "collapsed": true
   },
   "outputs": [],
   "source": [
    "df2 = df[['Raça Cor', 'Salario']]"
   ]
  },
  {
   "cell_type": "code",
   "execution_count": 73,
   "metadata": {},
   "outputs": [
    {
     "data": {
      "text/html": [
       "<div>\n",
       "<style>\n",
       "    .dataframe thead tr:only-child th {\n",
       "        text-align: right;\n",
       "    }\n",
       "\n",
       "    .dataframe thead th {\n",
       "        text-align: left;\n",
       "    }\n",
       "\n",
       "    .dataframe tbody tr th {\n",
       "        vertical-align: top;\n",
       "    }\n",
       "</style>\n",
       "<table border=\"1\" class=\"dataframe\">\n",
       "  <thead>\n",
       "    <tr style=\"text-align: right;\">\n",
       "      <th></th>\n",
       "      <th>Raça Cor</th>\n",
       "      <th>Salario</th>\n",
       "    </tr>\n",
       "  </thead>\n",
       "  <tbody>\n",
       "    <tr>\n",
       "      <th>0</th>\n",
       "      <td>8</td>\n",
       "      <td>954.0</td>\n",
       "    </tr>\n",
       "    <tr>\n",
       "      <th>1</th>\n",
       "      <td>2</td>\n",
       "      <td>2500.0</td>\n",
       "    </tr>\n",
       "    <tr>\n",
       "      <th>7</th>\n",
       "      <td>2</td>\n",
       "      <td>1061.0</td>\n",
       "    </tr>\n",
       "    <tr>\n",
       "      <th>11</th>\n",
       "      <td>8</td>\n",
       "      <td>1061.0</td>\n",
       "    </tr>\n",
       "    <tr>\n",
       "      <th>12</th>\n",
       "      <td>2</td>\n",
       "      <td>1061.0</td>\n",
       "    </tr>\n",
       "    <tr>\n",
       "      <th>13</th>\n",
       "      <td>2</td>\n",
       "      <td>1061.0</td>\n",
       "    </tr>\n",
       "    <tr>\n",
       "      <th>14</th>\n",
       "      <td>2</td>\n",
       "      <td>1026.0</td>\n",
       "    </tr>\n",
       "    <tr>\n",
       "      <th>15</th>\n",
       "      <td>8</td>\n",
       "      <td>1061.0</td>\n",
       "    </tr>\n",
       "    <tr>\n",
       "      <th>16</th>\n",
       "      <td>9</td>\n",
       "      <td>1061.0</td>\n",
       "    </tr>\n",
       "    <tr>\n",
       "      <th>17</th>\n",
       "      <td>8</td>\n",
       "      <td>1700.0</td>\n",
       "    </tr>\n",
       "  </tbody>\n",
       "</table>\n",
       "</div>"
      ],
      "text/plain": [
       "    Raça Cor  Salario\n",
       "0          8    954.0\n",
       "1          2   2500.0\n",
       "7          2   1061.0\n",
       "11         8   1061.0\n",
       "12         2   1061.0\n",
       "13         2   1061.0\n",
       "14         2   1026.0\n",
       "15         8   1061.0\n",
       "16         9   1061.0\n",
       "17         8   1700.0"
      ]
     },
     "execution_count": 73,
     "metadata": {},
     "output_type": "execute_result"
    }
   ],
   "source": [
    "df2[0:10]"
   ]
  },
  {
   "cell_type": "code",
   "execution_count": 74,
   "metadata": {
    "scrolled": true
   },
   "outputs": [
    {
     "data": {
      "text/html": [
       "<div>\n",
       "<style>\n",
       "    .dataframe thead tr:only-child th {\n",
       "        text-align: right;\n",
       "    }\n",
       "\n",
       "    .dataframe thead th {\n",
       "        text-align: left;\n",
       "    }\n",
       "\n",
       "    .dataframe tbody tr th {\n",
       "        vertical-align: top;\n",
       "    }\n",
       "</style>\n",
       "<table border=\"1\" class=\"dataframe\">\n",
       "  <thead>\n",
       "    <tr style=\"text-align: right;\">\n",
       "      <th></th>\n",
       "      <th>Admitidos/Desligados</th>\n",
       "      <th>Competência Declarada</th>\n",
       "      <th>Município</th>\n",
       "      <th>Ano Declarado</th>\n",
       "      <th>CBO 2002 Ocupação</th>\n",
       "      <th>CNAE 1.0 Classe</th>\n",
       "      <th>CNAE 2.0 Classe</th>\n",
       "      <th>CNAE 2.0 Subclas</th>\n",
       "      <th>Faixa Empr Início Jan</th>\n",
       "      <th>Grau Instrução</th>\n",
       "      <th>...</th>\n",
       "      <th>Região Corede 04</th>\n",
       "      <th>Região Gov SP</th>\n",
       "      <th>Região Senac PR</th>\n",
       "      <th>Região Senai PR</th>\n",
       "      <th>Região Senai SP</th>\n",
       "      <th>Sub-Região Senai PR</th>\n",
       "      <th>Ind Trab Parcial</th>\n",
       "      <th>Ind Trab Intermitente</th>\n",
       "      <th>log_Salario</th>\n",
       "      <th>log_Idade</th>\n",
       "    </tr>\n",
       "  </thead>\n",
       "  <tbody>\n",
       "    <tr>\n",
       "      <th>209412</th>\n",
       "      <td>2</td>\n",
       "      <td>201812</td>\n",
       "      <td>530010</td>\n",
       "      <td>2018</td>\n",
       "      <td>231340</td>\n",
       "      <td>80209</td>\n",
       "      <td>85201</td>\n",
       "      <td>8520100</td>\n",
       "      <td>6</td>\n",
       "      <td>9</td>\n",
       "      <td>...</td>\n",
       "      <td>99</td>\n",
       "      <td>999</td>\n",
       "      <td>99</td>\n",
       "      <td>{ñ</td>\n",
       "      <td>999</td>\n",
       "      <td>99</td>\n",
       "      <td>0</td>\n",
       "      <td>0</td>\n",
       "      <td>8.145260</td>\n",
       "      <td>3.465736</td>\n",
       "    </tr>\n",
       "    <tr>\n",
       "      <th>1495217</th>\n",
       "      <td>2</td>\n",
       "      <td>201812</td>\n",
       "      <td>330455</td>\n",
       "      <td>2018</td>\n",
       "      <td>253120</td>\n",
       "      <td>70106</td>\n",
       "      <td>41107</td>\n",
       "      <td>4110700</td>\n",
       "      <td>4</td>\n",
       "      <td>9</td>\n",
       "      <td>...</td>\n",
       "      <td>99</td>\n",
       "      <td>999</td>\n",
       "      <td>99</td>\n",
       "      <td>{ñ</td>\n",
       "      <td>999</td>\n",
       "      <td>99</td>\n",
       "      <td>0</td>\n",
       "      <td>0</td>\n",
       "      <td>7.921173</td>\n",
       "      <td>3.367296</td>\n",
       "    </tr>\n",
       "    <tr>\n",
       "      <th>302119</th>\n",
       "      <td>2</td>\n",
       "      <td>201812</td>\n",
       "      <td>420730</td>\n",
       "      <td>2018</td>\n",
       "      <td>782510</td>\n",
       "      <td>60267</td>\n",
       "      <td>49302</td>\n",
       "      <td>4930201</td>\n",
       "      <td>1</td>\n",
       "      <td>7</td>\n",
       "      <td>...</td>\n",
       "      <td>99</td>\n",
       "      <td>999</td>\n",
       "      <td>99</td>\n",
       "      <td>{ñ</td>\n",
       "      <td>999</td>\n",
       "      <td>99</td>\n",
       "      <td>0</td>\n",
       "      <td>0</td>\n",
       "      <td>7.218177</td>\n",
       "      <td>3.465736</td>\n",
       "    </tr>\n",
       "    <tr>\n",
       "      <th>1293036</th>\n",
       "      <td>2</td>\n",
       "      <td>201812</td>\n",
       "      <td>354910</td>\n",
       "      <td>2018</td>\n",
       "      <td>784205</td>\n",
       "      <td>74500</td>\n",
       "      <td>78205</td>\n",
       "      <td>7820500</td>\n",
       "      <td>5</td>\n",
       "      <td>7</td>\n",
       "      <td>...</td>\n",
       "      <td>99</td>\n",
       "      <td>020</td>\n",
       "      <td>99</td>\n",
       "      <td>{ñ</td>\n",
       "      <td>30</td>\n",
       "      <td>99</td>\n",
       "      <td>0</td>\n",
       "      <td>0</td>\n",
       "      <td>7.194437</td>\n",
       "      <td>3.178054</td>\n",
       "    </tr>\n",
       "    <tr>\n",
       "      <th>519666</th>\n",
       "      <td>2</td>\n",
       "      <td>201812</td>\n",
       "      <td>431490</td>\n",
       "      <td>2018</td>\n",
       "      <td>141410</td>\n",
       "      <td>74500</td>\n",
       "      <td>78205</td>\n",
       "      <td>7820500</td>\n",
       "      <td>9</td>\n",
       "      <td>7</td>\n",
       "      <td>...</td>\n",
       "      <td>12</td>\n",
       "      <td>999</td>\n",
       "      <td>99</td>\n",
       "      <td>{ñ</td>\n",
       "      <td>999</td>\n",
       "      <td>99</td>\n",
       "      <td>0</td>\n",
       "      <td>0</td>\n",
       "      <td>6.844815</td>\n",
       "      <td>3.135494</td>\n",
       "    </tr>\n",
       "  </tbody>\n",
       "</table>\n",
       "<p>5 rows × 44 columns</p>\n",
       "</div>"
      ],
      "text/plain": [
       "         Admitidos/Desligados  Competência Declarada  Município  \\\n",
       "209412                      2                 201812     530010   \n",
       "1495217                     2                 201812     330455   \n",
       "302119                      2                 201812     420730   \n",
       "1293036                     2                 201812     354910   \n",
       "519666                      2                 201812     431490   \n",
       "\n",
       "         Ano Declarado  CBO 2002 Ocupação  CNAE 1.0 Classe  CNAE 2.0 Classe  \\\n",
       "209412            2018             231340            80209            85201   \n",
       "1495217           2018             253120            70106            41107   \n",
       "302119            2018             782510            60267            49302   \n",
       "1293036           2018             784205            74500            78205   \n",
       "519666            2018             141410            74500            78205   \n",
       "\n",
       "         CNAE 2.0 Subclas  Faixa Empr Início Jan  Grau Instrução    ...      \\\n",
       "209412            8520100                      6               9    ...       \n",
       "1495217           4110700                      4               9    ...       \n",
       "302119            4930201                      1               7    ...       \n",
       "1293036           7820500                      5               7    ...       \n",
       "519666            7820500                      9               7    ...       \n",
       "\n",
       "         Região Corede 04  Região Gov SP  Região Senac PR  Região Senai PR  \\\n",
       "209412                 99            999               99               {ñ   \n",
       "1495217                99            999               99               {ñ   \n",
       "302119                 99            999               99               {ñ   \n",
       "1293036                99            020               99               {ñ   \n",
       "519666                 12            999               99               {ñ   \n",
       "\n",
       "         Região Senai SP  Sub-Região Senai PR  Ind Trab Parcial  \\\n",
       "209412               999                   99                 0   \n",
       "1495217              999                   99                 0   \n",
       "302119               999                   99                 0   \n",
       "1293036               30                   99                 0   \n",
       "519666               999                   99                 0   \n",
       "\n",
       "         Ind Trab Intermitente  log_Salario  log_Idade  \n",
       "209412                       0     8.145260   3.465736  \n",
       "1495217                      0     7.921173   3.367296  \n",
       "302119                       0     7.218177   3.465736  \n",
       "1293036                      0     7.194437   3.178054  \n",
       "519666                       0     6.844815   3.135494  \n",
       "\n",
       "[5 rows x 44 columns]"
      ]
     },
     "execution_count": 74,
     "metadata": {},
     "output_type": "execute_result"
    }
   ],
   "source": [
    "df.sample(200000).head()"
   ]
  },
  {
   "cell_type": "code",
   "execution_count": 75,
   "metadata": {},
   "outputs": [
    {
     "data": {
      "text/plain": [
       "<matplotlib.axes._subplots.AxesSubplot at 0x7f4da0334ef0>"
      ]
     },
     "execution_count": 75,
     "metadata": {},
     "output_type": "execute_result"
    },
    {
     "data": {
      "image/png": "[encoded data removed]",
      "text/plain": [
       "<matplotlib.figure.Figure at 0x7f4d93d667f0>"
      ]
     },
     "metadata": {},
     "output_type": "display_data"
    }
   ],
   "source": [
    "df['Raça Cor'].value_counts().plot(kind='bar')"
   ]
  },
  {
   "cell_type": "code",
   "execution_count": 79,
   "metadata": {},
   "outputs": [],
   "source": [
    "#%matplotlib inline\n",
    "\n",
    "#df['Raça Cor'].plot(kind=\"h\")"
   ]
  },
  {
   "cell_type": "code",
   "execution_count": 77,
   "metadata": {
    "scrolled": true
   },
   "outputs": [
    {
     "data": {
      "text/plain": [
       "<matplotlib.axes._subplots.AxesSubplot at 0x7f4dacf53160>"
      ]
     },
     "execution_count": 77,
     "metadata": {},
     "output_type": "execute_result"
    },
    {
     "data": {
      "image/png": "[encoded data removed]",
      "text/plain": [
       "<matplotlib.figure.Figure at 0x7f4daab62b00>"
      ]
     },
     "metadata": {},
     "output_type": "display_data"
    }
   ],
   "source": [
    "df.plot.scatter(x='Raça Cor',y='Salario', s=20, c='Green')"
   ]
  },
  {
   "cell_type": "code",
   "execution_count": null,
   "metadata": {},
   "outputs": [],
   "source": [
    "#pd.get_option('display.max_columns')"
   ]
  },
  {
   "cell_type": "code",
   "execution_count": 78,
   "metadata": {
    "scrolled": false
   },
   "outputs": [
    {
     "data": {
      "text/html": [
       "<div>\n",
       "<style>\n",
       "    .dataframe thead tr:only-child th {\n",
       "        text-align: right;\n",
       "    }\n",
       "\n",
       "    .dataframe thead th {\n",
       "        text-align: left;\n",
       "    }\n",
       "\n",
       "    .dataframe tbody tr th {\n",
       "        vertical-align: top;\n",
       "    }\n",
       "</style>\n",
       "<table border=\"1\" class=\"dataframe\">\n",
       "  <thead>\n",
       "    <tr style=\"text-align: right;\">\n",
       "      <th></th>\n",
       "      <th>Raça Cor</th>\n",
       "      <th>Salario</th>\n",
       "    </tr>\n",
       "  </thead>\n",
       "  <tbody>\n",
       "    <tr>\n",
       "      <th>Raça Cor</th>\n",
       "      <td>1.000000</td>\n",
       "      <td>-0.103326</td>\n",
       "    </tr>\n",
       "    <tr>\n",
       "      <th>Salario</th>\n",
       "      <td>-0.103326</td>\n",
       "      <td>1.000000</td>\n",
       "    </tr>\n",
       "  </tbody>\n",
       "</table>\n",
       "</div>"
      ],
      "text/plain": [
       "          Raça Cor   Salario\n",
       "Raça Cor  1.000000 -0.103326\n",
       "Salario  -0.103326  1.000000"
      ]
     },
     "execution_count": 78,
     "metadata": {},
     "output_type": "execute_result"
    }
   ],
   "source": [
    "df[['Raça Cor', 'Salario']].corr(method='kendall')"
   ]
  },
  {
   "cell_type": "markdown",
   "metadata": {},
   "source": [
    "Os brancos não ganham mais que os outros grupos no total."
   ]
  },
  {
   "cell_type": "code",
   "execution_count": 90,
   "metadata": {},
   "outputs": [
    {
     "name": "stdout",
     "output_type": "stream",
     "text": [
      "   Raça Cor  log_Salario\n",
      "0         1     7.291293\n",
      "1         2     7.308394\n",
      "2         4     7.183079\n",
      "3         6     7.350755\n",
      "4         8     7.174312\n",
      "5         9     7.203077\n"
     ]
    }
   ],
   "source": [
    "Raça_cor = df.groupby('Raça Cor')['log_Salario'].mean().reset_index()\n",
    "print(Raça_cor)"
   ]
  },
  {
   "cell_type": "markdown",
   "metadata": {},
   "source": [
    "Hipótese: Os Brancos são a maioria com ensino médio?"
   ]
  },
  {
   "cell_type": "code",
   "execution_count": 92,
   "metadata": {},
   "outputs": [
    {
     "data": {
      "text/plain": [
       "dtype('int64')"
      ]
     },
     "execution_count": 92,
     "metadata": {},
     "output_type": "execute_result"
    }
   ],
   "source": [
    "df['Raça Cor'].dtypes"
   ]
  },
  {
   "cell_type": "code",
   "execution_count": 94,
   "metadata": {},
   "outputs": [],
   "source": [
    "df['Raça Cor'] = df['Raça Cor'].astype(str)"
   ]
  },
  {
   "cell_type": "code",
   "execution_count": 95,
   "metadata": {},
   "outputs": [],
   "source": [
    "df['Raça Cor'].replace({'1': 'Indígena',\n",
    "                              '2': 'Branca',\n",
    "                              '4': 'Preta',\n",
    "                              '6': 'Amarela',\n",
    "                              '8': 'Parda',\n",
    "                              '9': 'Não identificada',\n",
    "                              '-1': 'Ignorado'}, inplace=True)"
   ]
  },
  {
   "cell_type": "code",
   "execution_count": 96,
   "metadata": {},
   "outputs": [
    {
     "data": {
      "text/plain": [
       "Branca              969145\n",
       "Parda               807917\n",
       "Não identificada    302605\n",
       "Preta               132459\n",
       "Amarela              10857\n",
       "Indígena              9524\n",
       "Name: Raça Cor, dtype: int64"
      ]
     },
     "execution_count": 96,
     "metadata": {},
     "output_type": "execute_result"
    }
   ],
   "source": [
    "df['Raça Cor'].value_counts()"
   ]
  },
  {
   "cell_type": "code",
   "execution_count": 102,
   "metadata": {},
   "outputs": [
    {
     "data": {
      "text/plain": [
       "(nan, nan, nan, nan, nan)"
      ]
     },
     "execution_count": 102,
     "metadata": {},
     "output_type": "execute_result"
    }
   ],
   "source": [
    "M_Branca = df[df['Raça Cor'] == 2].log_GrauInstrução.mean()\n",
    "M_Parda = df[df['Raça Cor'] == 8].log_GrauInstrução.mean()\n",
    "M_Preta = df[df['Raça Cor'] == 4].log_GrauInstrução.mean()\n",
    "M_Amarela = df[df['Raça Cor'] == 6].log_GrauInstrução.mean()\n",
    "M_Indígena = df[df['Raça Cor'] == 1].log_GrauInstrução.mean()\n",
    "\n",
    "Branca = df[df['Raça Cor'] == 2].log_GrauInstrução.std()\n",
    "Parda = df[df['Raça Cor'] == 8].log_GrauInstrução.std()\n",
    "Preta = df[df['Raça Cor'] == 4].log_GrauInstrução.std()\n",
    "Amarela = df[df['Raça Cor'] == 6].log_GrauInstrução.std()\n",
    "Indígena = df[df['Raça Cor'] == 1].log_GrauInstrução.std()\n",
    "\n",
    "\n",
    "\n",
    "M_Branca, M_Parda, M_Preta, M_Amarela, M_Indígena"
   ]
  },
  {
   "cell_type": "code",
   "execution_count": 103,
   "metadata": {},
   "outputs": [
    {
     "data": {
      "text/plain": [
       "False"
      ]
     },
     "execution_count": 103,
     "metadata": {},
     "output_type": "execute_result"
    }
   ],
   "source": [
    "stats.norm.interval(0.95, loc=M_Branca, scale=Branca)[0] < M_Parda < stats.norm.interval(0.95, loc=M_Branca, scale=Branca)[1]"
   ]
  },
  {
   "cell_type": "markdown",
   "metadata": {},
   "source": [
    "Os brancos não são a maioria."
   ]
  }
 ],
 "metadata": {
  "kernelspec": {
   "display_name": "Python 3",
   "language": "python",
   "name": "python3"
  },
  "language_info": {
   "codemirror_mode": {
    "name": "ipython",
    "version": 3
   },
   "file_extension": ".py",
   "mimetype": "text/x-python",
   "name": "python",
   "nbconvert_exporter": "python",
   "pygments_lexer": "ipython3",
   "version": "3.6.3"
  },
  "latex_envs": {
   "LaTeX_envs_menu_present": true,
   "autoclose": false,
   "autocomplete": true,
   "bibliofile": "biblio.bib",
   "cite_by": "apalike",
   "current_citInitial": 1,
   "eqLabelWithNumbers": true,
   "eqNumInitial": 1,
   "hotkeys": {
    "equation": "Ctrl-E",
    "itemize": "Ctrl-I"
   },
   "labels_anchors": false,
   "latex_user_defs": false,
   "report_style_numbering": false,
   "user_envs_cfg": false
  },
  "toc": {
   "base_numbering": 1,
   "nav_menu": {},
   "number_sections": true,
   "sideBar": true,
   "skip_h1_title": false,
   "title_cell": "Table of Contents",
   "title_sidebar": "Contents",
   "toc_cell": false,
   "toc_position": {},
   "toc_section_display": true,
   "toc_window_display": false
  },
  "varInspector": {
   "cols": {
    "lenName": 16,
    "lenType": 16,
    "lenVar": 40
   },
   "kernels_config": {
    "python": {
     "delete_cmd_postfix": "",
     "delete_cmd_prefix": "del ",
     "library": "var_list.py",
     "varRefreshCmd": "print(var_dic_list())"
    },
    "r": {
     "delete_cmd_postfix": ") ",
     "delete_cmd_prefix": "rm(",
     "library": "var_list.r",
     "varRefreshCmd": "cat(var_dic_list()) "
    }
   },
   "types_to_exclude": [
    "module",
    "function",
    "builtin_function_or_method",
    "instance",
    "_Feature"
   ],
   "window_display": false
  }
 },
 "nbformat": 4,
 "nbformat_minor": 2
}
